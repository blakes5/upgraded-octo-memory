{
 "cells": [
  {
   "cell_type": "markdown",
   "id": "varying-dependence",
   "metadata": {},
   "source": [
    "## PDF Extractor"
   ]
  },
  {
   "cell_type": "code",
   "execution_count": 1,
   "id": "white-petroleum",
   "metadata": {},
   "outputs": [
    {
     "data": {
      "text/plain": [
       "the     35\n",
       "to      35\n",
       "and     29\n",
       "will    26\n",
       "you     22\n",
       "for     21\n",
       "be      20\n",
       "2021    20\n",
       "of      20\n",
       "on      19\n",
       "your    16\n",
       "is      13\n",
       "that    12\n",
       "can     11\n",
       "The     11\n",
       "dtype: int64"
      ]
     },
     "execution_count": 1,
     "metadata": {},
     "output_type": "execute_result"
    }
   ],
   "source": [
    "import fitz\n",
    "import pandas as pd\n",
    "from collections import Counter\n",
    "\n",
    "doc = fitz.open('discreteMath.pdf')\n",
    "# I used the Syllabus for my Discrete Math class I'm in this semester! (MATH315)\n",
    "text = \"\".join(page.get_text(\"text\") for page in doc)\n",
    "words = pd.Series(text.split())\n",
    "words.value_counts().head(15)"
   ]
  },
  {
   "cell_type": "markdown",
   "id": "minor-romantic",
   "metadata": {},
   "source": [
    "## Reddit Image Transcriber"
   ]
  },
  {
   "cell_type": "code",
   "execution_count": 2,
   "id": "crude-baking",
   "metadata": {},
   "outputs": [],
   "source": [
    "import requests \n",
    "\n",
    "URL = \"https://www.reddit.com/r/memes/.json\"\n",
    "data = requests.get(\"https://www.reddit.com/r/memes/.json\", headers = {'User-agent': 'your bot 0.1'}).json()"
   ]
  },
  {
   "cell_type": "code",
   "execution_count": 3,
   "id": "chronic-remains",
   "metadata": {},
   "outputs": [
    {
     "data": {
      "text/plain": [
       "['https://i.redd.it/o58awotfsqy61.jpg',\n",
       " 'https://i.redd.it/35guiw5o8qy61.gif',\n",
       " 'https://i.redd.it/2goasi3v7ry61.jpg',\n",
       " 'https://i.redd.it/hpvffsmtary61.jpg',\n",
       " 'https://i.redd.it/leeen0m2mry61.jpg',\n",
       " 'https://i.redd.it/s8gj5g3ikqy61.jpg',\n",
       " 'https://i.redd.it/2fay7cojdqy61.jpg',\n",
       " 'https://i.redd.it/j5uic1jv5ry61.jpg',\n",
       " 'https://i.redd.it/lll8abbjtqy61.png',\n",
       " 'https://i.redd.it/i8d5rnbagry61.jpg',\n",
       " 'https://i.redd.it/ns9q5hfikqy61.jpg',\n",
       " 'https://i.redd.it/ffjx04fqtqy61.jpg',\n",
       " 'https://i.redd.it/dvom6tk0fry61.jpg',\n",
       " 'https://i.redd.it/pyd5x7oajqy61.jpg',\n",
       " 'https://i.redd.it/ez072tnp3qy61.jpg',\n",
       " 'https://i.redd.it/o4kp2tgnsqy61.jpg',\n",
       " 'https://i.redd.it/mfzmum24bqy61.jpg',\n",
       " 'https://i.redd.it/n1gtjc9fvqy61.jpg',\n",
       " 'https://i.redd.it/q7zjjkyc2qy61.jpg',\n",
       " 'https://i.redd.it/7sjjhvbe5qy61.jpg',\n",
       " 'https://i.redd.it/5blgs5mj7qy61.png',\n",
       " 'https://i.redd.it/4xjfy6mm8py61.jpg',\n",
       " 'https://i.redd.it/j1b66xf4mpy61.jpg']"
      ]
     },
     "execution_count": 3,
     "metadata": {},
     "output_type": "execute_result"
    }
   ],
   "source": [
    "##urls = [i for i in data['data']['children']['data']['url']]\n",
    "i = 0\n",
    "urls = []\n",
    "while (i < 25): \n",
    "    urls = urls + [data['data']['children'][i]['data']['url']]\n",
    "    i += 1\n",
    "\n",
    "#print(urls)\n",
    "images = [filename for filename in urls if filename[-4:] in (\".png\", \".jpg\", \"jpeg\", \".gif\")]\n",
    "images"
   ]
  },
  {
   "cell_type": "code",
   "execution_count": 5,
   "id": "acoustic-detroit",
   "metadata": {},
   "outputs": [],
   "source": [
    "try:\n",
    "    from PIL import Image\n",
    "except ImportError:\n",
    "    import Image\n",
    "import pytesseract\n",
    "\n",
    "\n",
    "##print(pytesseract.image_to_string(Image.open('One friend.jpg')))"
   ]
  },
  {
   "cell_type": "code",
   "execution_count": 6,
   "id": "divine-cement",
   "metadata": {},
   "outputs": [],
   "source": [
    "import io as io\n",
    "\n",
    "j = 0\n",
    "all_text = ''\n",
    "while (j < 23): \n",
    "    response = requests.get(images[j])\n",
    "    img = Image.open(io.BytesIO(response.content))\n",
    "    text = pytesseract.image_to_string(img)\n",
    "    all_text = all_text + text\n",
    "    j += 1\n",
    "    \n",
    "#print(all_text)"
   ]
  },
  {
   "cell_type": "code",
   "execution_count": 9,
   "id": "breeding-italian",
   "metadata": {},
   "outputs": [
    {
     "name": "stdout",
     "output_type": "stream",
     "text": [
      "the         13\n",
      "a           13\n",
      "to           9\n",
      "you          8\n",
      "and          7\n",
      "            ..\n",
      "Attacks:     1\n",
      "mLeyV/       1\n",
      "GAS          1\n",
      "AE           1\n",
      "CAN          1\n",
      "Length: 356, dtype: int64\n"
     ]
    }
   ],
   "source": [
    "words = pd.Series(all_text.split())\n",
    "print(words.value_counts())"
   ]
  },
  {
   "cell_type": "code",
   "execution_count": 10,
   "id": "olympic-excellence",
   "metadata": {},
   "outputs": [
    {
     "name": "stdout",
     "output_type": "stream",
     "text": [
      "['boys iy ae ~ £2', 'ss', 'sou', 'clo', 'tio ele', 'nyas', 'th ere', 'plenty of gas', 'shag', 'english', 'piz', 'german w birth control pills| x birth control pills', 'antibabypillen', 'uo', 'fs shows', 'ul ul e', 'porn', 'hub shows porn', 'perfect clock', \"n't exi- |\", 'meme duolingo', 'looks', 'spanish lessons', 'alert rocket', 'jerusalem', 'tel aviv', 'ashkelon', 'ashdod ashley narine', 'group yrojects', 'friend calls', \"ca n't disagree ee\", 'fpingst', 'ae', 'raa', 'iwenmare ’', 'sais ars', 'tald i pibaa', 'eer tia', '+ €', 'sini ses ai ie', 'men', '’ s', 'reject modernity', 'tin ot', 'penis', 'nah', 'dick hut', 'cockpit', '® < =', 'ee', '° ve', 'not everyone can read this', 'fi yuo cna', 'yuo hvae', 'sgtrane mnid', '\\\\ cdnuolt biveiee taht | cluod aulacity uesdnatnrd waht |', 'phaonmneal pweor', 'hmuan mnid', 'cmabrigde uinervtisy', \"dseno't mtaetr\", 'waht oerdr', 'itteres', 'olny iproamtnt tihng', 'isat itteer', 'rghit pclae', 'taotl mses', 'tihs', 'huamn mnid deos', 'ervey lteter', 'azanmig', 'yaeh', '| awlyas tghuhot', 'share it godzilla', 'contestant', 'young age', 'reality', 'aren ’ t', 'brand \\\\', 'sia', 'nn', 'nm', 'years later™ < people', 'hot food', 'hot food untillitys ool']\n"
     ]
    },
    {
     "data": {
      "text/plain": [
       "pills      2\n",
       "people     2\n",
       "waht       2\n",
       "®          2\n",
       "taht       2\n",
       "food       3\n",
       "n't        3\n",
       "’          3\n",
       "german     3\n",
       "was        3\n",
       "in         3\n",
       "mnid       3\n",
       "tihs       3\n",
       "porn       3\n",
       "that       3\n",
       "raed       4\n",
       "is         4\n",
       "time       4\n",
       "1          4\n",
       "me         5\n",
       "it         5\n",
       "can        6\n",
       "2          6\n",
       "and        7\n",
       "ot         7\n",
       "i          8\n",
       "you        9\n",
       "to         9\n",
       "the       16\n",
       "a         16\n",
       "dtype: int64"
      ]
     },
     "execution_count": 10,
     "metadata": {},
     "output_type": "execute_result"
    }
   ],
   "source": [
    "from textblob import TextBlob\n",
    "\n",
    "blob = TextBlob(all_text)\n",
    "print(blob.noun_phrases)\n",
    "\n",
    "# Sorted with pandas\n",
    "pd.Series(blob.word_counts).sort_values().tail(30)"
   ]
  },
  {
   "cell_type": "code",
   "execution_count": 11,
   "id": "respected-state",
   "metadata": {},
   "outputs": [
    {
     "name": "stdout",
     "output_type": "stream",
     "text": [
      "0.25\n"
     ]
    }
   ],
   "source": [
    "blob = TextBlob(text)\n",
    "print(blob.sentiment.polarity)\n",
    "# Value from -1 to 1 about how positive/negative the post's words are"
   ]
  },
  {
   "cell_type": "markdown",
   "id": "special-salon",
   "metadata": {},
   "source": [
    "#### Other subreddit (with images and text)"
   ]
  },
  {
   "cell_type": "code",
   "execution_count": 12,
   "id": "athletic-penetration",
   "metadata": {
    "tags": []
   },
   "outputs": [],
   "source": [
    "mandjtv = requests.get(\"https://www.reddit.com/r/MandJTV/.json\", headers = {'User-agent': 'your bot 0.1'}).json()"
   ]
  },
  {
   "cell_type": "code",
   "execution_count": 31,
   "id": "functional-antenna",
   "metadata": {},
   "outputs": [],
   "source": [
    "i = 0\n",
    "mandj_urls = []\n",
    "while (i < 26): \n",
    "    mandj_urls = mandj_urls + [mandjtv['data']['children'][i]['data']['url']]\n",
    "    i += 1\n",
    "\n",
    "##print(survivor_urls)\n",
    "imgs = [filename for filename in mandj_urls if filename[-4:] in (\".png\", \".jpg\", \"jpeg\", \".gif\")]\n",
    "#imgs"
   ]
  },
  {
   "cell_type": "code",
   "execution_count": 14,
   "id": "pointed-organizer",
   "metadata": {},
   "outputs": [],
   "source": [
    "j = 0\n",
    "all_Text = ''\n",
    "while (j < 24): \n",
    "    response = requests.get(imgs[j])\n",
    "    Img = Image.open(io.BytesIO(response.content))\n",
    "    Text = pytesseract.image_to_string(Img)\n",
    "    all_Text += Text\n",
    "    j += 1\n",
    "    \n",
    "#print(all_Text)"
   ]
  },
  {
   "cell_type": "code",
   "execution_count": 15,
   "id": "induced-bulgarian",
   "metadata": {},
   "outputs": [
    {
     "name": "stdout",
     "output_type": "stream",
     "text": [
      "the          8\n",
      "is           6\n",
      "and          5\n",
      "a            4\n",
      "it           4\n",
      "            ..\n",
      "ASPITPIAY    1\n",
      "upvotes      1\n",
      "Sapph        1\n",
      "oi           1\n",
      "tated        1\n",
      "Length: 274, dtype: int64\n"
     ]
    }
   ],
   "source": [
    "words = pd.Series(all_Text.split())\n",
    "print(words.value_counts())"
   ]
  },
  {
   "cell_type": "code",
   "execution_count": 32,
   "id": "informal-scoop",
   "metadata": {},
   "outputs": [
    {
     "name": "stdout",
     "output_type": "stream",
     "text": [
      "my        3\n",
      "in        3\n",
      "water     3\n",
      "me        3\n",
      "z         3\n",
      "snom      3\n",
      "ae        4\n",
      "you       4\n",
      "to        4\n",
      "‘         4\n",
      "a         5\n",
      "it        6\n",
      "and       6\n",
      "is        7\n",
      "the      12\n",
      "dtype: int64\n"
     ]
    }
   ],
   "source": [
    "Blob = TextBlob(all_Text)\n",
    "#print(Blob.noun_phrases)\n",
    "\n",
    "# Sorted with pandas\n",
    "MandJTV = pd.Series(Blob.word_counts).sort_values().tail(15)\n",
    "print(MandJTV)"
   ]
  },
  {
   "cell_type": "code",
   "execution_count": 36,
   "id": "lovely-ability",
   "metadata": {},
   "outputs": [],
   "source": [
    "mandj_words = [\"snom\", \"this\", \"ocean\", \"to\", \"my\", \"water\", \"of\", \"you\", \"ae\", \"and\", \"it\", \"‘\", \"a\", \"is\", \"the\"]"
   ]
  },
  {
   "cell_type": "code",
   "execution_count": 34,
   "id": "decimal-composer",
   "metadata": {},
   "outputs": [
    {
     "data": {
      "image/png": "[encoded data removed]",
      "text/plain": [
       "<Figure size 432x288 with 1 Axes>"
      ]
     },
     "metadata": {
      "needs_background": "light"
     },
     "output_type": "display_data"
    }
   ],
   "source": [
    "import numpy as np\n",
    "from matplotlib import pyplot as plt\n",
    "\n",
    "plt.bar(mandj_words, MandJTV, color = \"red\")\n",
    "plt.yticks([i for i in range(0,13,1)])\n",
    "plt.show()\n",
    "\n",
    "# I was going to do a histogram, but for some reason it only kept 12 of the values, not all 15\n",
    "# Although I think a bar graph works better because the gaps between bars help distinguish which bar is with which word"
   ]
  },
  {
   "cell_type": "markdown",
   "id": "organic-richardson",
   "metadata": {},
   "source": [
    "## Face Finding"
   ]
  },
  {
   "cell_type": "code",
   "execution_count": 38,
   "id": "arranged-screen",
   "metadata": {},
   "outputs": [],
   "source": [
    "import numpy as np\n",
    "import cv2\n",
    "\n",
    "face_cascade = cv2.CascadeClassifier('haarcascade_frontalface_default.xml')\n",
    "eye_cascade = cv2.CascadeClassifier('haarcascade_eye.xml')\n",
    "\n",
    "img = cv2.imread('Josh smiling.jpg')\n",
    "gray = cv2.cvtColor(img, cv2.COLOR_BGR2GRAY)"
   ]
  },
  {
   "cell_type": "code",
   "execution_count": 39,
   "id": "comparable-tuition",
   "metadata": {},
   "outputs": [],
   "source": [
    "faces = face_cascade.detectMultiScale(gray, 1.3, 5)\n",
    "for (x,y,w,h) in faces:\n",
    "    img = cv2.rectangle(img,(x,y),(x+w,y+h),(255,0,0),2)\n",
    "    roi_gray = gray[y:y+h, x:x+w]\n",
    "    roi_color = img[y:y+h, x:x+w]\n",
    "    eyes = eye_cascade.detectMultiScale(roi_gray)\n",
    "    for (ex,ey,ew,eh) in eyes:\n",
    "        cv2.rectangle(roi_color,(ex,ey),(ex+ew,ey+eh),(0,255,0),2)\n",
    "\n",
    "cv2.imshow('img', img)\n",
    "cv2.waitKey(0)\n",
    "cv2.destroyAllWindows()"
   ]
  },
  {
   "cell_type": "markdown",
   "id": "private-commission",
   "metadata": {},
   "source": [
    "And hey would you look at that, it recognizes Josh Peck smiling from the hit show \"Drake and Josh\" (very good show by the way)."
   ]
  }
 ],
 "metadata": {
  "kernelspec": {
   "display_name": "Python 3",
   "language": "python",
   "name": "python3"
  },
  "language_info": {
   "codemirror_mode": {
    "name": "ipython",
    "version": 3
   },
   "file_extension": ".py",
   "mimetype": "text/x-python",
   "name": "python",
   "nbconvert_exporter": "python",
   "pygments_lexer": "ipython3",
   "version": "3.9.4"
  }
 },
 "nbformat": 4,
 "nbformat_minor": 5
}
