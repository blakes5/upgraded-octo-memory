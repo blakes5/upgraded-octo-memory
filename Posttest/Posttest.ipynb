{
 "cells": [
  {
   "cell_type": "code",
   "execution_count": 18,
   "id": "secure-question",
   "metadata": {},
   "outputs": [],
   "source": [
    "import pandas as pd\n",
    "import matplotlib.pyplot as plt\n",
    "import numpy as np"
   ]
  },
  {
   "cell_type": "code",
   "execution_count": 13,
   "id": "center-space",
   "metadata": {},
   "outputs": [
    {
     "data": {
      "text/html": [
       "<div>\n",
       "<style scoped>\n",
       "    .dataframe tbody tr th:only-of-type {\n",
       "        vertical-align: middle;\n",
       "    }\n",
       "\n",
       "    .dataframe tbody tr th {\n",
       "        vertical-align: top;\n",
       "    }\n",
       "\n",
       "    .dataframe thead th {\n",
       "        text-align: right;\n",
       "    }\n",
       "</style>\n",
       "<table border=\"1\" class=\"dataframe\">\n",
       "  <thead>\n",
       "    <tr style=\"text-align: right;\">\n",
       "      <th></th>\n",
       "      <th>date</th>\n",
       "      <th>user</th>\n",
       "      <th>page</th>\n",
       "      <th>duration</th>\n",
       "    </tr>\n",
       "  </thead>\n",
       "  <tbody>\n",
       "    <tr>\n",
       "      <th>26958</th>\n",
       "      <td>2021-03-01</td>\n",
       "      <td>20761</td>\n",
       "      <td>listings</td>\n",
       "      <td>45</td>\n",
       "    </tr>\n",
       "    <tr>\n",
       "      <th>26959</th>\n",
       "      <td>2021-03-01</td>\n",
       "      <td>20762</td>\n",
       "      <td>profile</td>\n",
       "      <td>70</td>\n",
       "    </tr>\n",
       "    <tr>\n",
       "      <th>26960</th>\n",
       "      <td>2021-03-01</td>\n",
       "      <td>20762</td>\n",
       "      <td>profile</td>\n",
       "      <td>5</td>\n",
       "    </tr>\n",
       "    <tr>\n",
       "      <th>26961</th>\n",
       "      <td>2021-03-01</td>\n",
       "      <td>20762</td>\n",
       "      <td>profile</td>\n",
       "      <td>18</td>\n",
       "    </tr>\n",
       "    <tr>\n",
       "      <th>26962</th>\n",
       "      <td>2021-03-01</td>\n",
       "      <td>20762</td>\n",
       "      <td>profile</td>\n",
       "      <td>37</td>\n",
       "    </tr>\n",
       "    <tr>\n",
       "      <th>26963</th>\n",
       "      <td>2021-03-01</td>\n",
       "      <td>20762</td>\n",
       "      <td>search</td>\n",
       "      <td>25</td>\n",
       "    </tr>\n",
       "    <tr>\n",
       "      <th>26964</th>\n",
       "      <td>2021-03-01</td>\n",
       "      <td>20762</td>\n",
       "      <td>profile</td>\n",
       "      <td>27</td>\n",
       "    </tr>\n",
       "    <tr>\n",
       "      <th>26965</th>\n",
       "      <td>2021-03-01</td>\n",
       "      <td>20762</td>\n",
       "      <td>listings</td>\n",
       "      <td>66</td>\n",
       "    </tr>\n",
       "    <tr>\n",
       "      <th>26966</th>\n",
       "      <td>2021-03-01</td>\n",
       "      <td>20762</td>\n",
       "      <td>about</td>\n",
       "      <td>18</td>\n",
       "    </tr>\n",
       "    <tr>\n",
       "      <th>26967</th>\n",
       "      <td>2021-03-01</td>\n",
       "      <td>20762</td>\n",
       "      <td>profile</td>\n",
       "      <td>28</td>\n",
       "    </tr>\n",
       "  </tbody>\n",
       "</table>\n",
       "</div>"
      ],
      "text/plain": [
       "             date   user      page  duration\n",
       "26958  2021-03-01  20761  listings        45\n",
       "26959  2021-03-01  20762   profile        70\n",
       "26960  2021-03-01  20762   profile         5\n",
       "26961  2021-03-01  20762   profile        18\n",
       "26962  2021-03-01  20762   profile        37\n",
       "26963  2021-03-01  20762    search        25\n",
       "26964  2021-03-01  20762   profile        27\n",
       "26965  2021-03-01  20762  listings        66\n",
       "26966  2021-03-01  20762     about        18\n",
       "26967  2021-03-01  20762   profile        28"
      ]
     },
     "execution_count": 13,
     "metadata": {},
     "output_type": "execute_result"
    }
   ],
   "source": [
    "logs = pd.read_csv('logs.csv')\n",
    "logs.tail(10)"
   ]
  },
  {
   "cell_type": "code",
   "execution_count": 9,
   "id": "characteristic-classic",
   "metadata": {},
   "outputs": [
    {
     "data": {
      "text/plain": [
       "page\n",
       "about       42.325700\n",
       "home        42.376633\n",
       "listings    41.908650\n",
       "profile     41.322659\n",
       "search      41.960370\n",
       "Name: duration, dtype: float64"
      ]
     },
     "execution_count": 9,
     "metadata": {},
     "output_type": "execute_result"
    }
   ],
   "source": [
    "logs.groupby('page')['duration'].mean()"
   ]
  },
  {
   "cell_type": "markdown",
   "id": "liberal-china",
   "metadata": {},
   "source": [
    "We can see that all 5 categories of pages have similar means with home just barely having the largest mean of 42.3766"
   ]
  },
  {
   "cell_type": "code",
   "execution_count": 25,
   "id": "parental-batch",
   "metadata": {},
   "outputs": [
    {
     "data": {
      "image/png": "[encoded data removed]",
      "text/plain": [
       "<Figure size 432x288 with 2 Axes>"
      ]
     },
     "metadata": {
      "needs_background": "light"
     },
     "output_type": "display_data"
    }
   ],
   "source": [
    "hist = logs.hist(bins = 5)"
   ]
  },
  {
   "cell_type": "markdown",
   "id": "special-vocabulary",
   "metadata": {},
   "source": [
    "I also made this weird histogram that I don't think does that much. I was going to make a better histogram but didn't have time."
   ]
  },
  {
   "cell_type": "code",
   "execution_count": 10,
   "id": "several-spread",
   "metadata": {},
   "outputs": [
    {
     "data": {
      "text/plain": [
       "page\n",
       "about       2751\n",
       "home        2679\n",
       "listings    8035\n",
       "profile     4091\n",
       "search      9412\n",
       "Name: duration, dtype: int64"
      ]
     },
     "execution_count": 10,
     "metadata": {},
     "output_type": "execute_result"
    }
   ],
   "source": [
    "logs.groupby('page')['duration'].count()"
   ]
  },
  {
   "cell_type": "code",
   "execution_count": 19,
   "id": "decent-darwin",
   "metadata": {},
   "outputs": [
    {
     "data": {
      "image/png": "[encoded data removed]",
      "text/plain": [
       "<Figure size 432x288 with 1 Axes>"
      ]
     },
     "metadata": {
      "needs_background": "light"
     },
     "output_type": "display_data"
    }
   ],
   "source": [
    "x = np.array(['about', 'home', 'listings', 'profile', 'search'])\n",
    "y = np.array([2751, 2679, 8035, 4091, 9412])\n",
    "\n",
    "plt.scatter(x, y)\n",
    "plt.show()"
   ]
  },
  {
   "cell_type": "markdown",
   "id": "complimentary-anderson",
   "metadata": {},
   "source": [
    "We can see there are the most searches, then listings, then profiles, then abouts, then homes."
   ]
  },
  {
   "cell_type": "code",
   "execution_count": 17,
   "id": "connected-contribution",
   "metadata": {},
   "outputs": [
    {
     "data": {
      "text/plain": [
       "date\n",
       "2021-01-01    19.448718\n",
       "2021-01-02    19.669903\n",
       "2021-01-03    18.392157\n",
       "2021-01-04    18.219512\n",
       "2021-01-05    21.836066\n",
       "2021-01-06    22.339623\n",
       "2021-01-07    16.698795\n",
       "2021-01-08    17.916667\n",
       "2021-01-09    19.782258\n",
       "2021-01-10    20.696429\n",
       "2021-01-11    19.281250\n",
       "2021-01-12    19.550000\n",
       "2021-01-13    18.532468\n",
       "2021-01-14    21.863636\n",
       "2021-01-15    19.405063\n",
       "2021-01-16    18.375000\n",
       "2021-01-17    19.464789\n",
       "2021-01-18    20.235294\n",
       "2021-01-19    21.170213\n",
       "2021-01-20    23.025316\n",
       "2021-01-21    20.645161\n",
       "2021-01-22    17.439394\n",
       "2021-01-23    19.430556\n",
       "2021-01-24    21.978947\n",
       "2021-01-25    18.741935\n",
       "2021-01-26    21.454545\n",
       "2021-01-27    19.929825\n",
       "2021-01-28    18.602740\n",
       "2021-01-29    18.076923\n",
       "2021-01-30    18.857143\n",
       "2021-01-31    19.071429\n",
       "2021-02-01    17.521739\n",
       "2021-02-02    18.961039\n",
       "2021-02-03    42.997268\n",
       "2021-02-04    46.147287\n",
       "2021-02-05    43.782743\n",
       "2021-02-06    43.100096\n",
       "2021-02-07    44.378758\n",
       "2021-02-08    43.719239\n",
       "2021-02-09    44.750682\n",
       "2021-02-10    43.072886\n",
       "2021-02-11    43.726852\n",
       "2021-02-12    44.057143\n",
       "2021-02-13    43.962997\n",
       "2021-02-14    44.562567\n",
       "2021-02-15    44.708145\n",
       "2021-02-16    44.882497\n",
       "2021-02-17    45.072727\n",
       "2021-02-18    43.770063\n",
       "2021-02-19    43.970558\n",
       "2021-02-20    45.042535\n",
       "2021-02-21    45.399130\n",
       "2021-02-22    44.547518\n",
       "2021-02-23    43.601004\n",
       "2021-02-24    43.925090\n",
       "2021-02-25    46.592593\n",
       "2021-02-26    44.292287\n",
       "2021-02-27    44.495197\n",
       "2021-02-28    44.418351\n",
       "2021-03-01    43.525466\n",
       "Name: duration, dtype: float64"
      ]
     },
     "execution_count": 17,
     "metadata": {},
     "output_type": "execute_result"
    }
   ],
   "source": [
    "logs.groupby('date')['duration'].mean()"
   ]
  },
  {
   "cell_type": "markdown",
   "id": "assigned-funds",
   "metadata": {},
   "source": [
    "We can see the date with the highest average duration is February 25, 2021 with 46.59259"
   ]
  },
  {
   "cell_type": "code",
   "execution_count": 15,
   "id": "solar-mother",
   "metadata": {},
   "outputs": [
    {
     "data": {
      "text/html": [
       "<div>\n",
       "<style scoped>\n",
       "    .dataframe tbody tr th:only-of-type {\n",
       "        vertical-align: middle;\n",
       "    }\n",
       "\n",
       "    .dataframe tbody tr th {\n",
       "        vertical-align: top;\n",
       "    }\n",
       "\n",
       "    .dataframe thead th {\n",
       "        text-align: right;\n",
       "    }\n",
       "</style>\n",
       "<table border=\"1\" class=\"dataframe\">\n",
       "  <thead>\n",
       "    <tr style=\"text-align: right;\">\n",
       "      <th></th>\n",
       "      <th>date</th>\n",
       "      <th>user</th>\n",
       "      <th>page</th>\n",
       "      <th>duration</th>\n",
       "    </tr>\n",
       "  </thead>\n",
       "  <tbody>\n",
       "    <tr>\n",
       "      <th>0</th>\n",
       "      <td>2021-01-01</td>\n",
       "      <td>17789</td>\n",
       "      <td>about</td>\n",
       "      <td>9</td>\n",
       "    </tr>\n",
       "    <tr>\n",
       "      <th>1</th>\n",
       "      <td>2021-01-01</td>\n",
       "      <td>17789</td>\n",
       "      <td>search</td>\n",
       "      <td>27</td>\n",
       "    </tr>\n",
       "    <tr>\n",
       "      <th>2</th>\n",
       "      <td>2021-01-01</td>\n",
       "      <td>17789</td>\n",
       "      <td>search</td>\n",
       "      <td>9</td>\n",
       "    </tr>\n",
       "    <tr>\n",
       "      <th>3</th>\n",
       "      <td>2021-01-01</td>\n",
       "      <td>17789</td>\n",
       "      <td>about</td>\n",
       "      <td>41</td>\n",
       "    </tr>\n",
       "    <tr>\n",
       "      <th>4</th>\n",
       "      <td>2021-01-01</td>\n",
       "      <td>17789</td>\n",
       "      <td>search</td>\n",
       "      <td>12</td>\n",
       "    </tr>\n",
       "    <tr>\n",
       "      <th>5</th>\n",
       "      <td>2021-01-01</td>\n",
       "      <td>17790</td>\n",
       "      <td>search</td>\n",
       "      <td>43</td>\n",
       "    </tr>\n",
       "    <tr>\n",
       "      <th>6</th>\n",
       "      <td>2021-01-01</td>\n",
       "      <td>17789</td>\n",
       "      <td>listings</td>\n",
       "      <td>8</td>\n",
       "    </tr>\n",
       "    <tr>\n",
       "      <th>7</th>\n",
       "      <td>2021-01-01</td>\n",
       "      <td>17790</td>\n",
       "      <td>about</td>\n",
       "      <td>30</td>\n",
       "    </tr>\n",
       "    <tr>\n",
       "      <th>8</th>\n",
       "      <td>2021-01-01</td>\n",
       "      <td>17790</td>\n",
       "      <td>listings</td>\n",
       "      <td>12</td>\n",
       "    </tr>\n",
       "    <tr>\n",
       "      <th>9</th>\n",
       "      <td>2021-01-01</td>\n",
       "      <td>17790</td>\n",
       "      <td>home</td>\n",
       "      <td>4</td>\n",
       "    </tr>\n",
       "    <tr>\n",
       "      <th>10</th>\n",
       "      <td>2021-01-01</td>\n",
       "      <td>17790</td>\n",
       "      <td>listings</td>\n",
       "      <td>24</td>\n",
       "    </tr>\n",
       "    <tr>\n",
       "      <th>11</th>\n",
       "      <td>2021-01-01</td>\n",
       "      <td>17790</td>\n",
       "      <td>listings</td>\n",
       "      <td>23</td>\n",
       "    </tr>\n",
       "    <tr>\n",
       "      <th>12</th>\n",
       "      <td>2021-01-01</td>\n",
       "      <td>17790</td>\n",
       "      <td>profile</td>\n",
       "      <td>19</td>\n",
       "    </tr>\n",
       "    <tr>\n",
       "      <th>13</th>\n",
       "      <td>2021-01-01</td>\n",
       "      <td>17791</td>\n",
       "      <td>profile</td>\n",
       "      <td>1</td>\n",
       "    </tr>\n",
       "    <tr>\n",
       "      <th>14</th>\n",
       "      <td>2021-01-01</td>\n",
       "      <td>17790</td>\n",
       "      <td>listings</td>\n",
       "      <td>12</td>\n",
       "    </tr>\n",
       "  </tbody>\n",
       "</table>\n",
       "</div>"
      ],
      "text/plain": [
       "          date   user      page  duration\n",
       "0   2021-01-01  17789     about         9\n",
       "1   2021-01-01  17789    search        27\n",
       "2   2021-01-01  17789    search         9\n",
       "3   2021-01-01  17789     about        41\n",
       "4   2021-01-01  17789    search        12\n",
       "5   2021-01-01  17790    search        43\n",
       "6   2021-01-01  17789  listings         8\n",
       "7   2021-01-01  17790     about        30\n",
       "8   2021-01-01  17790  listings        12\n",
       "9   2021-01-01  17790      home         4\n",
       "10  2021-01-01  17790  listings        24\n",
       "11  2021-01-01  17790  listings        23\n",
       "12  2021-01-01  17790   profile        19\n",
       "13  2021-01-01  17791   profile         1\n",
       "14  2021-01-01  17790  listings        12"
      ]
     },
     "execution_count": 15,
     "metadata": {},
     "output_type": "execute_result"
    }
   ],
   "source": [
    "logs.head(15)"
   ]
  },
  {
   "cell_type": "code",
   "execution_count": 20,
   "id": "vertical-accounting",
   "metadata": {},
   "outputs": [
    {
     "data": {
      "text/plain": [
       "19911    16\n",
       "20502    16\n",
       "20558    16\n",
       "19157    16\n",
       "18255    16\n",
       "         ..\n",
       "18163     2\n",
       "17914     2\n",
       "17900     1\n",
       "17997     1\n",
       "18047     1\n",
       "Name: user, Length: 2974, dtype: int64"
      ]
     },
     "execution_count": 20,
     "metadata": {},
     "output_type": "execute_result"
    }
   ],
   "source": [
    "logs['user'].value_counts()"
   ]
  },
  {
   "cell_type": "markdown",
   "id": "exterior-green",
   "metadata": {},
   "source": [
    "We have nearly 3,000 different users, with up to 16 sharing the same user number."
   ]
  },
  {
   "cell_type": "code",
   "execution_count": null,
   "id": "short-remedy",
   "metadata": {},
   "outputs": [],
   "source": []
  }
 ],
 "metadata": {
  "kernelspec": {
   "display_name": "Python 3",
   "language": "python",
   "name": "python3"
  },
  "language_info": {
   "codemirror_mode": {
    "name": "ipython",
    "version": 3
   },
   "file_extension": ".py",
   "mimetype": "text/x-python",
   "name": "python",
   "nbconvert_exporter": "python",
   "pygments_lexer": "ipython3",
   "version": "3.9.4"
  }
 },
 "nbformat": 4,
 "nbformat_minor": 5
}
