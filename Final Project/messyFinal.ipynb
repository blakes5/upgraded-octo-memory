{
 "cells": [
  {
   "cell_type": "markdown",
   "id": "civic-metadata",
   "metadata": {},
   "source": [
    "# **The Three True Outcomes of Baseball**"
   ]
  },
  {
   "cell_type": "markdown",
   "id": "inside-competition",
   "metadata": {},
   "source": [
    "## Problem:"
   ]
  },
  {
   "cell_type": "markdown",
   "id": "defensive-crack",
   "metadata": {},
   "source": [
    "The impact of the increase of the \"Three True Outcomes\" in Major League Baseball on fan attendance of games."
   ]
  },
  {
   "cell_type": "markdown",
   "id": "professional-consequence",
   "metadata": {},
   "source": []
  },
  {
   "cell_type": "markdown",
   "id": "deluxe-bidder",
   "metadata": {},
   "source": []
  },
  {
   "cell_type": "markdown",
   "id": "waiting-canal",
   "metadata": {},
   "source": []
  },
  {
   "cell_type": "code",
   "execution_count": 8,
   "id": "headed-compilation",
   "metadata": {},
   "outputs": [],
   "source": [
    "import pandas as pd\n",
    "from scipy import stats\n",
    "from scipy.stats import norm\n",
    "import matplotlib.pyplot as plt\n",
    "import seaborn as sns"
   ]
  },
  {
   "cell_type": "code",
   "execution_count": 77,
   "id": "alien-sunday",
   "metadata": {},
   "outputs": [],
   "source": [
    "attendance = pd.read_csv(\"Attendance.csv\")\n",
    "#attendance"
   ]
  },
  {
   "cell_type": "code",
   "execution_count": 106,
   "id": "attempted-canal",
   "metadata": {},
   "outputs": [
    {
     "data": {
      "text/plain": [
       "0.30443"
      ]
     },
     "execution_count": 106,
     "metadata": {},
     "output_type": "execute_result"
    }
   ],
   "source": [
    "batting_2012 = pd.read_excel(\"2012.xlsx\")\n",
    "batting_2012.loc[31, 'Tm'] = 'Total'\n",
    "##batting_2012\n",
    "TTO_2012 = round((batting_2012.loc[31, 'HR'] + batting_2012.loc[31, 'BB'] + batting_2012.loc[31, 'SO']) \n",
    "                 / batting_2012.loc[31, 'PA'], 5)\n",
    "TTO_2012\n",
    "\n",
    "## MIGHT NOT END UP USING 2012 DATA"
   ]
  },
  {
   "cell_type": "markdown",
   "id": "focal-recorder",
   "metadata": {},
   "source": [
    "### Reading in excel files (1989-2019 every 5 years)"
   ]
  },
  {
   "cell_type": "code",
   "execution_count": 107,
   "id": "alien-stick",
   "metadata": {},
   "outputs": [
    {
     "data": {
      "text/plain": [
       "0.35114"
      ]
     },
     "execution_count": 107,
     "metadata": {},
     "output_type": "execute_result"
    }
   ],
   "source": [
    "batting_2019 = pd.read_excel(\"2019.xlsx\")\n",
    "batting_2019.loc[31, 'Tm'] = 'Total'\n",
    "##batting_2019\n",
    "TTO_2019a = round((batting_2019.loc[31, 'HR'] + batting_2019.loc[31, 'BB'] + batting_2019.loc[31, 'SO']) \n",
    "                 / batting_2019.loc[31, 'PA'], 5)\n",
    "TTO_2019a"
   ]
  },
  {
   "cell_type": "code",
   "execution_count": 108,
   "id": "tribal-investigator",
   "metadata": {},
   "outputs": [
    {
     "data": {
      "text/plain": [
       "0.30255"
      ]
     },
     "execution_count": 108,
     "metadata": {},
     "output_type": "execute_result"
    }
   ],
   "source": [
    "batting_2014 = pd.read_excel(\"2014.xlsx\")\n",
    "batting_2014.loc[31, 'Tm'] = 'Total'\n",
    "batting_2014\n",
    "TTO_2014a = round((batting_2014.loc[31, 'HR'] + batting_2014.loc[31, 'BB'] + batting_2014.loc[31, 'SO']) \n",
    "                 / batting_2014.loc[31, 'PA'], 5)\n",
    "TTO_2014a"
   ]
  },
  {
   "cell_type": "code",
   "execution_count": 109,
   "id": "american-zimbabwe",
   "metadata": {},
   "outputs": [
    {
     "data": {
      "text/plain": [
       "0.29535"
      ]
     },
     "execution_count": 109,
     "metadata": {},
     "output_type": "execute_result"
    }
   ],
   "source": [
    "batting_2009 = pd.read_excel(\"2009.xlsx\")\n",
    "##batting_2009\n",
    "TTO_2009a = round((batting_2009.loc[31, 'HR'] + batting_2009.loc[31, 'BB'] + batting_2009.loc[31, 'SO']) \n",
    "                 / batting_2009.loc[31, 'PA'], 5)\n",
    "TTO_2009a"
   ]
  },
  {
   "cell_type": "code",
   "execution_count": 110,
   "id": "lyric-junction",
   "metadata": {},
   "outputs": [
    {
     "data": {
      "text/plain": [
       "0.28377"
      ]
     },
     "execution_count": 110,
     "metadata": {},
     "output_type": "execute_result"
    }
   ],
   "source": [
    "batting_2004 = pd.read_excel(\"2004.xlsx\")\n",
    "batting_2004.loc[31, 'Tm'] = 'Total'\n",
    "##batting_2004\n",
    "TTO_2004a = round((batting_2004.loc[31, 'HR'] + batting_2004.loc[31, 'BB'] + batting_2004.loc[31, 'SO']) \n",
    "                / batting_2004.loc[31, 'PA'], 5)\n",
    "TTO_2004a"
   ]
  },
  {
   "cell_type": "code",
   "execution_count": 111,
   "id": "concerned-bangladesh",
   "metadata": {},
   "outputs": [
    {
     "data": {
      "text/plain": [
       "0.28751"
      ]
     },
     "execution_count": 111,
     "metadata": {},
     "output_type": "execute_result"
    }
   ],
   "source": [
    "batting_1999 = pd.read_excel(\"1999.xlsx\")\n",
    "##batting_1999\n",
    "TTO_1999a = round((batting_1999.loc[31, 'HR'] + batting_1999.loc[31, 'BB'] + batting_1999.loc[31, 'SO']) \n",
    "                 / batting_1999.loc[31, 'PA'], 5)\n",
    "TTO_1999a"
   ]
  },
  {
   "cell_type": "code",
   "execution_count": 112,
   "id": "grateful-conviction",
   "metadata": {},
   "outputs": [
    {
     "data": {
      "text/plain": [
       "0.27476"
      ]
     },
     "execution_count": 112,
     "metadata": {},
     "output_type": "execute_result"
    }
   ],
   "source": [
    "batting_1994 = pd.read_excel(\"1994.xlsx\")\n",
    "batting_1994.loc[29, 'Tm'] = 'Total'\n",
    "batting_1994\n",
    "TTO_1994a = round((batting_1994.loc[29, 'HR'] + batting_1994.loc[29, 'BB'] + batting_1994.loc[29, 'SO']) \n",
    "                 / batting_1994.loc[29, 'PA'], 5)\n",
    "TTO_1994a"
   ]
  },
  {
   "cell_type": "code",
   "execution_count": 113,
   "id": "aggregate-sport",
   "metadata": {},
   "outputs": [
    {
     "data": {
      "text/plain": [
       "0.25158"
      ]
     },
     "execution_count": 113,
     "metadata": {},
     "output_type": "execute_result"
    }
   ],
   "source": [
    "batting_1989 = pd.read_excel(\"1989.xlsx\")\n",
    "batting_1989.loc[27, 'Tm'] = 'Total'\n",
    "##batting_1989\n",
    "TTO_1989a = round((batting_1989.loc[27, 'HR'] + batting_1989.loc[27, 'BB'] + batting_1989.loc[27, 'SO']) \n",
    "                 / batting_1989.loc[27, 'PA'], 5)\n",
    "TTO_1989a"
   ]
  },
  {
   "cell_type": "code",
   "execution_count": 114,
   "id": "hidden-tribune",
   "metadata": {},
   "outputs": [
    {
     "data": {
      "image/png": "[encoded data removed]",
      "text/plain": [
       "<Figure size 432x288 with 1 Axes>"
      ]
     },
     "metadata": {
      "needs_background": "light"
     },
     "output_type": "display_data"
    }
   ],
   "source": [
    "TTO_avalues = [TTO_1989a, TTO_1994a, TTO_1999a, TTO_2004a, TTO_2009a, TTO_2014a, TTO_2019a]\n",
    "Years = [1989, 1994, 1999, 2004, 2009, 2014, 2019]\n",
    "plt.plot(Years, TTO_avalues)\n",
    "plt.show()\n"
   ]
  },
  {
   "cell_type": "markdown",
   "id": "circular-cliff",
   "metadata": {},
   "source": [
    "### Adding TTO column to datasets"
   ]
  },
  {
   "cell_type": "markdown",
   "id": "mysterious-ethiopia",
   "metadata": {},
   "source": [
    "##### Will not keep the following section, could be much cleaner"
   ]
  },
  {
   "cell_type": "code",
   "execution_count": 87,
   "id": "anonymous-melissa",
   "metadata": {},
   "outputs": [],
   "source": [
    "# Don't need for graph below\n",
    "batting_2012['TTO'] = 7\n",
    "for i in range(31): \n",
    "    batting_2012.loc[i, 'TTO'] = round((batting_2012.loc[i, 'HR'] + batting_2012.loc[i, 'BB'] + batting_2012.loc[i, 'SO']) \n",
    "                                   / batting_2012.loc[i, 'PA'], 5)\n",
    "batting_2012.loc[31, 'TTO'] = '-'\n",
    "# Don't need for graph below "
   ]
  },
  {
   "cell_type": "code",
   "execution_count": 88,
   "id": "caroline-royal",
   "metadata": {},
   "outputs": [
    {
     "data": {
      "text/plain": [
       "(0.35113, 0.35114)"
      ]
     },
     "execution_count": 88,
     "metadata": {},
     "output_type": "execute_result"
    }
   ],
   "source": [
    "batting_2019['TTO'] = 7\n",
    "for i in range(31): \n",
    "    batting_2019.loc[i, 'TTO'] = round((batting_2019.loc[i, 'HR'] + batting_2019.loc[i, 'BB'] + batting_2019.loc[i, 'SO']) \n",
    "                                   / batting_2019.loc[i, 'PA'], 5)\n",
    "batting_2019.loc[31, 'TTO'] = '-'\n",
    "\n",
    "# This might be an easier way to get the TTO stats since it also allows me to see the TTO number for each team\n",
    "TTO_2019b = batting_2019.loc[30, 'TTO']\n",
    "TTO_2019b, TTO_2019a\n",
    "# I wanted to compare the accuracy of calculating the TTO numbers for each year from the average of each team's TTO (2019b) \n",
    "# versus the TTO of the total HRs, SOs, and BBS (2019a)"
   ]
  },
  {
   "cell_type": "code",
   "execution_count": 89,
   "id": "expected-antenna",
   "metadata": {},
   "outputs": [
    {
     "data": {
      "text/plain": [
       "(0.30256, 0.30255)"
      ]
     },
     "execution_count": 89,
     "metadata": {},
     "output_type": "execute_result"
    }
   ],
   "source": [
    "batting_2014['TTO'] = 7\n",
    "for i in range(31): \n",
    "    batting_2014.loc[i, 'TTO'] = round((batting_2014.loc[i, 'HR'] + batting_2014.loc[i, 'BB'] + batting_2014.loc[i, 'SO']) \n",
    "                                   / batting_2014.loc[i, 'PA'], 5)\n",
    "batting_2014.loc[31, 'TTO'] = '-'\n",
    "\n",
    "TTO_2014b = batting_2014.loc[30, 'TTO']\n",
    "TTO_2014b, TTO_2014a"
   ]
  },
  {
   "cell_type": "code",
   "execution_count": 90,
   "id": "swedish-equipment",
   "metadata": {},
   "outputs": [
    {
     "data": {
      "text/plain": [
       "(0.29538, 0.29535)"
      ]
     },
     "execution_count": 90,
     "metadata": {},
     "output_type": "execute_result"
    }
   ],
   "source": [
    "batting_2009['TTO'] = 7\n",
    "for i in range(31): \n",
    "    batting_2009.loc[i, 'TTO'] = round((batting_2009.loc[i, 'HR'] + batting_2009.loc[i, 'BB'] + batting_2009.loc[i, 'SO']) \n",
    "                                   / batting_2009.loc[i, 'PA'], 5)\n",
    "batting_2009.loc[31, 'TTO'] = '-'\n",
    "\n",
    "TTO_2009b = batting_2009.loc[30, 'TTO']\n",
    "TTO_2009b, TTO_2009a"
   ]
  },
  {
   "cell_type": "code",
   "execution_count": 91,
   "id": "contrary-array",
   "metadata": {},
   "outputs": [
    {
     "data": {
      "text/plain": [
       "(0.28385, 0.28377)"
      ]
     },
     "execution_count": 91,
     "metadata": {},
     "output_type": "execute_result"
    }
   ],
   "source": [
    "batting_2004['TTO'] = 7\n",
    "for i in range(31): \n",
    "    batting_2004.loc[i, 'TTO'] = round((batting_2004.loc[i, 'HR'] + batting_2004.loc[i, 'BB'] + batting_2004.loc[i, 'SO']) \n",
    "                                   / batting_2004.loc[i, 'PA'], 5)\n",
    "batting_2004.loc[31, 'TTO'] = '-'\n",
    "\n",
    "TTO_2004b = batting_2004.loc[30, 'TTO']\n",
    "TTO_2004b, TTO_2004a"
   ]
  },
  {
   "cell_type": "code",
   "execution_count": 92,
   "id": "found-wallace",
   "metadata": {},
   "outputs": [
    {
     "data": {
      "text/plain": [
       "(0.28736, 0.28751)"
      ]
     },
     "execution_count": 92,
     "metadata": {},
     "output_type": "execute_result"
    }
   ],
   "source": [
    "batting_1999['TTO'] = 7\n",
    "for i in range(31): \n",
    "    batting_1999.loc[i, 'TTO'] = round((batting_1999.loc[i, 'HR'] + batting_1999.loc[i, 'BB'] + batting_1999.loc[i, 'SO']) \n",
    "                                   / batting_1999.loc[i, 'PA'], 5)\n",
    "batting_1999.loc[31, 'TTO'] = '-'\n",
    "\n",
    "TTO_1999b = batting_1999.loc[30, 'TTO']\n",
    "TTO_1999b, TTO_1999a"
   ]
  },
  {
   "cell_type": "code",
   "execution_count": 93,
   "id": "reflected-investigation",
   "metadata": {},
   "outputs": [
    {
     "data": {
      "text/plain": [
       "(0.27485, 0.27476)"
      ]
     },
     "execution_count": 93,
     "metadata": {},
     "output_type": "execute_result"
    }
   ],
   "source": [
    "batting_1994['TTO'] = 7\n",
    "for i in range(29): \n",
    "    batting_1994.loc[i, 'TTO'] = round((batting_1994.loc[i, 'HR'] + batting_1994.loc[i, 'BB'] + batting_1994.loc[i, 'SO']) \n",
    "                                   / batting_1994.loc[i, 'PA'], 5)\n",
    "batting_1994.loc[29, 'TTO'] = '-'\n",
    "\n",
    "TTO_1994b = batting_1994.loc[28, 'TTO']\n",
    "TTO_1994b, TTO_1994a"
   ]
  },
  {
   "cell_type": "code",
   "execution_count": 94,
   "id": "hidden-typing",
   "metadata": {},
   "outputs": [
    {
     "data": {
      "text/plain": [
       "(0.25167, 0.25158)"
      ]
     },
     "execution_count": 94,
     "metadata": {},
     "output_type": "execute_result"
    }
   ],
   "source": [
    "batting_1989['TTO'] = 7\n",
    "for i in range(27): \n",
    "    batting_1989.loc[i, 'TTO'] = round((batting_1989.loc[i, 'HR'] + batting_1989.loc[i, 'BB'] + batting_1989.loc[i, 'SO']) \n",
    "                                   / batting_1989.loc[i, 'PA'], 5)\n",
    "batting_1989.loc[27, 'TTO'] = '-'\n",
    "\n",
    "TTO_1989b = batting_1989.loc[26, 'TTO']\n",
    "TTO_1989b, TTO_1989a"
   ]
  },
  {
   "cell_type": "code",
   "execution_count": 95,
   "id": "committed-reproduction",
   "metadata": {},
   "outputs": [
    {
     "data": {
      "image/png": "[encoded data removed]",
      "text/plain": [
       "<Figure size 432x288 with 1 Axes>"
      ]
     },
     "metadata": {
      "needs_background": "light"
     },
     "output_type": "display_data"
    }
   ],
   "source": [
    "TTO_bvalues = [TTO_1989b, TTO_1994b, TTO_1999b, TTO_2004b, TTO_2009b, TTO_2014b, TTO_2019b]\n",
    "Years = [1989, 1994, 1999, 2004, 2009, 2014, 2019]\n",
    "plt.plot(Years, TTO_avalues, color='orange')\n",
    "plt.plot(Years, TTO_bvalues, color='purple')\n",
    "plt.show()"
   ]
  },
  {
   "cell_type": "markdown",
   "id": "minute-spectrum",
   "metadata": {},
   "source": [
    "We can see the difference between both methods of getting the TTO values is negligible enough to where the bottom of the 2 graphs is completely covered by the top graph, meaning they are ostensibly the same graph. This validates the math behind getting the TTO values for each year from the average of each team's TTO value, and adding a 'TTO' column to the dataset."
   ]
  },
  {
   "cell_type": "markdown",
   "id": "subtle-buffer",
   "metadata": {},
   "source": [
    "#### Cleaned up much more concise version"
   ]
  },
  {
   "cell_type": "code",
   "execution_count": 115,
   "id": "personal-bulletin",
   "metadata": {},
   "outputs": [],
   "source": [
    "batting_2019 = batting_2019.drop(index=31)\n",
    "batting_2014 = batting_2014.drop(index=31)\n",
    "batting_2012 = batting_2012.drop(index=31)\n",
    "batting_2009 = batting_2009.drop(index=31)\n",
    "batting_2004 = batting_2004.drop(index=31)\n",
    "batting_1999 = batting_1999.drop(index=31)\n",
    "batting_1994 = batting_1994.drop(index=29)\n",
    "batting_1989 = batting_1989.drop(index=27)"
   ]
  },
  {
   "cell_type": "code",
   "execution_count": 116,
   "id": "aging-justice",
   "metadata": {},
   "outputs": [],
   "source": [
    "batting_2019['TTO'] = round((batting_2019['HR'] + batting_2019['BB'] + batting_2019['SO']) / batting_2019['PA'], 5)\n",
    "batting_2014['TTO'] = round((batting_2014['HR'] + batting_2014['BB'] + batting_2014['SO']) / batting_2014['PA'], 5)\n",
    "batting_2012['TTO'] = round((batting_2012['HR'] + batting_2012['BB'] + batting_2012['SO']) / batting_2012['PA'], 5)\n",
    "batting_2009['TTO'] = round((batting_2009['HR'] + batting_2009['BB'] + batting_2009['SO']) / batting_2009['PA'], 5)\n",
    "batting_2004['TTO'] = round((batting_2004['HR'] + batting_2004['BB'] + batting_2004['SO']) / batting_2004['PA'], 5)\n",
    "batting_1999['TTO'] = round((batting_1999['HR'] + batting_1999['BB'] + batting_1999['SO']) / batting_1999['PA'], 5)\n",
    "batting_1994['TTO'] = round((batting_1994['HR'] + batting_1994['BB'] + batting_1994['SO']) / batting_1994['PA'], 5)\n",
    "batting_1989['TTO'] = round((batting_1989['HR'] + batting_1989['BB'] + batting_1989['SO']) / batting_1989['PA'], 5)\n",
    "# Adds a new row called 'TTO' to each dataset, which is the TTO value for each team in that given season"
   ]
  },
  {
   "cell_type": "code",
   "execution_count": 117,
   "id": "related-product",
   "metadata": {},
   "outputs": [
    {
     "data": {
      "image/png": "[encoded data removed]",
      "text/plain": [
       "<Figure size 432x288 with 1 Axes>"
      ]
     },
     "metadata": {
      "needs_background": "light"
     },
     "output_type": "display_data"
    }
   ],
   "source": [
    "TTO_values = [batting_1989.loc[26, 'TTO'], batting_1994.loc[28, 'TTO'], batting_1999.loc[30, 'TTO'], batting_2004.loc[30, 'TTO'], batting_2009.loc[30, 'TTO'], batting_2014.loc[30, 'TTO'], batting_2019.loc[30, 'TTO']]\n",
    "Years = [1989, 1994, 1999, 2004, 2009, 2014, 2019]\n",
    "plt.plot(Years, TTO_values, color='red')\n",
    "plt.xlabel(\"Year\")\n",
    "plt.ylabel(\"TTO Rate\")\n",
    "plt.title(\"TTO Rate across the MLB over time\")\n",
    "plt.show()"
   ]
  },
  {
   "cell_type": "markdown",
   "id": "answering-jungle",
   "metadata": {},
   "source": [
    "### Looking to see if the distribution of TTO values in a given season is normal"
   ]
  },
  {
   "cell_type": "code",
   "execution_count": 99,
   "id": "smaller-exception",
   "metadata": {},
   "outputs": [
    {
     "data": {
      "image/png": "[encoded data removed]",
      "text/plain": [
       "<Figure size 432x288 with 1 Axes>"
      ]
     },
     "metadata": {
      "needs_background": "light"
     },
     "output_type": "display_data"
    }
   ],
   "source": [
    "batting_2019['TTO'].hist(bins = 10)\n",
    "plt.xlabel(\"TTO Rate\")\n",
    "plt.ylabel(\"Frequency\")\n",
    "plt.title(\"2019 TTO Distribution\")\n",
    "plt.show()"
   ]
  },
  {
   "cell_type": "code",
   "execution_count": 100,
   "id": "vanilla-timber",
   "metadata": {},
   "outputs": [
    {
     "data": {
      "image/png": "[encoded data removed]",
      "text/plain": [
       "<Figure size 432x288 with 1 Axes>"
      ]
     },
     "metadata": {
      "needs_background": "light"
     },
     "output_type": "display_data"
    }
   ],
   "source": [
    "batting_2014['TTO'].hist(bins = 10, color='red')\n",
    "plt.xlabel(\"TTO Rate\")\n",
    "plt.ylabel(\"Frequency\")\n",
    "plt.title(\"2014 TTO Distribution\")\n",
    "plt.show()"
   ]
  },
  {
   "cell_type": "code",
   "execution_count": 101,
   "id": "placed-clinic",
   "metadata": {},
   "outputs": [
    {
     "data": {
      "image/png": "[encoded data removed]",
      "text/plain": [
       "<Figure size 432x288 with 1 Axes>"
      ]
     },
     "metadata": {
      "needs_background": "light"
     },
     "output_type": "display_data"
    }
   ],
   "source": [
    "batting_2009['TTO'].hist(bins = 10, color='green')\n",
    "plt.xlabel(\"TTO Rate\")\n",
    "plt.ylabel(\"Frequency\")\n",
    "plt.title(\"2009 TTO Distribution\")\n",
    "plt.show()"
   ]
  },
  {
   "cell_type": "markdown",
   "id": "toxic-training",
   "metadata": {},
   "source": [
    "We can see the graphs are not really normal. Generally more values clump together towards the middle and smaller frequency values are seen towards the ends. But they do not quite trend enough to be considered normal."
   ]
  },
  {
   "cell_type": "code",
   "execution_count": 102,
   "id": "thorough-japan",
   "metadata": {},
   "outputs": [
    {
     "data": {
      "text/plain": [
       "Tm         PIT\n",
       "PA        6228\n",
       "HR         163\n",
       "BB         425\n",
       "SO        1213\n",
       "TTO    0.28918\n",
       "Name: 21, dtype: object"
      ]
     },
     "execution_count": 102,
     "metadata": {},
     "output_type": "execute_result"
    }
   ],
   "source": [
    "batting_2019.iloc[21]\n",
    "# The Pittsburgh Pirate have by far the lowest TTO rate in 2019"
   ]
  },
  {
   "cell_type": "code",
   "execution_count": 103,
   "id": "ordinary-cutting",
   "metadata": {},
   "outputs": [
    {
     "data": {
      "text/plain": [
       "Tm       KCR\n",
       "PA      6058\n",
       "HR        95\n",
       "BB       380\n",
       "SO       985\n",
       "TTO    0.241\n",
       "Name: 11, dtype: object"
      ]
     },
     "execution_count": 103,
     "metadata": {},
     "output_type": "execute_result"
    }
   ],
   "source": [
    "batting_2014.iloc[11]\n",
    "# The Kansas City Royals have by far the lowest TTO rate in 2014"
   ]
  },
  {
   "cell_type": "code",
   "execution_count": 104,
   "id": "psychological-infrared",
   "metadata": {},
   "outputs": [
    {
     "data": {
      "text/plain": [
       "Tm         DET\n",
       "PA        4574\n",
       "HR         161\n",
       "BB         520\n",
       "SO         897\n",
       "TTO    0.34499\n",
       "Name: 9, dtype: object"
      ]
     },
     "execution_count": 104,
     "metadata": {},
     "output_type": "execute_result"
    }
   ],
   "source": [
    "batting_1994.iloc[9]\n",
    "# The Detroit Tigers have by far the highest TTO rate in 1994 ... this could be something interesting to look at \n",
    "# (or it could be nothing substantial!)"
   ]
  },
  {
   "cell_type": "markdown",
   "id": "sharp-auckland",
   "metadata": {},
   "source": [
    "### Getting each team's average TTO value from 1989-2019 (every 5 years in between)"
   ]
  },
  {
   "cell_type": "code",
   "execution_count": 37,
   "id": "aging-curtis",
   "metadata": {},
   "outputs": [
    {
     "data": {
      "text/plain": [
       "0.28527"
      ]
     },
     "execution_count": 37,
     "metadata": {},
     "output_type": "execute_result"
    }
   ],
   "source": [
    "Orioles_TTO = round((batting_1989.loc[1, 'TTO']+batting_1994.loc[1, 'TTO']+batting_1999.loc[3, 'TTO']+batting_2004.loc[3, 'TTO']+batting_2009.loc[2, 'TTO']+batting_2014.loc[2, 'TTO']+batting_2019.loc[2, 'TTO']) / 7, 5)\n",
    "Orioles_TTO"
   ]
  },
  {
   "cell_type": "markdown",
   "id": "nuclear-shoulder",
   "metadata": {},
   "source": [
    "Upon further thought, this section might not be worth it. Because of league expansions and name changes, one team does not have the same index every year from 1989-2019 in the different datasets, so I would have to manually check where each team is in the dataset, since they are sorted alphabetically. So when the California Angels (CAL) changed their name to the Anaheim Angels (ANA) in 1997, that moves around the order of some teams, and changes their index between the different datasets. And again when the Anaheim Angels (ANA) changed their name to the Los Angeles Angels (LAA) in 2004, that moved the indices around again. If names changes and league expansions were not a thing, this section would be significantly easier as I could know the Baltimore Orioles (BAL) are always index 2 for example. Which would make it easy to calculate their average TTO throughout this time span, by just getting the 'TTO' at index 2 in each of the datasets and getting the average of those. "
   ]
  },
  {
   "cell_type": "markdown",
   "id": "exact-matrix",
   "metadata": {},
   "source": [
    "### Getting each team's change in TTO from 2012 to 2019"
   ]
  },
  {
   "cell_type": "code",
   "execution_count": 38,
   "id": "fuzzy-sympathy",
   "metadata": {},
   "outputs": [
    {
     "data": {
      "text/plain": [
       "0.01479"
      ]
     },
     "execution_count": 38,
     "metadata": {},
     "output_type": "execute_result"
    }
   ],
   "source": [
    "BAL_change = round(batting_2019['TTO'][2]-batting_2012['TTO'][2], 5)\n",
    "BAL_change\n",
    "# I will use this process for all 30 teams to find every teams increase in TTO during that time span"
   ]
  },
  {
   "cell_type": "code",
   "execution_count": 39,
   "id": "committed-habitat",
   "metadata": {},
   "outputs": [],
   "source": [
    "k = 0\n",
    "team_changes = []\n",
    "while (k < 30): \n",
    "    team_changes = team_changes + [round(batting_2019['TTO'][k] - batting_2012['TTO'][k], 5)]\n",
    "    k += 1\n",
    "    \n",
    "# Unecessary loop here, cleaner way of doing it below"
   ]
  },
  {
   "cell_type": "code",
   "execution_count": 120,
   "id": "opposite-relay",
   "metadata": {},
   "outputs": [],
   "source": [
    "team_TTOchange = batting_2019['TTO'].head(-1) - batting_2012['TTO'].head(-1)\n",
    "#team_TTOchange\n",
    "# Each index 0-29 represents 1 of the 30 MLB teams, the same order they appear in either the 2012, 2014, or 2019 datasets \n",
    "# that appear in this project"
   ]
  },
  {
   "cell_type": "code",
   "execution_count": 123,
   "id": "auburn-circumstances",
   "metadata": {},
   "outputs": [
    {
     "data": {
      "image/png": "[encoded data removed]",
      "text/plain": [
       "<Figure size 432x288 with 1 Axes>"
      ]
     },
     "metadata": {
      "needs_background": "light"
     },
     "output_type": "display_data"
    }
   ],
   "source": [
    "plt.bar([i for i in range (0,30)], [team_TTOchange[i] for i in range (0,30)], color = 'blue')\n",
    "plt.xticks([j for j in range (0,31,5)])\n",
    "plt.xlabel(\"MLB Team Index - Alphabetical\")\n",
    "plt.ylabel(\"TTO Increase\")\n",
    "plt.title(\"TTO Increase from 2012 to 2019 by team\")\n",
    "plt.show()"
   ]
  },
  {
   "cell_type": "code",
   "execution_count": 143,
   "id": "sixth-parade",
   "metadata": {},
   "outputs": [],
   "source": [
    "team_TTO_percentchange = round(team_TTOchange / batting_2012['TTO'].head(-1), 5)\n",
    "#team_TTO_percentchange"
   ]
  },
  {
   "cell_type": "code",
   "execution_count": 128,
   "id": "dominant-lesson",
   "metadata": {},
   "outputs": [],
   "source": [
    "attendance['2017'][3] = attendance['2017'][2]\n",
    "attendance['2018'][3] = attendance['2018'][2]\n",
    "attendance['2019'][3] = attendance['2019'][2]\n",
    "attendance = attendance.drop(index = 2)\n",
    "# Due to the Atlanta Braves changing their stadium in 2017, that counts as a new index in the dataset I am using\n",
    "# But it is the same team, so we can just count it as one index, and get rid of the NaN values, with these few lines of code"
   ]
  },
  {
   "cell_type": "markdown",
   "id": "imperial-virtue",
   "metadata": {},
   "source": [
    "I chose to keep the old field for the Atlanta Braves as the field name that will stay in the dataset, just because that field was there for longer in the decade. Simiarly, the Miami Marlins were in Miami, as opposed to Florida (even though the city of Miami is in the state of Florida), for longer so I kept the index that has the location as Miami. This also stays consistent with the \"MIA\" abbreviation the Marlins have in the TTO datasets I am using. "
   ]
  },
  {
   "cell_type": "code",
   "execution_count": 129,
   "id": "statewide-titanium",
   "metadata": {},
   "outputs": [],
   "source": [
    "attendance['2010'][17] = attendance['2010'][12]\n",
    "attendance['2011'][17] = attendance['2011'][12]\n",
    "attendance = attendance.drop(index = 12)\n",
    "# The Florida Marlins moved cities, changing their name to the Miami Marlins in 2012\n",
    "# This also causes a new index in the dataset, which I do not need, so I will combine these two"
   ]
  },
  {
   "cell_type": "code",
   "execution_count": 130,
   "id": "cognitive-relations",
   "metadata": {},
   "outputs": [],
   "source": [
    "attendance['2010'] = attendance['2010'].replace(\",\", \"\", regex=True)\n",
    "attendance['2011'] = attendance['2011'].replace(\",\", \"\", regex=True)\n",
    "attendance['2012'] = attendance['2012'].replace(\",\", \"\", regex=True)\n",
    "attendance['2013'] = attendance['2013'].replace(\",\", \"\", regex=True)\n",
    "attendance['2014'] = attendance['2014'].replace(\",\", \"\", regex=True)\n",
    "attendance['2015'] = attendance['2015'].replace(\",\", \"\", regex=True)\n",
    "attendance['2016'] = attendance['2016'].replace(\",\", \"\", regex=True)\n",
    "attendance['2017'] = attendance['2017'].replace(\",\", \"\", regex=True)\n",
    "attendance['2018'] = attendance['2018'].replace(\",\", \"\", regex=True)\n",
    "attendance['2019'] = attendance['2019'].replace(\",\", \"\", regex=True)\n",
    "attendance['Total'] = attendance['Total'].replace(\",\", \"\", regex=True)\n",
    "#attendance\n",
    "\n",
    "# This removes all the commas from the strings in the dataframe, which will allow me to convert them to ints"
   ]
  },
  {
   "cell_type": "code",
   "execution_count": 131,
   "id": "entertaining-definition",
   "metadata": {},
   "outputs": [],
   "source": [
    "attendance['2010'] = pd.to_numeric(attendance['2010'])\n",
    "attendance['2011'] = pd.to_numeric(attendance['2011'])\n",
    "attendance['2012'] = pd.to_numeric(attendance['2012'])\n",
    "attendance['2013'] = pd.to_numeric(attendance['2013'])\n",
    "attendance['2014'] = pd.to_numeric(attendance['2014'])\n",
    "attendance['2015'] = pd.to_numeric(attendance['2015'])\n",
    "attendance['2016'] = pd.to_numeric(attendance['2016'])\n",
    "attendance['2017'] = pd.to_numeric(attendance['2017'])\n",
    "attendance['2018'] = pd.to_numeric(attendance['2018'])\n",
    "attendance['2019'] = pd.to_numeric(attendance['2019'])\n",
    "#attendance\n",
    "\n",
    "# This makes all the strings of numbers in the dataset into actual ints, which allows for mathematical calculations"
   ]
  },
  {
   "cell_type": "code",
   "execution_count": 132,
   "id": "together-order",
   "metadata": {},
   "outputs": [],
   "source": [
    "braves_total = attendance.loc[3, '2010':'2019'].sum()\n",
    "marlins_total = attendance.loc[17, '2010':'2019'].sum()\n",
    "attendance.loc[3, 'Total'] = braves_total\n",
    "attendance.loc[17, 'Total'] = marlins_total\n",
    "\n",
    "# This adjusts the Totals column at the end to have the total from both Atlanta Braves' fields and both Marlins teams in the 2010's decade"
   ]
  },
  {
   "cell_type": "code",
   "execution_count": 142,
   "id": "wicked-finger",
   "metadata": {},
   "outputs": [],
   "source": [
    "attendance['Change'] = attendance['2012'] - attendance['2019']\n",
    "attendance['% change'] = round(attendance['Change']/attendance['2012'], 5)\n",
    "#attendance"
   ]
  },
  {
   "cell_type": "code",
   "execution_count": 141,
   "id": "grand-discretion",
   "metadata": {},
   "outputs": [
    {
     "data": {
      "image/png": "[encoded data removed]",
      "text/plain": [
       "<Figure size 432x288 with 1 Axes>"
      ]
     },
     "metadata": {
      "needs_background": "light"
     },
     "output_type": "display_data"
    }
   ],
   "source": [
    "plt.scatter([i for i in range (0,30)], attendance.loc[1:32, '% change'], color='red')\n",
    "plt.scatter([i for i in range (0,30)], [team_TTO_percentchange[i] for i in range (0,30)], color='blue')\n",
    "plt.yticks([-.8, -.6, -.4, -.2, 0, .2, .4, .6, .8])\n",
    "plt.xlabel(\"MLB Team Index\")\n",
    "plt.ylabel(\"Percent Change\")\n",
    "plt.title(\"TTO Increase vs Fan Attendance Decrease\")\n",
    "plt.show()"
   ]
  },
  {
   "cell_type": "code",
   "execution_count": 144,
   "id": "assisted-landscape",
   "metadata": {},
   "outputs": [
    {
     "data": {
      "text/plain": [
       "SpearmanrResult(correlation=-0.006006674082313682, pvalue=0.9748690768685238)"
      ]
     },
     "execution_count": 144,
     "metadata": {},
     "output_type": "execute_result"
    }
   ],
   "source": [
    "stats.spearmanr(attendance.loc[1:32, '% change'], [team_TTO_percentchange[i] for i in range (0,30)])"
   ]
  },
  {
   "cell_type": "code",
   "execution_count": null,
   "id": "arctic-paraguay",
   "metadata": {},
   "outputs": [],
   "source": []
  },
  {
   "cell_type": "markdown",
   "id": "mediterranean-sentence",
   "metadata": {},
   "source": []
  }
 ],
 "metadata": {
  "kernelspec": {
   "display_name": "Python 3",
   "language": "python",
   "name": "python3"
  },
  "language_info": {
   "codemirror_mode": {
    "name": "ipython",
    "version": 3
   },
   "file_extension": ".py",
   "mimetype": "text/x-python",
   "name": "python",
   "nbconvert_exporter": "python",
   "pygments_lexer": "ipython3",
   "version": "3.9.4"
  }
 },
 "nbformat": 4,
 "nbformat_minor": 5
}
