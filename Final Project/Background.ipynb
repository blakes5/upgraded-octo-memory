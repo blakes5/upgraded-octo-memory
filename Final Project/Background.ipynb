{
 "cells": [
  {
   "cell_type": "markdown",
   "id": "right-singing",
   "metadata": {},
   "source": [
    "# **The Three True Outcomes of Baseball**"
   ]
  },
  {
   "cell_type": "markdown",
   "id": "black-judge",
   "metadata": {},
   "source": [
    "    - What percentage of Plate Appearances have resulted in one of the TTO in 2012?\n",
    "    - What percentage of Plate Appearances have resulted in one of the TTO in 2019?\n",
    "    - How many fans have attended MLB games in 2012?\n",
    "    - How many fans have attended MLB games in 2019?"
   ]
  },
  {
   "cell_type": "markdown",
   "id": "fifty-mistake",
   "metadata": {},
   "source": [
    "[fan attendance has been decreasing](https://www.forbes.com/sites/maurybrown/2019/10/04/from-terrible-teams-to-rising-costs-and-more-why-mlb-attendance-has-been-down-over-7-since-2015/?sh=79f014c031a8)"
   ]
  },
  {
   "cell_type": "markdown",
   "id": "proud-sister",
   "metadata": {},
   "source": []
  },
  {
   "cell_type": "markdown",
   "id": "discrete-remains",
   "metadata": {},
   "source": []
  },
  {
   "cell_type": "markdown",
   "id": "trying-daughter",
   "metadata": {},
   "source": []
  },
  {
   "cell_type": "markdown",
   "id": "desperate-membership",
   "metadata": {},
   "source": []
  },
  {
   "cell_type": "markdown",
   "id": "compliant-institution",
   "metadata": {},
   "source": []
  },
  {
   "cell_type": "markdown",
   "id": "handmade-robin",
   "metadata": {},
   "source": []
  }
 ],
 "metadata": {
  "kernelspec": {
   "display_name": "Python 3",
   "language": "python",
   "name": "python3"
  },
  "language_info": {
   "codemirror_mode": {
    "name": "ipython",
    "version": 3
   },
   "file_extension": ".py",
   "mimetype": "text/x-python",
   "name": "python",
   "nbconvert_exporter": "python",
   "pygments_lexer": "ipython3",
   "version": "3.9.4"
  }
 },
 "nbformat": 4,
 "nbformat_minor": 5
}
