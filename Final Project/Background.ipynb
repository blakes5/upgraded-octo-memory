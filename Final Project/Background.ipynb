{
 "cells": [
  {
   "cell_type": "markdown",
   "id": "closed-valentine",
   "metadata": {},
   "source": [
    "# **The Three True Outcomes of Baseball**"
   ]
  },
  {
   "cell_type": "markdown",
   "id": "flexible-professor",
   "metadata": {},
   "source": []
  },
  {
   "cell_type": "markdown",
   "id": "united-reynolds",
   "metadata": {},
   "source": []
  },
  {
   "cell_type": "markdown",
   "id": "coated-upper",
   "metadata": {},
   "source": []
  },
  {
   "cell_type": "markdown",
   "id": "premium-mongolia",
   "metadata": {},
   "source": []
  },
  {
   "cell_type": "markdown",
   "id": "conceptual-burner",
   "metadata": {},
   "source": []
  },
  {
   "cell_type": "markdown",
   "id": "indian-weather",
   "metadata": {},
   "source": []
  },
  {
   "cell_type": "markdown",
   "id": "textile-appearance",
   "metadata": {},
   "source": []
  },
  {
   "cell_type": "markdown",
   "id": "atlantic-namibia",
   "metadata": {},
   "source": []
  }
 ],
 "metadata": {
  "kernelspec": {
   "display_name": "Python 3",
   "language": "python",
   "name": "python3"
  },
  "language_info": {
   "codemirror_mode": {
    "name": "ipython",
    "version": 3
   },
   "file_extension": ".py",
   "mimetype": "text/x-python",
   "name": "python",
   "nbconvert_exporter": "python",
   "pygments_lexer": "ipython3",
   "version": "3.9.4"
  }
 },
 "nbformat": 4,
 "nbformat_minor": 5
}
