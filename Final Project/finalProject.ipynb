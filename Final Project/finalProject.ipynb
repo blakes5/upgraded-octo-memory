{
 "cells": [
  {
   "cell_type": "markdown",
   "id": "challenging-integrity",
   "metadata": {},
   "source": [
    "# **The Three True Outcomes of Baseball**"
   ]
  },
  {
   "cell_type": "markdown",
   "id": "consecutive-thursday",
   "metadata": {},
   "source": [
    "## Blake Silver"
   ]
  },
  {
   "cell_type": "markdown",
   "id": "enhanced-telescope",
   "metadata": {},
   "source": [
    "## Problem:\n",
    "\n",
    "The impact of the increase of the \"Three True Outcomes\" in Major League Baseball on fan attendance of games."
   ]
  },
  {
   "cell_type": "markdown",
   "id": "restricted-prophet",
   "metadata": {},
   "source": [
    "## Background: \n",
    "\n",
    "Think about a game of baseball. What makes it exciting? Close baseball games that are back-and-forth, where both teams are scoring, and it just feels intense. For example, take [this game between the Orioles and Tigers in the 2014 Playoffs](https://www.youtube.com/watch?v=zvs4TJgAHHg). The Orioles are down by 3 in the bottom of the 8th inning, in front of their fans, trying to comeback and win Game 2 of the series in the Playoffs. After a hit by pitch, a pair of singles (that scored 1 run), and a walk, Delmon Young hits a 3 RBI (3 runs batted in) Double to give the Orioles the lead. Even just watching at home, I can feel the electric energy of the crowd and it still makes me excited watching, even though I know exactly what happens.   \n",
    "\n",
    "\n",
    "Now, baseball is not everyone's favorite sport. But, the people who are fans of baseball, get extremely invested. To the point that there is a word, sabermetrics, specifically made for the statistical analysis of baseball. The sport is a multi-billion dollar industry that has a significant influence on American culture. Children decorate their whole bedroom for a baseball team, people make their wardrobe certain colors, have mugs, cups, and blankets, all to show support for their favorite baseball team. People love baseball; it is a big deal. And further on a macro scale, Major League Baseball recorded [10.7 billion dollars](https://www.cnbc.com/2019/12/22/report-mlb-revenue-for-2019-season-a-record-10point7-billion.html) in revenue in the 2019 season, which is quite a significant portion of the overall [money in the United States economy](https://en.wikipedia.org/wiki/Economy_of_the_United_States). \n",
    "\n",
    "\n",
    "With how huge the sport of baseball is, coupled with a general growth in the population, one might expect that the attendance, one of the best measures of the sport's popularity, should be growing. Throughout the past several seasons, Major League Baseball (MLB) [fan attendance has been decreasing](https://www.forbes.com/sites/maurybrown/2019/10/04/from-terrible-teams-to-rising-costs-and-more-why-mlb-attendance-has-been-down-over-7-since-2015/?sh=79f014c031a8). This includes a 1.62% drop in attendance from 2018 to 2019, which was the most recent \"normal\" season of baseball, before the COVID-19 pandemic. And there have been steady declines for the last several seasons, which is more than just a one season fluke. There are a variety of factors for the recent decrease in attendance, but one of the main ones could be the increase in the \"Three True Outcomes\".\n",
    "\n",
    "\n",
    "The \"Three True Outcomes\" (TTO) in baseball refer to Home Runs, Strikeouts, and Walks, which are 3 common outcomes of a plate appearance. A home run is when the batter hits the ball over the fence and automatically scores a run (or multiple runs if there are runners on base). A strikeout is when 3 strikes are thrown in one at bat to the batter, resulting in an out for the fielding team without the ball being put in play (barring foul balls or a dropped third strike). A walk is when a batter does not swing at 4 pitches that aren't in the strikezone, also known as balls, resulting in the batter being rewarded first base for a \"base on balls\", or a walk. Again barring foul balls (balls that are hit outside of the white lines on the field), a walk does not involve the ball being put in play. These 3 outcomes are grouped together in this statistic because all 3 of these outcomes only involve the batter, the Pitcher and the Catcher since the ball is never hit \"in play\" in these 3 outcomes (except for rare cases). It shrinks baseball down to an oversimplified version of the game where the 7 fielders behind the Pitcher are unnecessary. But, why does TTO matter? To put it simply, it makes baseball more boring. Think about it this way. Imagine you went to a baseball game where only TTO plate appearances happened (only Home Runs, Strikeouts, and Walks) for the entire game. Home runs are exciting, but they don't happen quite as much as walks or strikeouts. So, this hypothetical game consists of mainly strikeouts and walks, which means most batters who bat in this game won't even hit the ball. As in, the purpose of baseball for the batter, to hit the ball, will not even happen a majority of the time in this theoretical scenario. This type of game would just be boring to watch. Parts of baseball can be slow, but that is usually made up for with enough action in key moments through players getting on base and clutch base hits. This type of game takes away most of the opportunity for excitement there and renders a baseball game to be much less entertaining to watch if it just had home runs, walks, and strikeouts. "
   ]
  },
  {
   "cell_type": "markdown",
   "id": "foreign-theater",
   "metadata": {},
   "source": [
    "## Research questions: \n",
    "- How has the perentage of Plate Appearances that resulted in one of the Three True Outcomes changed over time?\n",
    "- How has fan attendance of MLB games changed the last decade?\n",
    "- Is there any correlation between these changes in TTO rate and fan attendance?"
   ]
  },
  {
   "cell_type": "markdown",
   "id": "motivated-fleece",
   "metadata": {},
   "source": [
    "## Importance of the questions: \n",
    "\n",
    "As stated before, fan attendance has generally been decreasing the in recent years. And with baseball being a multi-billion dollar industry that a lot of people are invested in, a decrease in fans has a significant impact. It shows a decline in the success of the sport, which is notable considering baseball is called \"America's past-time\". So, I will be looking at how fan attendance has changed the past decade and analyzing if that drop really is that consequential. But of course, there have to be some factors for why the fan attendance has generally seemed to go down. There has also recently been an [increase in the number of home runs](https://www.mlb.com/news/mlb-releases-independent-study-of-home-run-surge), to the point that the MLB conducted an independent study to analyze the effects of a minor change in the stitching of the baseball on home runs. The relevance and magnitude of an increase in home runs recently has become large enough to justify the MLB conducting this study. Also during the recent years, the MLB has been constantly breaking its [record for strikeouts](https://www.si.com/mlb/2019/05/15/strikeout-record-pace-best-pitchers) every season. In 2019, they were up a whopping .9% from the previous year. This might not sound like much, but this near 1% increase represents 1,700 additional strikeouts, which is 5,100 additional strikes in the course of a full 162 game season. So, a .9% difference adds up over the season and really has an impact. With home runs and strikeouts rising, that will naturally increase the TTO rate (which is comprised of home runs, strikeouts, and walks) over the recent years. So with TTO rate on the rise, and fan attendance falling, that poses a question to see if there is any relationship between these two. Specifically, if there is any correlation between these trends becomes a compelling question. If so, this spots out a specific problem that the MLB could try to solve for, through tweaking certain rules of the game. Now of course, correlation does not equal causation, but with 2 potentially related factors here, it is not crazy to postulate that an increase in part of the game that is generally more boring would cause a decrease in fan attendance."
   ]
  },
  {
   "cell_type": "markdown",
   "id": "covered-pension",
   "metadata": {},
   "source": [
    "## Datasets used for this project: \n",
    "\n",
    "[2019 Standard Batting (from Baseball Reference)](https://www.baseball-reference.com/leagues/MLB/2019.shtml#teams_standard_batting)\n",
    "\n",
    "[2012 Standard Batting (from Baseball Reference)](https://www.baseball-reference.com/leagues/MLB/2012.shtml#teams_standard_batting)\n",
    "\n",
    "[2014 Standard Batting (from Baseball Reference)](https://www.baseball-reference.com/leagues/MLB/2014.shtml#teams_standard_batting)\n",
    "\n",
    "[2009 Standard Batting (from Baseball Reference)](https://www.baseball-reference.com/leagues/MLB/2009.shtml#teams_standard_batting)\n",
    "\n",
    "[2004 Standard Batting (from Baseball Reference)](https://www.baseball-reference.com/leagues/MLB/2004.shtml#teams_standard_batting)\n",
    "\n",
    "[1999 Standard Batting (from Baseball Reference)](https://www.baseball-reference.com/leagues/MLB/1999.shtml#teams_standard_batting)\n",
    "\n",
    "[1994 Standard Batting (from Baseball Reference)](https://www.baseball-reference.com/leagues/MLB/1994.shtml#teams_standard_batting)\n",
    "\n",
    "[1989 Standard Batting (from Baseball Reference)](https://www.baseball-reference.com/leagues/MLB/1989.shtml#teams_standard_batting)\n",
    "\n",
    "[Attendance Each season in the 2010's](https://www.ballparksofbaseball.com/2010s-ballpark-attendance/)\n",
    "\n",
    "\n",
    "Each of these datasets shows the team batting totals for each MLB team (all 30 of them) in various statistics in that respective season. While this chart includes many columns, the only ones needed here are the columns labeled \"PA\", \"HR\", \"BB\", and \"SO\". These stand for \"Plate Appearances\", \"Home Runs\", \"Base on Balls\" (also known as a \"Walk\"), and \"Strikeouts\" respectively. *Baseball Reference* allows the user to edit the dataset to eliminate certain columns (or rows), which I did on the website before downloading the Excel files and processing them into *JupyterLab*. We only need these 4 columns because the HR, BB, and SO are the 3 outcomes that make up the TTO, while the PA are the total of all TTO plus all non-TTO (anything else besides a home run, walk, or strikeout). The PA are needed because they allow the TTO to be seen as a percentage of all plate appearances, rather than raw totals, which makes it easier to compare between seasons. Side note: Plate Appearances are used rather than \"At Bats\" (AB) because the AB statistic does not include plate appearances that result in a hit by pitch, sacrifice bunt, sacrifice fly, or most importantly, a walk. This makes the plate appearances the more relevant total statistic of all possible hitting outcomes.\n",
    "    \n",
    "    \n",
    "The reason I chose to use all 8 of these \"Standard Batting\" datasets is because this allows me to get TTO rate throughout a decent chunk of MLB history. I decided to get every 5 seasons because that was a close enough gap that it shows trends over time, but also far enough that I was able to cover 30 years in those datasets (1989-2019, every 5 years), which covers the MLB's recent years. Then, I also have the 2012 \"Standard Batting\" dataset because 2012 was [one of the last times attendance increased from the previous year](https://www.kansascity.com/sports/mlb/kansas-city-royals/article230089079.html). This makes it a compelling dataset for this project as that sets a relatively high bar for attendance, compared to the lower attendance in 2019. Also, the 2020 MLB season was severely shortened (60 games instead of 162) and also did not allow any fans to attend in the regular season, all due to the COVID-19 pandemic. The 2021 season has limited attendance, also due to COVID-19, which makes it an inaccurate comparison season too. This makes 2019 the most recent normal season in terms of fan attendance so that will be used as the bar for \"current\" fan attendance.\n",
    "\n",
    "    \n",
    "The last dataset shows the fan attendance for each MLB team in the 2010's decade. It includes total numbers for each team throughout the decade, as well as totals for each season, across the whole league. It does include new team names and new fields as separate entries in the dataset. The Atlanta Braves changed home fields in 2017, which is why there are some NULL values in the 2 different rows. In 2012, the \"Florida Marlins\" changed their name to the \"Miami Marlins\" which similarly results in some NULL values, and annoyingly moves those 2 rows away from each other because the rows are sorted alphabetically by city (or state) name. I'll be cleaning up those 2 rows of the data to make using this dataset easier for myself. "
   ]
  },
  {
   "cell_type": "markdown",
   "id": "broadband-address",
   "metadata": {},
   "source": [
    "## Data Science Proces: "
   ]
  },
  {
   "cell_type": "markdown",
   "id": "international-rachel",
   "metadata": {},
   "source": [
    "### Data Cleaning"
   ]
  },
  {
   "cell_type": "code",
   "execution_count": 33,
   "id": "fatty-virtue",
   "metadata": {},
   "outputs": [],
   "source": [
    "import pandas as pd\n",
    "from scipy import stats\n",
    "import matplotlib.pyplot as plt\n",
    "import seaborn as sns\n",
    "import numpy as np\n",
    "from sklearn.linear_model import LinearRegression\n",
    "from sklearn.model_selection import train_test_split \n",
    "from sklearn import metrics\n",
    "from scipy.stats import kendalltau"
   ]
  },
  {
   "cell_type": "markdown",
   "id": "external-stand",
   "metadata": {},
   "source": [
    "##### Reading in excel files (Batting from 1989-2019 every 5 years) + 2012 Batting + 2010's Attendance"
   ]
  },
  {
   "cell_type": "code",
   "execution_count": 44,
   "id": "american-ensemble",
   "metadata": {},
   "outputs": [],
   "source": [
    "attendance = pd.read_csv(\"Attendance.csv\")\n",
    "batting_2012 = pd.read_excel(\"2012.xlsx\")\n",
    "\n",
    "batting_2019 = pd.read_excel(\"2019.xlsx\")\n",
    "batting_2014 = pd.read_excel(\"2014.xlsx\")\n",
    "batting_2009 = pd.read_excel(\"2009.xlsx\")\n",
    "batting_2004 = pd.read_excel(\"2004.xlsx\")\n",
    "batting_1999 = pd.read_excel(\"1999.xlsx\")\n",
    "batting_1994 = pd.read_excel(\"1994.xlsx\")\n",
    "batting_1989 = pd.read_excel(\"1989.xlsx\")"
   ]
  },
  {
   "cell_type": "markdown",
   "id": "protective-gentleman",
   "metadata": {},
   "source": [
    "##### Dropping the league total numbers at the bottom of each Batting dataset because those will not be needed."
   ]
  },
  {
   "cell_type": "code",
   "execution_count": 45,
   "id": "lined-print",
   "metadata": {},
   "outputs": [],
   "source": [
    "batting_2019 = batting_2019.drop(index=31)\n",
    "batting_2014 = batting_2014.drop(index=31)\n",
    "batting_2012 = batting_2012.drop(index=31)\n",
    "batting_2009 = batting_2009.drop(index=31)\n",
    "batting_2004 = batting_2004.drop(index=31)\n",
    "batting_1999 = batting_1999.drop(index=31)\n",
    "batting_1994 = batting_1994.drop(index=29)\n",
    "batting_1989 = batting_1989.drop(index=27)"
   ]
  },
  {
   "cell_type": "markdown",
   "id": "subtle-apartment",
   "metadata": {
    "tags": []
   },
   "source": [
    "##### Adding a TTO column to each dataset"
   ]
  },
  {
   "cell_type": "code",
   "execution_count": 46,
   "id": "known-specific",
   "metadata": {
    "tags": []
   },
   "outputs": [],
   "source": [
    "batting_2019['TTO'] = round((batting_2019['HR'] + batting_2019['BB'] + batting_2019['SO']) / batting_2019['PA'], 5)\n",
    "batting_2014['TTO'] = round((batting_2014['HR'] + batting_2014['BB'] + batting_2014['SO']) / batting_2014['PA'], 5)\n",
    "batting_2012['TTO'] = round((batting_2012['HR'] + batting_2012['BB'] + batting_2012['SO']) / batting_2012['PA'], 5)\n",
    "batting_2009['TTO'] = round((batting_2009['HR'] + batting_2009['BB'] + batting_2009['SO']) / batting_2009['PA'], 5)\n",
    "batting_2004['TTO'] = round((batting_2004['HR'] + batting_2004['BB'] + batting_2004['SO']) / batting_2004['PA'], 5)\n",
    "batting_1999['TTO'] = round((batting_1999['HR'] + batting_1999['BB'] + batting_1999['SO']) / batting_1999['PA'], 5)\n",
    "batting_1994['TTO'] = round((batting_1994['HR'] + batting_1994['BB'] + batting_1994['SO']) / batting_1994['PA'], 5)\n",
    "batting_1989['TTO'] = round((batting_1989['HR'] + batting_1989['BB'] + batting_1989['SO']) / batting_1989['PA'], 5)\n",
    "# Adds a new row called 'TTO' to each dataset, which is the TTO value for each team in that given season"
   ]
  },
  {
   "cell_type": "markdown",
   "id": "separate-resolution",
   "metadata": {},
   "source": [
    "##### Cleaning out extraneous rows in the attendance dataset"
   ]
  },
  {
   "cell_type": "code",
   "execution_count": 47,
   "id": "electoral-adjustment",
   "metadata": {},
   "outputs": [],
   "source": [
    "attendance['2017'][3] = attendance['2017'][2]\n",
    "attendance['2018'][3] = attendance['2018'][2]\n",
    "attendance['2019'][3] = attendance['2019'][2]\n",
    "attendance = attendance.drop(index = 2)\n",
    "## Due to the Atlanta Braves changing their stadium in 2017, that counts as a new index in the dataset I am using\n",
    "## But it is the same team, so we can just count it as one index, and get rid of the NaN values, with these few lines of code"
   ]
  },
  {
   "cell_type": "markdown",
   "id": "annoying-share",
   "metadata": {},
   "source": [
    "I chose to keep the old field for the Atlanta Braves as the field name that will stay in the dataset, just because that field was there for longer in the decade. Simiarly, the Miami Marlins were in Miami, as opposed to Florida (even though the city of Miami is in the state of Florida), for longer so I kept the index that has the location as Miami. This also stays consistent with the \"MIA\" abbreviation the Marlins have in the TTO datasets I am using. "
   ]
  },
  {
   "cell_type": "code",
   "execution_count": 48,
   "id": "polyphonic-brighton",
   "metadata": {},
   "outputs": [],
   "source": [
    "attendance['2010'][17] = attendance['2010'][12]\n",
    "attendance['2011'][17] = attendance['2011'][12]\n",
    "attendance = attendance.drop(index = 12)\n",
    "## The Florida Marlins moved cities, changing their name to the Miami Marlins in 2012\n",
    "## This also causes a new index in the dataset, which I do not need, so I will combine these two"
   ]
  },
  {
   "cell_type": "markdown",
   "id": "white-apple",
   "metadata": {},
   "source": [
    "##### Converting strings into ints"
   ]
  },
  {
   "cell_type": "code",
   "execution_count": 52,
   "id": "veterinary-italian",
   "metadata": {},
   "outputs": [],
   "source": [
    "attendance['2010'] = attendance['2010'].replace(\",\", \"\", regex=True)\n",
    "attendance['2011'] = attendance['2011'].replace(\",\", \"\", regex=True)\n",
    "attendance['2012'] = attendance['2012'].replace(\",\", \"\", regex=True)\n",
    "attendance['2013'] = attendance['2013'].replace(\",\", \"\", regex=True)\n",
    "attendance['2014'] = attendance['2014'].replace(\",\", \"\", regex=True)\n",
    "attendance['2015'] = attendance['2015'].replace(\",\", \"\", regex=True)\n",
    "attendance['2016'] = attendance['2016'].replace(\",\", \"\", regex=True)\n",
    "attendance['2017'] = attendance['2017'].replace(\",\", \"\", regex=True)\n",
    "attendance['2018'] = attendance['2018'].replace(\",\", \"\", regex=True)\n",
    "attendance['2019'] = attendance['2019'].replace(\",\", \"\", regex=True)\n",
    "attendance['Total'] = attendance['Total'].replace(\",\", \"\", regex=True)\n",
    "\n",
    "# This removes all the commas from the strings in the dataframe, which will allow me to convert them to ints"
   ]
  },
  {
   "cell_type": "code",
   "execution_count": 53,
   "id": "packed-dryer",
   "metadata": {},
   "outputs": [],
   "source": [
    "attendance['2010'] = pd.to_numeric(attendance['2010'])\n",
    "attendance['2011'] = pd.to_numeric(attendance['2011'])\n",
    "attendance['2012'] = pd.to_numeric(attendance['2012'])\n",
    "attendance['2013'] = pd.to_numeric(attendance['2013'])\n",
    "attendance['2014'] = pd.to_numeric(attendance['2014'])\n",
    "attendance['2015'] = pd.to_numeric(attendance['2015'])\n",
    "attendance['2016'] = pd.to_numeric(attendance['2016'])\n",
    "attendance['2017'] = pd.to_numeric(attendance['2017'])\n",
    "attendance['2018'] = pd.to_numeric(attendance['2018'])\n",
    "attendance['2019'] = pd.to_numeric(attendance['2019'])\n",
    "\n",
    "# This makes all the strings of numbers in the dataset into actual ints, which allows for mathematical calculations"
   ]
  },
  {
   "cell_type": "markdown",
   "id": "educational-hybrid",
   "metadata": {},
   "source": [
    "##### Adjusting totals column"
   ]
  },
  {
   "cell_type": "code",
   "execution_count": 54,
   "id": "driving-consumer",
   "metadata": {},
   "outputs": [],
   "source": [
    "attendance.loc[3, 'Total'] = attendance.loc[3, '2010':'2019'].sum()\n",
    "attendance.loc[17, 'Total'] = attendance.loc[17, '2010':'2019'].sum()\n",
    "\n",
    "# This adjusts the Totals column at the end to have the total from both Atlanta Braves' fields and both Marlins teams in the 2010's decade"
   ]
  },
  {
   "cell_type": "markdown",
   "id": "prospective-gamma",
   "metadata": {},
   "source": [
    "### Data Science "
   ]
  },
  {
   "cell_type": "markdown",
   "id": "emotional-oasis",
   "metadata": {},
   "source": [
    "Here is an example of one of the datasets, the 2019 batting, to get a sense of what the data looks like. Note that all the batting datasets have the same format, so the other ones look roughly the same as this one, just with different numbers of course. And note that the 1994 batting has 2 less indices (2 less teams in the league at that point) and the 1989 batting has 4 less indices (4 less teams) than all the other batting datasets (from 1999 on)."
   ]
  },
  {
   "cell_type": "code",
   "execution_count": 55,
   "id": "right-worship",
   "metadata": {},
   "outputs": [
    {
     "data": {
      "text/html": [
       "<div>\n",
       "<style scoped>\n",
       "    .dataframe tbody tr th:only-of-type {\n",
       "        vertical-align: middle;\n",
       "    }\n",
       "\n",
       "    .dataframe tbody tr th {\n",
       "        vertical-align: top;\n",
       "    }\n",
       "\n",
       "    .dataframe thead th {\n",
       "        text-align: right;\n",
       "    }\n",
       "</style>\n",
       "<table border=\"1\" class=\"dataframe\">\n",
       "  <thead>\n",
       "    <tr style=\"text-align: right;\">\n",
       "      <th></th>\n",
       "      <th>Tm</th>\n",
       "      <th>PA</th>\n",
       "      <th>HR</th>\n",
       "      <th>BB</th>\n",
       "      <th>SO</th>\n",
       "      <th>TTO</th>\n",
       "    </tr>\n",
       "  </thead>\n",
       "  <tbody>\n",
       "    <tr>\n",
       "      <th>0</th>\n",
       "      <td>ARI</td>\n",
       "      <td>6315</td>\n",
       "      <td>220</td>\n",
       "      <td>540</td>\n",
       "      <td>1360</td>\n",
       "      <td>0.33571</td>\n",
       "    </tr>\n",
       "    <tr>\n",
       "      <th>1</th>\n",
       "      <td>ATL</td>\n",
       "      <td>6302</td>\n",
       "      <td>249</td>\n",
       "      <td>619</td>\n",
       "      <td>1467</td>\n",
       "      <td>0.37052</td>\n",
       "    </tr>\n",
       "    <tr>\n",
       "      <th>2</th>\n",
       "      <td>BAL</td>\n",
       "      <td>6189</td>\n",
       "      <td>213</td>\n",
       "      <td>462</td>\n",
       "      <td>1435</td>\n",
       "      <td>0.34093</td>\n",
       "    </tr>\n",
       "    <tr>\n",
       "      <th>3</th>\n",
       "      <td>BOS</td>\n",
       "      <td>6475</td>\n",
       "      <td>245</td>\n",
       "      <td>590</td>\n",
       "      <td>1382</td>\n",
       "      <td>0.34239</td>\n",
       "    </tr>\n",
       "    <tr>\n",
       "      <th>4</th>\n",
       "      <td>CHC</td>\n",
       "      <td>6195</td>\n",
       "      <td>256</td>\n",
       "      <td>581</td>\n",
       "      <td>1460</td>\n",
       "      <td>0.37078</td>\n",
       "    </tr>\n",
       "    <tr>\n",
       "      <th>5</th>\n",
       "      <td>CHW</td>\n",
       "      <td>6042</td>\n",
       "      <td>182</td>\n",
       "      <td>378</td>\n",
       "      <td>1549</td>\n",
       "      <td>0.34906</td>\n",
       "    </tr>\n",
       "    <tr>\n",
       "      <th>6</th>\n",
       "      <td>CIN</td>\n",
       "      <td>6100</td>\n",
       "      <td>227</td>\n",
       "      <td>492</td>\n",
       "      <td>1436</td>\n",
       "      <td>0.35328</td>\n",
       "    </tr>\n",
       "    <tr>\n",
       "      <th>7</th>\n",
       "      <td>CLE</td>\n",
       "      <td>6124</td>\n",
       "      <td>223</td>\n",
       "      <td>563</td>\n",
       "      <td>1332</td>\n",
       "      <td>0.34585</td>\n",
       "    </tr>\n",
       "    <tr>\n",
       "      <th>8</th>\n",
       "      <td>COL</td>\n",
       "      <td>6288</td>\n",
       "      <td>224</td>\n",
       "      <td>489</td>\n",
       "      <td>1503</td>\n",
       "      <td>0.35242</td>\n",
       "    </tr>\n",
       "    <tr>\n",
       "      <th>9</th>\n",
       "      <td>DET</td>\n",
       "      <td>6039</td>\n",
       "      <td>149</td>\n",
       "      <td>391</td>\n",
       "      <td>1595</td>\n",
       "      <td>0.35354</td>\n",
       "    </tr>\n",
       "    <tr>\n",
       "      <th>10</th>\n",
       "      <td>HOU</td>\n",
       "      <td>6394</td>\n",
       "      <td>288</td>\n",
       "      <td>645</td>\n",
       "      <td>1166</td>\n",
       "      <td>0.32828</td>\n",
       "    </tr>\n",
       "    <tr>\n",
       "      <th>11</th>\n",
       "      <td>KCR</td>\n",
       "      <td>6080</td>\n",
       "      <td>162</td>\n",
       "      <td>456</td>\n",
       "      <td>1405</td>\n",
       "      <td>0.33273</td>\n",
       "    </tr>\n",
       "    <tr>\n",
       "      <th>12</th>\n",
       "      <td>LAA</td>\n",
       "      <td>6251</td>\n",
       "      <td>220</td>\n",
       "      <td>586</td>\n",
       "      <td>1276</td>\n",
       "      <td>0.33307</td>\n",
       "    </tr>\n",
       "    <tr>\n",
       "      <th>13</th>\n",
       "      <td>LAD</td>\n",
       "      <td>6282</td>\n",
       "      <td>279</td>\n",
       "      <td>607</td>\n",
       "      <td>1356</td>\n",
       "      <td>0.35689</td>\n",
       "    </tr>\n",
       "    <tr>\n",
       "      <th>14</th>\n",
       "      <td>MIA</td>\n",
       "      <td>6045</td>\n",
       "      <td>146</td>\n",
       "      <td>395</td>\n",
       "      <td>1469</td>\n",
       "      <td>0.33251</td>\n",
       "    </tr>\n",
       "    <tr>\n",
       "      <th>15</th>\n",
       "      <td>MIL</td>\n",
       "      <td>6309</td>\n",
       "      <td>250</td>\n",
       "      <td>629</td>\n",
       "      <td>1563</td>\n",
       "      <td>0.38707</td>\n",
       "    </tr>\n",
       "    <tr>\n",
       "      <th>16</th>\n",
       "      <td>MIN</td>\n",
       "      <td>6392</td>\n",
       "      <td>307</td>\n",
       "      <td>525</td>\n",
       "      <td>1334</td>\n",
       "      <td>0.33886</td>\n",
       "    </tr>\n",
       "    <tr>\n",
       "      <th>17</th>\n",
       "      <td>NYM</td>\n",
       "      <td>6290</td>\n",
       "      <td>242</td>\n",
       "      <td>516</td>\n",
       "      <td>1384</td>\n",
       "      <td>0.34054</td>\n",
       "    </tr>\n",
       "    <tr>\n",
       "      <th>18</th>\n",
       "      <td>NYY</td>\n",
       "      <td>6245</td>\n",
       "      <td>306</td>\n",
       "      <td>569</td>\n",
       "      <td>1437</td>\n",
       "      <td>0.37022</td>\n",
       "    </tr>\n",
       "    <tr>\n",
       "      <th>19</th>\n",
       "      <td>OAK</td>\n",
       "      <td>6269</td>\n",
       "      <td>257</td>\n",
       "      <td>578</td>\n",
       "      <td>1338</td>\n",
       "      <td>0.34663</td>\n",
       "    </tr>\n",
       "    <tr>\n",
       "      <th>20</th>\n",
       "      <td>PHI</td>\n",
       "      <td>6261</td>\n",
       "      <td>215</td>\n",
       "      <td>562</td>\n",
       "      <td>1453</td>\n",
       "      <td>0.35617</td>\n",
       "    </tr>\n",
       "    <tr>\n",
       "      <th>21</th>\n",
       "      <td>PIT</td>\n",
       "      <td>6228</td>\n",
       "      <td>163</td>\n",
       "      <td>425</td>\n",
       "      <td>1213</td>\n",
       "      <td>0.28918</td>\n",
       "    </tr>\n",
       "    <tr>\n",
       "      <th>22</th>\n",
       "      <td>SDP</td>\n",
       "      <td>6019</td>\n",
       "      <td>219</td>\n",
       "      <td>504</td>\n",
       "      <td>1581</td>\n",
       "      <td>0.38279</td>\n",
       "    </tr>\n",
       "    <tr>\n",
       "      <th>23</th>\n",
       "      <td>SEA</td>\n",
       "      <td>6199</td>\n",
       "      <td>239</td>\n",
       "      <td>588</td>\n",
       "      <td>1581</td>\n",
       "      <td>0.38845</td>\n",
       "    </tr>\n",
       "    <tr>\n",
       "      <th>24</th>\n",
       "      <td>SFG</td>\n",
       "      <td>6170</td>\n",
       "      <td>167</td>\n",
       "      <td>475</td>\n",
       "      <td>1435</td>\n",
       "      <td>0.33663</td>\n",
       "    </tr>\n",
       "    <tr>\n",
       "      <th>25</th>\n",
       "      <td>STL</td>\n",
       "      <td>6167</td>\n",
       "      <td>210</td>\n",
       "      <td>561</td>\n",
       "      <td>1420</td>\n",
       "      <td>0.35528</td>\n",
       "    </tr>\n",
       "    <tr>\n",
       "      <th>26</th>\n",
       "      <td>TBR</td>\n",
       "      <td>6285</td>\n",
       "      <td>217</td>\n",
       "      <td>542</td>\n",
       "      <td>1493</td>\n",
       "      <td>0.35831</td>\n",
       "    </tr>\n",
       "    <tr>\n",
       "      <th>27</th>\n",
       "      <td>TEX</td>\n",
       "      <td>6204</td>\n",
       "      <td>223</td>\n",
       "      <td>534</td>\n",
       "      <td>1578</td>\n",
       "      <td>0.37637</td>\n",
       "    </tr>\n",
       "    <tr>\n",
       "      <th>28</th>\n",
       "      <td>TOR</td>\n",
       "      <td>6091</td>\n",
       "      <td>247</td>\n",
       "      <td>509</td>\n",
       "      <td>1514</td>\n",
       "      <td>0.37268</td>\n",
       "    </tr>\n",
       "    <tr>\n",
       "      <th>29</th>\n",
       "      <td>WSN</td>\n",
       "      <td>6267</td>\n",
       "      <td>231</td>\n",
       "      <td>584</td>\n",
       "      <td>1308</td>\n",
       "      <td>0.33876</td>\n",
       "    </tr>\n",
       "    <tr>\n",
       "      <th>30</th>\n",
       "      <td>LgAvg</td>\n",
       "      <td>6217</td>\n",
       "      <td>226</td>\n",
       "      <td>530</td>\n",
       "      <td>1427</td>\n",
       "      <td>0.35113</td>\n",
       "    </tr>\n",
       "  </tbody>\n",
       "</table>\n",
       "</div>"
      ],
      "text/plain": [
       "       Tm    PA   HR   BB    SO      TTO\n",
       "0     ARI  6315  220  540  1360  0.33571\n",
       "1     ATL  6302  249  619  1467  0.37052\n",
       "2     BAL  6189  213  462  1435  0.34093\n",
       "3     BOS  6475  245  590  1382  0.34239\n",
       "4     CHC  6195  256  581  1460  0.37078\n",
       "5     CHW  6042  182  378  1549  0.34906\n",
       "6     CIN  6100  227  492  1436  0.35328\n",
       "7     CLE  6124  223  563  1332  0.34585\n",
       "8     COL  6288  224  489  1503  0.35242\n",
       "9     DET  6039  149  391  1595  0.35354\n",
       "10    HOU  6394  288  645  1166  0.32828\n",
       "11    KCR  6080  162  456  1405  0.33273\n",
       "12    LAA  6251  220  586  1276  0.33307\n",
       "13    LAD  6282  279  607  1356  0.35689\n",
       "14    MIA  6045  146  395  1469  0.33251\n",
       "15    MIL  6309  250  629  1563  0.38707\n",
       "16    MIN  6392  307  525  1334  0.33886\n",
       "17    NYM  6290  242  516  1384  0.34054\n",
       "18    NYY  6245  306  569  1437  0.37022\n",
       "19    OAK  6269  257  578  1338  0.34663\n",
       "20    PHI  6261  215  562  1453  0.35617\n",
       "21    PIT  6228  163  425  1213  0.28918\n",
       "22    SDP  6019  219  504  1581  0.38279\n",
       "23    SEA  6199  239  588  1581  0.38845\n",
       "24    SFG  6170  167  475  1435  0.33663\n",
       "25    STL  6167  210  561  1420  0.35528\n",
       "26    TBR  6285  217  542  1493  0.35831\n",
       "27    TEX  6204  223  534  1578  0.37637\n",
       "28    TOR  6091  247  509  1514  0.37268\n",
       "29    WSN  6267  231  584  1308  0.33876\n",
       "30  LgAvg  6217  226  530  1427  0.35113"
      ]
     },
     "execution_count": 55,
     "metadata": {},
     "output_type": "execute_result"
    }
   ],
   "source": [
    "batting_2019"
   ]
  },
  {
   "cell_type": "markdown",
   "id": "organic-stock",
   "metadata": {},
   "source": [
    "Let's also print out the attendance dataset, to give an idea of what the data we are working with looks like."
   ]
  },
  {
   "cell_type": "code",
   "execution_count": 12,
   "id": "sensitive-product",
   "metadata": {},
   "outputs": [
    {
     "data": {
      "text/html": [
       "<div>\n",
       "<style scoped>\n",
       "    .dataframe tbody tr th:only-of-type {\n",
       "        vertical-align: middle;\n",
       "    }\n",
       "\n",
       "    .dataframe tbody tr th {\n",
       "        vertical-align: top;\n",
       "    }\n",
       "\n",
       "    .dataframe thead th {\n",
       "        text-align: right;\n",
       "    }\n",
       "</style>\n",
       "<table border=\"1\" class=\"dataframe\">\n",
       "  <thead>\n",
       "    <tr style=\"text-align: right;\">\n",
       "      <th></th>\n",
       "      <th>Team</th>\n",
       "      <th>Ballpark</th>\n",
       "      <th>2010</th>\n",
       "      <th>2011</th>\n",
       "      <th>2012</th>\n",
       "      <th>2013</th>\n",
       "      <th>2014</th>\n",
       "      <th>2015</th>\n",
       "      <th>2016</th>\n",
       "      <th>2017</th>\n",
       "      <th>2018</th>\n",
       "      <th>2019</th>\n",
       "      <th>Total</th>\n",
       "    </tr>\n",
       "  </thead>\n",
       "  <tbody>\n",
       "    <tr>\n",
       "      <th>0</th>\n",
       "      <td>NaN</td>\n",
       "      <td>TOTAL ATTENDANCE</td>\n",
       "      <td>73171239</td>\n",
       "      <td>73451522</td>\n",
       "      <td>73951759</td>\n",
       "      <td>74026895</td>\n",
       "      <td>73739622</td>\n",
       "      <td>73760032</td>\n",
       "      <td>72976074</td>\n",
       "      <td>72670423</td>\n",
       "      <td>69649736</td>\n",
       "      <td>68478648</td>\n",
       "      <td>725875950</td>\n",
       "    </tr>\n",
       "    <tr>\n",
       "      <th>1</th>\n",
       "      <td>Arizona Diamondbacks</td>\n",
       "      <td>Chase Field</td>\n",
       "      <td>2056519</td>\n",
       "      <td>2105432</td>\n",
       "      <td>2177617</td>\n",
       "      <td>2134795</td>\n",
       "      <td>2073730</td>\n",
       "      <td>2080145</td>\n",
       "      <td>2036216</td>\n",
       "      <td>2134375</td>\n",
       "      <td>2242695</td>\n",
       "      <td>2135510</td>\n",
       "      <td>21177034</td>\n",
       "    </tr>\n",
       "    <tr>\n",
       "      <th>3</th>\n",
       "      <td>Atlanta Braves</td>\n",
       "      <td>Turner Field</td>\n",
       "      <td>2510119</td>\n",
       "      <td>2372940</td>\n",
       "      <td>2420171</td>\n",
       "      <td>2548679</td>\n",
       "      <td>2354305</td>\n",
       "      <td>2001392</td>\n",
       "      <td>2020914</td>\n",
       "      <td>2505252</td>\n",
       "      <td>2555781</td>\n",
       "      <td>2654920</td>\n",
       "      <td>23944473</td>\n",
       "    </tr>\n",
       "    <tr>\n",
       "      <th>4</th>\n",
       "      <td>Baltimore Orioles</td>\n",
       "      <td>Camden Yards</td>\n",
       "      <td>1733018</td>\n",
       "      <td>1755461</td>\n",
       "      <td>2102240</td>\n",
       "      <td>2357561</td>\n",
       "      <td>2464473</td>\n",
       "      <td>2320590</td>\n",
       "      <td>2172344</td>\n",
       "      <td>2028424</td>\n",
       "      <td>1564192</td>\n",
       "      <td>1307807</td>\n",
       "      <td>19806110</td>\n",
       "    </tr>\n",
       "    <tr>\n",
       "      <th>5</th>\n",
       "      <td>Boston Red Sox</td>\n",
       "      <td>Fenway Park</td>\n",
       "      <td>3046445</td>\n",
       "      <td>3054001</td>\n",
       "      <td>3043003</td>\n",
       "      <td>2833333</td>\n",
       "      <td>2956089</td>\n",
       "      <td>2880694</td>\n",
       "      <td>2955434</td>\n",
       "      <td>2917678</td>\n",
       "      <td>2895575</td>\n",
       "      <td>2924627</td>\n",
       "      <td>29506879</td>\n",
       "    </tr>\n",
       "    <tr>\n",
       "      <th>6</th>\n",
       "      <td>Chicago Cubs</td>\n",
       "      <td>Wrigley Field</td>\n",
       "      <td>3062973</td>\n",
       "      <td>3017966</td>\n",
       "      <td>2882756</td>\n",
       "      <td>2642682</td>\n",
       "      <td>2652113</td>\n",
       "      <td>2959812</td>\n",
       "      <td>3232420</td>\n",
       "      <td>3199562</td>\n",
       "      <td>3181089</td>\n",
       "      <td>3094865</td>\n",
       "      <td>29926238</td>\n",
       "    </tr>\n",
       "    <tr>\n",
       "      <th>7</th>\n",
       "      <td>Chicago White Sox</td>\n",
       "      <td>US Cellular Field</td>\n",
       "      <td>2194378</td>\n",
       "      <td>2001117</td>\n",
       "      <td>1965955</td>\n",
       "      <td>1768413</td>\n",
       "      <td>1650821</td>\n",
       "      <td>1755810</td>\n",
       "      <td>1746293</td>\n",
       "      <td>1629470</td>\n",
       "      <td>1608817</td>\n",
       "      <td>1629636</td>\n",
       "      <td>17950710</td>\n",
       "    </tr>\n",
       "    <tr>\n",
       "      <th>8</th>\n",
       "      <td>Cincinnati Reds</td>\n",
       "      <td>Great American Ballpark</td>\n",
       "      <td>2060551</td>\n",
       "      <td>2213498</td>\n",
       "      <td>2347251</td>\n",
       "      <td>2492059</td>\n",
       "      <td>2476664</td>\n",
       "      <td>2419506</td>\n",
       "      <td>1894085</td>\n",
       "      <td>1836917</td>\n",
       "      <td>1629356</td>\n",
       "      <td>1808685</td>\n",
       "      <td>21178572</td>\n",
       "    </tr>\n",
       "    <tr>\n",
       "      <th>9</th>\n",
       "      <td>Cleveland Indians</td>\n",
       "      <td>Progressive Field</td>\n",
       "      <td>1391644</td>\n",
       "      <td>1840835</td>\n",
       "      <td>1603599</td>\n",
       "      <td>1572926</td>\n",
       "      <td>1437393</td>\n",
       "      <td>1388905</td>\n",
       "      <td>1591667</td>\n",
       "      <td>2048138</td>\n",
       "      <td>1926701</td>\n",
       "      <td>1738642</td>\n",
       "      <td>16540450</td>\n",
       "    </tr>\n",
       "    <tr>\n",
       "      <th>10</th>\n",
       "      <td>Colorado Rockies</td>\n",
       "      <td>Coors Field</td>\n",
       "      <td>2875245</td>\n",
       "      <td>2909777</td>\n",
       "      <td>2630458</td>\n",
       "      <td>2793828</td>\n",
       "      <td>2680329</td>\n",
       "      <td>2506789</td>\n",
       "      <td>2602524</td>\n",
       "      <td>2953650</td>\n",
       "      <td>3015880</td>\n",
       "      <td>2993244</td>\n",
       "      <td>27961724</td>\n",
       "    </tr>\n",
       "    <tr>\n",
       "      <th>11</th>\n",
       "      <td>Detroit Tigers</td>\n",
       "      <td>Comerica Park</td>\n",
       "      <td>2461237</td>\n",
       "      <td>2642045</td>\n",
       "      <td>3028033</td>\n",
       "      <td>3083397</td>\n",
       "      <td>2917209</td>\n",
       "      <td>2726048</td>\n",
       "      <td>2493859</td>\n",
       "      <td>2321599</td>\n",
       "      <td>1856970</td>\n",
       "      <td>1501430</td>\n",
       "      <td>25031827</td>\n",
       "    </tr>\n",
       "    <tr>\n",
       "      <th>13</th>\n",
       "      <td>Houston Astros</td>\n",
       "      <td>Minute Maid Park</td>\n",
       "      <td>2331490</td>\n",
       "      <td>2067016</td>\n",
       "      <td>1607733</td>\n",
       "      <td>1651883</td>\n",
       "      <td>1751829</td>\n",
       "      <td>2153585</td>\n",
       "      <td>2306623</td>\n",
       "      <td>2403671</td>\n",
       "      <td>2980549</td>\n",
       "      <td>2857367</td>\n",
       "      <td>22111746</td>\n",
       "    </tr>\n",
       "    <tr>\n",
       "      <th>14</th>\n",
       "      <td>Kansas City Royals</td>\n",
       "      <td>Kauffman Stadium</td>\n",
       "      <td>1615327</td>\n",
       "      <td>1724450</td>\n",
       "      <td>1739859</td>\n",
       "      <td>1750754</td>\n",
       "      <td>1956482</td>\n",
       "      <td>2708549</td>\n",
       "      <td>2557712</td>\n",
       "      <td>2220370</td>\n",
       "      <td>1665107</td>\n",
       "      <td>1479659</td>\n",
       "      <td>19418269</td>\n",
       "    </tr>\n",
       "    <tr>\n",
       "      <th>15</th>\n",
       "      <td>Los Angeles Angels</td>\n",
       "      <td>Angel Stadium</td>\n",
       "      <td>3250814</td>\n",
       "      <td>3166321</td>\n",
       "      <td>2177617</td>\n",
       "      <td>3019505</td>\n",
       "      <td>3095935</td>\n",
       "      <td>3012765</td>\n",
       "      <td>3016142</td>\n",
       "      <td>3019583</td>\n",
       "      <td>3020216</td>\n",
       "      <td>3023010</td>\n",
       "      <td>29801908</td>\n",
       "    </tr>\n",
       "    <tr>\n",
       "      <th>16</th>\n",
       "      <td>Los Angeles Dodgers</td>\n",
       "      <td>Dodger Stadium</td>\n",
       "      <td>3562320</td>\n",
       "      <td>2935139</td>\n",
       "      <td>3324246</td>\n",
       "      <td>3743527</td>\n",
       "      <td>3782337</td>\n",
       "      <td>3764815</td>\n",
       "      <td>3703312</td>\n",
       "      <td>3765856</td>\n",
       "      <td>3857500</td>\n",
       "      <td>3974309</td>\n",
       "      <td>36413361</td>\n",
       "    </tr>\n",
       "    <tr>\n",
       "      <th>17</th>\n",
       "      <td>Miami Marlins</td>\n",
       "      <td>Marlins Park</td>\n",
       "      <td>1524894</td>\n",
       "      <td>1520562</td>\n",
       "      <td>2219444</td>\n",
       "      <td>1586322</td>\n",
       "      <td>1732283</td>\n",
       "      <td>1752235</td>\n",
       "      <td>1712417</td>\n",
       "      <td>1651997</td>\n",
       "      <td>811104</td>\n",
       "      <td>811302</td>\n",
       "      <td>15322560</td>\n",
       "    </tr>\n",
       "    <tr>\n",
       "      <th>18</th>\n",
       "      <td>Milwaukee Brewers</td>\n",
       "      <td>Miller Park</td>\n",
       "      <td>2776531</td>\n",
       "      <td>3071373</td>\n",
       "      <td>2831385</td>\n",
       "      <td>2531105</td>\n",
       "      <td>2797384</td>\n",
       "      <td>2542558</td>\n",
       "      <td>2131614</td>\n",
       "      <td>2558722</td>\n",
       "      <td>2850875</td>\n",
       "      <td>2923333</td>\n",
       "      <td>27014880</td>\n",
       "    </tr>\n",
       "    <tr>\n",
       "      <th>19</th>\n",
       "      <td>Minnesota Twins</td>\n",
       "      <td>Target Field</td>\n",
       "      <td>3223640</td>\n",
       "      <td>3168107</td>\n",
       "      <td>2776354</td>\n",
       "      <td>2477644</td>\n",
       "      <td>2250606</td>\n",
       "      <td>2220054</td>\n",
       "      <td>1963912</td>\n",
       "      <td>2051279</td>\n",
       "      <td>1959197</td>\n",
       "      <td>2294152</td>\n",
       "      <td>24384945</td>\n",
       "    </tr>\n",
       "    <tr>\n",
       "      <th>20</th>\n",
       "      <td>New York Mets</td>\n",
       "      <td>Citi Field</td>\n",
       "      <td>2559738</td>\n",
       "      <td>2378549</td>\n",
       "      <td>2219444</td>\n",
       "      <td>2135657</td>\n",
       "      <td>2148808</td>\n",
       "      <td>2569753</td>\n",
       "      <td>2789608</td>\n",
       "      <td>2460622</td>\n",
       "      <td>2224995</td>\n",
       "      <td>2442532</td>\n",
       "      <td>23929706</td>\n",
       "    </tr>\n",
       "    <tr>\n",
       "      <th>21</th>\n",
       "      <td>New York Yankees</td>\n",
       "      <td>Yankee Stadium</td>\n",
       "      <td>3765807</td>\n",
       "      <td>3653680</td>\n",
       "      <td>3542406</td>\n",
       "      <td>3279589</td>\n",
       "      <td>3401624</td>\n",
       "      <td>3193795</td>\n",
       "      <td>3063405</td>\n",
       "      <td>3146966</td>\n",
       "      <td>3482855</td>\n",
       "      <td>3304404</td>\n",
       "      <td>33834531</td>\n",
       "    </tr>\n",
       "    <tr>\n",
       "      <th>22</th>\n",
       "      <td>Oakland Athletics</td>\n",
       "      <td>Oakland Coliseum</td>\n",
       "      <td>1418391</td>\n",
       "      <td>1476792</td>\n",
       "      <td>1679013</td>\n",
       "      <td>1809302</td>\n",
       "      <td>2003628</td>\n",
       "      <td>1768175</td>\n",
       "      <td>1521506</td>\n",
       "      <td>1475721</td>\n",
       "      <td>1573616</td>\n",
       "      <td>1662211</td>\n",
       "      <td>16388355</td>\n",
       "    </tr>\n",
       "    <tr>\n",
       "      <th>23</th>\n",
       "      <td>Philadelphia Phillies</td>\n",
       "      <td>Citizens Bank Park</td>\n",
       "      <td>3647249</td>\n",
       "      <td>3680718</td>\n",
       "      <td>3565718</td>\n",
       "      <td>3012403</td>\n",
       "      <td>2423852</td>\n",
       "      <td>1831080</td>\n",
       "      <td>1915144</td>\n",
       "      <td>1905354</td>\n",
       "      <td>2158124</td>\n",
       "      <td>2727421</td>\n",
       "      <td>26867063</td>\n",
       "    </tr>\n",
       "    <tr>\n",
       "      <th>24</th>\n",
       "      <td>Pittsburgh Pirates</td>\n",
       "      <td>PNC Park</td>\n",
       "      <td>1613399</td>\n",
       "      <td>1940429</td>\n",
       "      <td>2091918</td>\n",
       "      <td>2256862</td>\n",
       "      <td>2442564</td>\n",
       "      <td>2498596</td>\n",
       "      <td>2249021</td>\n",
       "      <td>1919447</td>\n",
       "      <td>1465316</td>\n",
       "      <td>1491429</td>\n",
       "      <td>19968981</td>\n",
       "    </tr>\n",
       "    <tr>\n",
       "      <th>25</th>\n",
       "      <td>San Diego Padres</td>\n",
       "      <td>Petco Park</td>\n",
       "      <td>2131774</td>\n",
       "      <td>2143018</td>\n",
       "      <td>2123721</td>\n",
       "      <td>2166691</td>\n",
       "      <td>2195373</td>\n",
       "      <td>2459752</td>\n",
       "      <td>2351426</td>\n",
       "      <td>2138491</td>\n",
       "      <td>2147000</td>\n",
       "      <td>2396399</td>\n",
       "      <td>22253645</td>\n",
       "    </tr>\n",
       "    <tr>\n",
       "      <th>26</th>\n",
       "      <td>San Francisco Giants</td>\n",
       "      <td>AT&amp;T Park</td>\n",
       "      <td>3037443</td>\n",
       "      <td>3387303</td>\n",
       "      <td>3377371</td>\n",
       "      <td>3369106</td>\n",
       "      <td>3368697</td>\n",
       "      <td>3375882</td>\n",
       "      <td>3365256</td>\n",
       "      <td>3303652</td>\n",
       "      <td>3156185</td>\n",
       "      <td>2707760</td>\n",
       "      <td>32448655</td>\n",
       "    </tr>\n",
       "    <tr>\n",
       "      <th>27</th>\n",
       "      <td>Seattle Mariners</td>\n",
       "      <td>Safeco Field</td>\n",
       "      <td>2195284</td>\n",
       "      <td>1896321</td>\n",
       "      <td>1721920</td>\n",
       "      <td>1761546</td>\n",
       "      <td>2064334</td>\n",
       "      <td>2193581</td>\n",
       "      <td>2267928</td>\n",
       "      <td>2135445</td>\n",
       "      <td>2299489</td>\n",
       "      <td>1791937</td>\n",
       "      <td>20327785</td>\n",
       "    </tr>\n",
       "    <tr>\n",
       "      <th>28</th>\n",
       "      <td>St. Louis Cardinals</td>\n",
       "      <td>Busch Stadium</td>\n",
       "      <td>3301218</td>\n",
       "      <td>3093954</td>\n",
       "      <td>3262109</td>\n",
       "      <td>3369769</td>\n",
       "      <td>3540649</td>\n",
       "      <td>3520889</td>\n",
       "      <td>3444490</td>\n",
       "      <td>3447937</td>\n",
       "      <td>3403587</td>\n",
       "      <td>3480393</td>\n",
       "      <td>33864995</td>\n",
       "    </tr>\n",
       "    <tr>\n",
       "      <th>29</th>\n",
       "      <td>Tampa Bay Rays</td>\n",
       "      <td>Tropicana Field</td>\n",
       "      <td>1864999</td>\n",
       "      <td>1529188</td>\n",
       "      <td>1559681</td>\n",
       "      <td>1510300</td>\n",
       "      <td>1446464</td>\n",
       "      <td>1247668</td>\n",
       "      <td>1286163</td>\n",
       "      <td>1253619</td>\n",
       "      <td>1154973</td>\n",
       "      <td>1178735</td>\n",
       "      <td>14031790</td>\n",
       "    </tr>\n",
       "    <tr>\n",
       "      <th>30</th>\n",
       "      <td>Texas Rangers</td>\n",
       "      <td>Globe Life Park</td>\n",
       "      <td>2505171</td>\n",
       "      <td>2946949</td>\n",
       "      <td>3460280</td>\n",
       "      <td>3178273</td>\n",
       "      <td>2718733</td>\n",
       "      <td>2491875</td>\n",
       "      <td>2710402</td>\n",
       "      <td>2507760</td>\n",
       "      <td>2107107</td>\n",
       "      <td>2133004</td>\n",
       "      <td>26759554</td>\n",
       "    </tr>\n",
       "    <tr>\n",
       "      <th>31</th>\n",
       "      <td>Toronto Blue Jays</td>\n",
       "      <td>Rogers Centre</td>\n",
       "      <td>1625555</td>\n",
       "      <td>1818103</td>\n",
       "      <td>2099663</td>\n",
       "      <td>2536562</td>\n",
       "      <td>2375525</td>\n",
       "      <td>2794891</td>\n",
       "      <td>3392299</td>\n",
       "      <td>3203886</td>\n",
       "      <td>2325281</td>\n",
       "      <td>1750144</td>\n",
       "      <td>23921909</td>\n",
       "    </tr>\n",
       "    <tr>\n",
       "      <th>32</th>\n",
       "      <td>Washington Nationals</td>\n",
       "      <td>Nationals Park</td>\n",
       "      <td>1828066</td>\n",
       "      <td>1940478</td>\n",
       "      <td>2370794</td>\n",
       "      <td>2652422</td>\n",
       "      <td>2579389</td>\n",
       "      <td>2619843</td>\n",
       "      <td>2481938</td>\n",
       "      <td>2524980</td>\n",
       "      <td>2529604</td>\n",
       "      <td>2259781</td>\n",
       "      <td>23787295</td>\n",
       "    </tr>\n",
       "  </tbody>\n",
       "</table>\n",
       "</div>"
      ],
      "text/plain": [
       "                     Team                 Ballpark      2010      2011  \\\n",
       "0                     NaN         TOTAL ATTENDANCE  73171239  73451522   \n",
       "1    Arizona Diamondbacks              Chase Field   2056519   2105432   \n",
       "3          Atlanta Braves             Turner Field   2510119   2372940   \n",
       "4       Baltimore Orioles             Camden Yards   1733018   1755461   \n",
       "5          Boston Red Sox              Fenway Park   3046445   3054001   \n",
       "6            Chicago Cubs            Wrigley Field   3062973   3017966   \n",
       "7       Chicago White Sox        US Cellular Field   2194378   2001117   \n",
       "8         Cincinnati Reds  Great American Ballpark   2060551   2213498   \n",
       "9       Cleveland Indians        Progressive Field   1391644   1840835   \n",
       "10       Colorado Rockies              Coors Field   2875245   2909777   \n",
       "11         Detroit Tigers            Comerica Park   2461237   2642045   \n",
       "13         Houston Astros         Minute Maid Park   2331490   2067016   \n",
       "14     Kansas City Royals         Kauffman Stadium   1615327   1724450   \n",
       "15     Los Angeles Angels            Angel Stadium   3250814   3166321   \n",
       "16    Los Angeles Dodgers           Dodger Stadium   3562320   2935139   \n",
       "17          Miami Marlins             Marlins Park   1524894   1520562   \n",
       "18      Milwaukee Brewers              Miller Park   2776531   3071373   \n",
       "19        Minnesota Twins             Target Field   3223640   3168107   \n",
       "20          New York Mets               Citi Field   2559738   2378549   \n",
       "21       New York Yankees           Yankee Stadium   3765807   3653680   \n",
       "22      Oakland Athletics         Oakland Coliseum   1418391   1476792   \n",
       "23  Philadelphia Phillies       Citizens Bank Park   3647249   3680718   \n",
       "24     Pittsburgh Pirates                 PNC Park   1613399   1940429   \n",
       "25       San Diego Padres               Petco Park   2131774   2143018   \n",
       "26   San Francisco Giants                AT&T Park   3037443   3387303   \n",
       "27       Seattle Mariners             Safeco Field   2195284   1896321   \n",
       "28    St. Louis Cardinals            Busch Stadium   3301218   3093954   \n",
       "29         Tampa Bay Rays          Tropicana Field   1864999   1529188   \n",
       "30          Texas Rangers          Globe Life Park   2505171   2946949   \n",
       "31      Toronto Blue Jays            Rogers Centre   1625555   1818103   \n",
       "32   Washington Nationals           Nationals Park   1828066   1940478   \n",
       "\n",
       "        2012      2013      2014      2015      2016      2017      2018  \\\n",
       "0   73951759  74026895  73739622  73760032  72976074  72670423  69649736   \n",
       "1    2177617   2134795   2073730   2080145   2036216   2134375   2242695   \n",
       "3    2420171   2548679   2354305   2001392   2020914   2505252   2555781   \n",
       "4    2102240   2357561   2464473   2320590   2172344   2028424   1564192   \n",
       "5    3043003   2833333   2956089   2880694   2955434   2917678   2895575   \n",
       "6    2882756   2642682   2652113   2959812   3232420   3199562   3181089   \n",
       "7    1965955   1768413   1650821   1755810   1746293   1629470   1608817   \n",
       "8    2347251   2492059   2476664   2419506   1894085   1836917   1629356   \n",
       "9    1603599   1572926   1437393   1388905   1591667   2048138   1926701   \n",
       "10   2630458   2793828   2680329   2506789   2602524   2953650   3015880   \n",
       "11   3028033   3083397   2917209   2726048   2493859   2321599   1856970   \n",
       "13   1607733   1651883   1751829   2153585   2306623   2403671   2980549   \n",
       "14   1739859   1750754   1956482   2708549   2557712   2220370   1665107   \n",
       "15   2177617   3019505   3095935   3012765   3016142   3019583   3020216   \n",
       "16   3324246   3743527   3782337   3764815   3703312   3765856   3857500   \n",
       "17   2219444   1586322   1732283   1752235   1712417   1651997    811104   \n",
       "18   2831385   2531105   2797384   2542558   2131614   2558722   2850875   \n",
       "19   2776354   2477644   2250606   2220054   1963912   2051279   1959197   \n",
       "20   2219444   2135657   2148808   2569753   2789608   2460622   2224995   \n",
       "21   3542406   3279589   3401624   3193795   3063405   3146966   3482855   \n",
       "22   1679013   1809302   2003628   1768175   1521506   1475721   1573616   \n",
       "23   3565718   3012403   2423852   1831080   1915144   1905354   2158124   \n",
       "24   2091918   2256862   2442564   2498596   2249021   1919447   1465316   \n",
       "25   2123721   2166691   2195373   2459752   2351426   2138491   2147000   \n",
       "26   3377371   3369106   3368697   3375882   3365256   3303652   3156185   \n",
       "27   1721920   1761546   2064334   2193581   2267928   2135445   2299489   \n",
       "28   3262109   3369769   3540649   3520889   3444490   3447937   3403587   \n",
       "29   1559681   1510300   1446464   1247668   1286163   1253619   1154973   \n",
       "30   3460280   3178273   2718733   2491875   2710402   2507760   2107107   \n",
       "31   2099663   2536562   2375525   2794891   3392299   3203886   2325281   \n",
       "32   2370794   2652422   2579389   2619843   2481938   2524980   2529604   \n",
       "\n",
       "        2019      Total  \n",
       "0   68478648  725875950  \n",
       "1    2135510   21177034  \n",
       "3    2654920   23944473  \n",
       "4    1307807   19806110  \n",
       "5    2924627   29506879  \n",
       "6    3094865   29926238  \n",
       "7    1629636   17950710  \n",
       "8    1808685   21178572  \n",
       "9    1738642   16540450  \n",
       "10   2993244   27961724  \n",
       "11   1501430   25031827  \n",
       "13   2857367   22111746  \n",
       "14   1479659   19418269  \n",
       "15   3023010   29801908  \n",
       "16   3974309   36413361  \n",
       "17    811302   15322560  \n",
       "18   2923333   27014880  \n",
       "19   2294152   24384945  \n",
       "20   2442532   23929706  \n",
       "21   3304404   33834531  \n",
       "22   1662211   16388355  \n",
       "23   2727421   26867063  \n",
       "24   1491429   19968981  \n",
       "25   2396399   22253645  \n",
       "26   2707760   32448655  \n",
       "27   1791937   20327785  \n",
       "28   3480393   33864995  \n",
       "29   1178735   14031790  \n",
       "30   2133004   26759554  \n",
       "31   1750144   23921909  \n",
       "32   2259781   23787295  "
      ]
     },
     "execution_count": 12,
     "metadata": {},
     "output_type": "execute_result"
    }
   ],
   "source": [
    "attendance"
   ]
  },
  {
   "cell_type": "markdown",
   "id": "other-radius",
   "metadata": {},
   "source": [
    "#### Let's check to see if the distribution of TTO values in a given season is normal"
   ]
  },
  {
   "cell_type": "code",
   "execution_count": 13,
   "id": "confused-connectivity",
   "metadata": {},
   "outputs": [
    {
     "data": {
      "image/png": "[encoded data removed]",
      "text/plain": [
       "<Figure size 432x288 with 1 Axes>"
      ]
     },
     "metadata": {
      "needs_background": "light"
     },
     "output_type": "display_data"
    }
   ],
   "source": [
    "batting_2019['TTO'].hist(bins = 10)\n",
    "plt.xlabel(\"TTO Rate\")\n",
    "plt.ylabel(\"Frequency\")\n",
    "plt.title(\"2019 TTO Distribution\")\n",
    "plt.show()"
   ]
  },
  {
   "cell_type": "code",
   "execution_count": 16,
   "id": "verbal-hawaiian",
   "metadata": {},
   "outputs": [
    {
     "data": {
      "image/png": "[encoded data removed]",
      "text/plain": [
       "<Figure size 432x288 with 1 Axes>"
      ]
     },
     "metadata": {
      "needs_background": "light"
     },
     "output_type": "display_data"
    }
   ],
   "source": [
    "batting_2009['TTO'].hist(bins = 10, color='green')\n",
    "plt.xlabel(\"TTO Rate\")\n",
    "plt.ylabel(\"Frequency\")\n",
    "plt.title(\"2009 TTO Distribution\")\n",
    "plt.show()"
   ]
  },
  {
   "cell_type": "markdown",
   "id": "champion-variety",
   "metadata": {},
   "source": [
    "We can see the graphs are not really normal. Generally more values clump together towards the middle and smaller frequency values are seen towards the ends. But they do not quite trend enough to be considered normal."
   ]
  },
  {
   "cell_type": "markdown",
   "id": "fewer-triangle",
   "metadata": {},
   "source": [
    "#### Let's also check to see if the distribution of fan attendance in a given season is normal"
   ]
  },
  {
   "cell_type": "code",
   "execution_count": 17,
   "id": "alone-hopkins",
   "metadata": {},
   "outputs": [
    {
     "data": {
      "image/png": "[encoded data removed]",
      "text/plain": [
       "<Figure size 432x288 with 1 Axes>"
      ]
     },
     "metadata": {
      "needs_background": "light"
     },
     "output_type": "display_data"
    }
   ],
   "source": [
    "attendance['2019'].tail(-1).hist(bins = 10, color='orange')\n",
    "plt.xlabel(\"Attendance (in millions of fans)\")\n",
    "plt.ylabel(\"Frequency\")\n",
    "plt.title(\"2019 MLB Fan Attendance Distribution\")\n",
    "plt.show()"
   ]
  },
  {
   "cell_type": "code",
   "execution_count": 18,
   "id": "disturbed-baltimore",
   "metadata": {},
   "outputs": [
    {
     "data": {
      "image/png": "[encoded data removed]",
      "text/plain": [
       "<Figure size 432x288 with 1 Axes>"
      ]
     },
     "metadata": {
      "needs_background": "light"
     },
     "output_type": "display_data"
    }
   ],
   "source": [
    "attendance['2012'].tail(-1).hist(bins = 10, color='red')\n",
    "plt.xlabel(\"Attendance (in millions of fans)\")\n",
    "plt.ylabel(\"Frequency\")\n",
    "plt.title(\"2012 MLB Fan Attendance Distribution\")\n",
    "plt.show()"
   ]
  },
  {
   "cell_type": "markdown",
   "id": "successful-drink",
   "metadata": {},
   "source": [
    "We can see the distribution of attendance is not normal. 1.5-1.75 million seems to be a common range, but that is on the lower end of the spectrum of values here."
   ]
  },
  {
   "cell_type": "markdown",
   "id": "civil-shooting",
   "metadata": {},
   "source": [
    "Now let's look at the TTO values over time, looking at every 5 years between 1989 to 2019 (inclusive). "
   ]
  },
  {
   "cell_type": "code",
   "execution_count": 19,
   "id": "minute-accuracy",
   "metadata": {},
   "outputs": [
    {
     "data": {
      "image/png": "[encoded data removed]",
      "text/plain": [
       "<Figure size 432x288 with 1 Axes>"
      ]
     },
     "metadata": {
      "needs_background": "light"
     },
     "output_type": "display_data"
    }
   ],
   "source": [
    "TTO_values = [batting_1989.loc[26, 'TTO'], batting_1994.loc[28, 'TTO'], batting_1999.loc[30, 'TTO'], batting_2004.loc[30, 'TTO'], batting_2009.loc[30, 'TTO'], batting_2014.loc[30, 'TTO'], batting_2019.loc[30, 'TTO']]\n",
    "Years = [1989, 1994, 1999, 2004, 2009, 2014, 2019]\n",
    "plt.plot(Years, TTO_values, color='red')\n",
    "plt.xlabel(\"Year\")\n",
    "plt.ylabel(\"TTO Rate\")\n",
    "plt.title(\"TTO Rate across the MLB over time\")\n",
    "plt.show()"
   ]
  },
  {
   "cell_type": "markdown",
   "id": "rural-general",
   "metadata": {},
   "source": [
    "We can see the TTO rate has been increasing almost every 5 years from 1989 to 2019. This shows a general increasing trend of home runs, strikeouts, and walks over the last 30 years of the MLB."
   ]
  },
  {
   "cell_type": "markdown",
   "id": "minus-amino",
   "metadata": {},
   "source": [
    "To compare more recent values, let's look at a boxplot of the 2012 TTO rates across the league versus those in 2019."
   ]
  },
  {
   "cell_type": "code",
   "execution_count": 20,
   "id": "affected-jacksonville",
   "metadata": {},
   "outputs": [
    {
     "data": {
      "image/png": "[encoded data removed]",
      "text/plain": [
       "<Figure size 432x288 with 1 Axes>"
      ]
     },
     "metadata": {
      "needs_background": "light"
     },
     "output_type": "display_data"
    }
   ],
   "source": [
    "TTO_arrays = [batting_2012['TTO'].head(-1), batting_2019['TTO'].head(-1)]\n",
    "sns.boxplot(data = TTO_arrays, palette = ['orange', 'purple']).set(xlabel='Seasons', ylabel='TTO Rate')\n",
    "plt.show()"
   ]
  },
  {
   "cell_type": "markdown",
   "id": "oriented-integrity",
   "metadata": {},
   "source": [
    "The 2012 TTO rate is on the left (in the orange) and the 2019 TTO rate is on the right (in the purple). We can see that the 2019 TTO rate is higher for almost all values, showing a significant increase across the league. Now in the 2019 plot, there is an outlier very far down, around .29, which is the Pittsburgh Pirates. Keep the Pirates in mind with this next visualization."
   ]
  },
  {
   "cell_type": "code",
   "execution_count": 23,
   "id": "crucial-usage",
   "metadata": {},
   "outputs": [],
   "source": [
    "team_TTOchange = batting_2019['TTO'].head(-1) - batting_2012['TTO'].head(-1)\n",
    "## The reason I used .head(-1) here is because the last row of each dataset is the league average, which is not needed since we are looking at individual teams here\n",
    "## Each index 0-29 represents 1 of the 30 MLB teams, the same order they appear in either the 2012, 2014, or 2019 datasets that appear in this project"
   ]
  },
  {
   "cell_type": "code",
   "execution_count": 24,
   "id": "southern-video",
   "metadata": {},
   "outputs": [
    {
     "data": {
      "image/png": "[encoded data removed]",
      "text/plain": [
       "<Figure size 432x288 with 1 Axes>"
      ]
     },
     "metadata": {
      "needs_background": "light"
     },
     "output_type": "display_data"
    }
   ],
   "source": [
    "plt.bar([i for i in range (0,30)], [team_TTOchange[i] for i in range (0,30)], color = 'blue')\n",
    "plt.xticks([j for j in range (0,31,5)])\n",
    "plt.xlabel(\"MLB Team Index - Alphabetical\")\n",
    "plt.ylabel(\"TTO Increase\")\n",
    "plt.title(\"TTO Increase from 2012 to 2019 by team\")\n",
    "plt.show()"
   ]
  },
  {
   "cell_type": "markdown",
   "id": "racial-lesbian",
   "metadata": {},
   "source": [
    "We can see that almost every single team in the league had an increase in TTO rate, with the only exception being the Pittsburgh Pirates. 29 out of 30 teams saw its TTO rate increase in from 2012 to 2019, which shows this as a league-wide trend, much more than just a fluke for a few teams. This graph in addition to the previous boxplot show the consistency of the general increase in TTO rate."
   ]
  },
  {
   "cell_type": "markdown",
   "id": "expressed-saver",
   "metadata": {},
   "source": [
    "For a reference with the team indexes, here is a chart below to show which index is associated to which team (note they are alphabetical by 3 letter abbreviation)."
   ]
  },
  {
   "cell_type": "code",
   "execution_count": 25,
   "id": "regulation-pointer",
   "metadata": {},
   "outputs": [
    {
     "data": {
      "text/plain": [
       "0       ARI\n",
       "1       ATL\n",
       "2       BAL\n",
       "3       BOS\n",
       "4       CHC\n",
       "5       CHW\n",
       "6       CIN\n",
       "7       CLE\n",
       "8       COL\n",
       "9       DET\n",
       "10      HOU\n",
       "11      KCR\n",
       "12      LAA\n",
       "13      LAD\n",
       "14      MIA\n",
       "15      MIL\n",
       "16      MIN\n",
       "17      NYM\n",
       "18      NYY\n",
       "19      OAK\n",
       "20      PHI\n",
       "21      PIT\n",
       "22      SDP\n",
       "23      SEA\n",
       "24      SFG\n",
       "25      STL\n",
       "26      TBR\n",
       "27      TEX\n",
       "28      TOR\n",
       "29      WSN\n",
       "30    LgAvg\n",
       "Name: Tm, dtype: object"
      ]
     },
     "execution_count": 25,
     "metadata": {},
     "output_type": "execute_result"
    }
   ],
   "source": [
    "batting_2019['Tm']"
   ]
  },
  {
   "cell_type": "markdown",
   "id": "lucky-circumstances",
   "metadata": {},
   "source": [
    "Now let's do a similar process, looking at the boxplots of 2012 fan attendance versus 2019 fan attendance."
   ]
  },
  {
   "cell_type": "code",
   "execution_count": 57,
   "id": "improved-nigeria",
   "metadata": {},
   "outputs": [
    {
     "data": {
      "image/png": "[encoded data removed]",
      "text/plain": [
       "<Figure size 432x288 with 1 Axes>"
      ]
     },
     "metadata": {
      "needs_background": "light"
     },
     "output_type": "display_data"
    }
   ],
   "source": [
    "att_arrays = [attendance.loc[1:32, '2012'], attendance.loc[1:32, '2019']]\n",
    "sns.boxplot(data = att_arrays, palette = ['orange', 'purple']).set(xlabel='Seasons', ylabel='Fan Attendance (in millions)')\n",
    "#plt.xticks([2012, 2019])\n",
    "plt.show()\n",
    "\n",
    "## I tried to fix the xticks to be the season year (2012 and 2019) but I kept running into errors and never found a clean solution in seaborn plot"
   ]
  },
  {
   "cell_type": "markdown",
   "id": "surprising-uniform",
   "metadata": {},
   "source": [
    "With the 2012 (orange) fan attendance on the left  and the 2019 (purple) fan attendance on the right, we can see the attendance generally went somewhat down, but not by too much. The median is about the same, but the Q1 and minimum are much lower, with the Q3 very slightly lower, so that points to a generally decreasing trend. Although the maximum did increase from 2012 to 2019 actually. "
   ]
  },
  {
   "cell_type": "code",
   "execution_count": 28,
   "id": "interstate-minnesota",
   "metadata": {},
   "outputs": [],
   "source": [
    "team_TTO_percentchange = round(team_TTOchange / batting_2012['TTO'].head(-1), 5)\n",
    "## Making this a percentage will make it easier to compare to the attendance change percentage and see any correlation between the two\n",
    "\n",
    "attendance['Change'] = attendance['2019'] - attendance['2012']\n",
    "attendance['% change'] = round(attendance['Change']/attendance['2012'], 5)"
   ]
  },
  {
   "cell_type": "markdown",
   "id": "chief-cleaner",
   "metadata": {},
   "source": [
    "This added 2 columns to the attendance dataset: 1 for the change between the 2012 and 2019 seasons and then one for the % change of that difference. The % change is useful because that puts this data on the same scale as the % change for the TTO rates. So let's look at these changes graphed together."
   ]
  },
  {
   "cell_type": "code",
   "execution_count": 29,
   "id": "existing-assurance",
   "metadata": {},
   "outputs": [
    {
     "data": {
      "image/png": "[encoded data removed]",
      "text/plain": [
       "<Figure size 432x288 with 1 Axes>"
      ]
     },
     "metadata": {
      "needs_background": "light"
     },
     "output_type": "display_data"
    }
   ],
   "source": [
    "plt.scatter([i for i in range (0,30)], attendance.loc[1:32, '% change'], color='red')\n",
    "plt.scatter([i for i in range (0,30)], [team_TTO_percentchange[i] for i in range (0,30)], color='blue')\n",
    "plt.yticks([-.8, -.6, -.4, -.2, 0, .2, .4, .6, .8])\n",
    "plt.xlabel(\"MLB Team Index\")\n",
    "plt.ylabel(\"Percent Change\")\n",
    "plt.title(\"TTO Increase vs Fan Attendance Decrease\")\n",
    "plt.legend(['Attendance', 'TTO Rate'])\n",
    "plt.show()"
   ]
  },
  {
   "cell_type": "markdown",
   "id": "joint-survivor",
   "metadata": {},
   "source": [
    "We can see the change from 2012 to 2019 in both fan attendance (red) and TTO rate (blue). The attendance is generally negative because more teams saw a decrease in fan attendance, while the TTO rate is generally positive because of the increases during that time period (as we have seen in previous graphs). But let's see if there is any statistical correlation. First, let's look at the % change distributions and see if they are normal."
   ]
  },
  {
   "cell_type": "markdown",
   "id": "missing-present",
   "metadata": {},
   "source": [
    "##### Test for normalcy of distributions"
   ]
  },
  {
   "cell_type": "code",
   "execution_count": 30,
   "id": "structural-thinking",
   "metadata": {},
   "outputs": [
    {
     "data": {
      "image/png": "[encoded data removed]",
      "text/plain": [
       "<Figure size 432x288 with 1 Axes>"
      ]
     },
     "metadata": {
      "needs_background": "light"
     },
     "output_type": "display_data"
    }
   ],
   "source": [
    "attendance.loc[1:32, '% change'].hist(bins = 10, color='green')\n",
    "plt.xlabel(\"Attendance % Change\")\n",
    "plt.ylabel(\"Frequency\")\n",
    "plt.title(\"Distribution of % change in Attendance from 2012 to 2019\")\n",
    "plt.show()"
   ]
  },
  {
   "cell_type": "code",
   "execution_count": 31,
   "id": "incredible-scope",
   "metadata": {},
   "outputs": [
    {
     "data": {
      "image/png": "[encoded data removed]",
      "text/plain": [
       "<Figure size 432x288 with 1 Axes>"
      ]
     },
     "metadata": {
      "needs_background": "light"
     },
     "output_type": "display_data"
    }
   ],
   "source": [
    "team_TTO_percentchange.hist(bins = 10)\n",
    "plt.xlabel(\"TTO Rate % Change\")\n",
    "plt.ylabel(\"Frequency\")\n",
    "plt.title(\"Distribution of % change in TTO Rates from 2012 to 2019\")\n",
    "plt.show()"
   ]
  },
  {
   "cell_type": "markdown",
   "id": "federal-contrary",
   "metadata": {},
   "source": [
    "We can see that neither of these distributions are normal, which probably makes sense considering both of the datasets they came from are not normal. And since they are not normal, that rules out Pearson's test for correlation. So let's try to Kendall Tau test for correlation."
   ]
  },
  {
   "cell_type": "code",
   "execution_count": 34,
   "id": "chemical-tsunami",
   "metadata": {
    "tags": []
   },
   "outputs": [
    {
     "data": {
      "text/plain": [
       "KendalltauResult(correlation=-0.011494252873563218, pvalue=0.9436180468092228)"
      ]
     },
     "execution_count": 34,
     "metadata": {},
     "output_type": "execute_result"
    }
   ],
   "source": [
    "kendalltau(attendance.loc[1:32, '% change'], [team_TTO_percentchange[i] for i in range (0,30)])"
   ]
  },
  {
   "cell_type": "markdown",
   "id": "middle-football",
   "metadata": {},
   "source": [
    "The correlation is almost 0 so this does not help to show any trend between TTO rate and fan attendance. Now, the correlation should be negative (which it is here) since the TTO rate is increasing over the past decade, while fan attendance is decreasing. However, this test shows there is no significant correlation between these numbers, at least on a micro scale, by the individual team. "
   ]
  },
  {
   "cell_type": "markdown",
   "id": "horizontal-equilibrium",
   "metadata": {},
   "source": [
    "Perhaps let's look at the top 5 highest increases in TTO rate and see if there is anything noteworthy with the fan attendance change for those teams."
   ]
  },
  {
   "cell_type": "code",
   "execution_count": 35,
   "id": "thousand-pickup",
   "metadata": {},
   "outputs": [],
   "source": [
    "batting_2019['TTO % Change'] = team_TTO_percentchange\n",
    "#batting_2019\n",
    "\n",
    "## Adding in the changes into the batting_2019 dataset will make some calculations easier through Pandas"
   ]
  },
  {
   "cell_type": "code",
   "execution_count": 36,
   "id": "interesting-missouri",
   "metadata": {},
   "outputs": [
    {
     "data": {
      "text/html": [
       "<div>\n",
       "<style scoped>\n",
       "    .dataframe tbody tr th:only-of-type {\n",
       "        vertical-align: middle;\n",
       "    }\n",
       "\n",
       "    .dataframe tbody tr th {\n",
       "        vertical-align: top;\n",
       "    }\n",
       "\n",
       "    .dataframe thead th {\n",
       "        text-align: right;\n",
       "    }\n",
       "</style>\n",
       "<table border=\"1\" class=\"dataframe\">\n",
       "  <thead>\n",
       "    <tr style=\"text-align: right;\">\n",
       "      <th></th>\n",
       "      <th>Tm</th>\n",
       "      <th>PA</th>\n",
       "      <th>HR</th>\n",
       "      <th>BB</th>\n",
       "      <th>SO</th>\n",
       "      <th>TTO</th>\n",
       "      <th>TTO % Change</th>\n",
       "    </tr>\n",
       "  </thead>\n",
       "  <tbody>\n",
       "    <tr>\n",
       "      <th>27</th>\n",
       "      <td>TEX</td>\n",
       "      <td>6204</td>\n",
       "      <td>223</td>\n",
       "      <td>534</td>\n",
       "      <td>1578</td>\n",
       "      <td>0.37637</td>\n",
       "      <td>0.31359</td>\n",
       "    </tr>\n",
       "    <tr>\n",
       "      <th>11</th>\n",
       "      <td>KCR</td>\n",
       "      <td>6080</td>\n",
       "      <td>162</td>\n",
       "      <td>456</td>\n",
       "      <td>1405</td>\n",
       "      <td>0.33273</td>\n",
       "      <td>0.30564</td>\n",
       "    </tr>\n",
       "    <tr>\n",
       "      <th>20</th>\n",
       "      <td>PHI</td>\n",
       "      <td>6261</td>\n",
       "      <td>215</td>\n",
       "      <td>562</td>\n",
       "      <td>1453</td>\n",
       "      <td>0.35617</td>\n",
       "      <td>0.28856</td>\n",
       "    </tr>\n",
       "    <tr>\n",
       "      <th>15</th>\n",
       "      <td>MIL</td>\n",
       "      <td>6309</td>\n",
       "      <td>250</td>\n",
       "      <td>629</td>\n",
       "      <td>1563</td>\n",
       "      <td>0.38707</td>\n",
       "      <td>0.26283</td>\n",
       "    </tr>\n",
       "    <tr>\n",
       "      <th>23</th>\n",
       "      <td>SEA</td>\n",
       "      <td>6199</td>\n",
       "      <td>239</td>\n",
       "      <td>588</td>\n",
       "      <td>1581</td>\n",
       "      <td>0.38845</td>\n",
       "      <td>0.25554</td>\n",
       "    </tr>\n",
       "  </tbody>\n",
       "</table>\n",
       "</div>"
      ],
      "text/plain": [
       "     Tm    PA   HR   BB    SO      TTO  TTO % Change\n",
       "27  TEX  6204  223  534  1578  0.37637       0.31359\n",
       "11  KCR  6080  162  456  1405  0.33273       0.30564\n",
       "20  PHI  6261  215  562  1453  0.35617       0.28856\n",
       "15  MIL  6309  250  629  1563  0.38707       0.26283\n",
       "23  SEA  6199  239  588  1581  0.38845       0.25554"
      ]
     },
     "execution_count": 36,
     "metadata": {},
     "output_type": "execute_result"
    }
   ],
   "source": [
    "top5_TTO = batting_2019.sort_values(by=['TTO % Change'], ascending=False).head(5)\n",
    "top5_TTO"
   ]
  },
  {
   "cell_type": "code",
   "execution_count": 37,
   "id": "discrete-dietary",
   "metadata": {},
   "outputs": [],
   "source": [
    "top5_TTOchanges = np.array(top5_TTO['TTO % Change'])\n",
    "#top5_TTOchanges"
   ]
  },
  {
   "cell_type": "markdown",
   "id": "pursuant-greek",
   "metadata": {},
   "source": [
    "The top 5 increases in TTO rates from 2012 to 2019 are from the Texas Rangers, Milwaukee Brewers, Philadelphia Phillies, Seattle Mariners, and Kansas City Royals, with their respective team indices shown. So let's grab all of their fan attendance changes as well."
   ]
  },
  {
   "cell_type": "code",
   "execution_count": 38,
   "id": "particular-intranet",
   "metadata": {},
   "outputs": [
    {
     "data": {
      "text/html": [
       "<div>\n",
       "<style scoped>\n",
       "    .dataframe tbody tr th:only-of-type {\n",
       "        vertical-align: middle;\n",
       "    }\n",
       "\n",
       "    .dataframe tbody tr th {\n",
       "        vertical-align: top;\n",
       "    }\n",
       "\n",
       "    .dataframe thead th {\n",
       "        text-align: right;\n",
       "    }\n",
       "</style>\n",
       "<table border=\"1\" class=\"dataframe\">\n",
       "  <thead>\n",
       "    <tr style=\"text-align: right;\">\n",
       "      <th></th>\n",
       "      <th>Team</th>\n",
       "      <th>% change</th>\n",
       "    </tr>\n",
       "  </thead>\n",
       "  <tbody>\n",
       "    <tr>\n",
       "      <th>30</th>\n",
       "      <td>Texas Rangers</td>\n",
       "      <td>-0.38357</td>\n",
       "    </tr>\n",
       "    <tr>\n",
       "      <th>14</th>\n",
       "      <td>Kansas City Royals</td>\n",
       "      <td>-0.14955</td>\n",
       "    </tr>\n",
       "    <tr>\n",
       "      <th>23</th>\n",
       "      <td>Philadelphia Phillies</td>\n",
       "      <td>-0.23510</td>\n",
       "    </tr>\n",
       "    <tr>\n",
       "      <th>18</th>\n",
       "      <td>Milwaukee Brewers</td>\n",
       "      <td>0.03247</td>\n",
       "    </tr>\n",
       "    <tr>\n",
       "      <th>27</th>\n",
       "      <td>Seattle Mariners</td>\n",
       "      <td>0.04066</td>\n",
       "    </tr>\n",
       "  </tbody>\n",
       "</table>\n",
       "</div>"
      ],
      "text/plain": [
       "                     Team  % change\n",
       "30          Texas Rangers  -0.38357\n",
       "14     Kansas City Royals  -0.14955\n",
       "23  Philadelphia Phillies  -0.23510\n",
       "18      Milwaukee Brewers   0.03247\n",
       "27       Seattle Mariners   0.04066"
      ]
     },
     "execution_count": 38,
     "metadata": {},
     "output_type": "execute_result"
    }
   ],
   "source": [
    "top5_TTOattendance = np.array(attendance.loc[[30,14,23,18,27] , '% change'])\n",
    "\n",
    "attendance.loc[[30,14,23,18,27] , ['Team','% change']]\n",
    "## Note that because of some weird indexing (with 2 indices for the Braves & 2 for the Marlins), the indices from the above chart are not all the same ones needed below"
   ]
  },
  {
   "cell_type": "markdown",
   "id": "instrumental-steps",
   "metadata": {
    "tags": []
   },
   "source": [
    "These are the % change in fan attendance of the 5 teams with the largest increase in TTO rate. Let's look at the bottom 5 % changes in fan attendance and see if any of these teams appear, showing a potential (inverse) correlation. The reason we want the bottom 5 % changes in fan attendance is because we are looking for an inverse correlation. As in, with the 5 teams who increased their TTO rate the most, did they also have the sharpest decrease in fan attendance?"
   ]
  },
  {
   "cell_type": "code",
   "execution_count": 39,
   "id": "adjacent-elimination",
   "metadata": {},
   "outputs": [
    {
     "data": {
      "text/html": [
       "<div>\n",
       "<style scoped>\n",
       "    .dataframe tbody tr th:only-of-type {\n",
       "        vertical-align: middle;\n",
       "    }\n",
       "\n",
       "    .dataframe tbody tr th {\n",
       "        vertical-align: top;\n",
       "    }\n",
       "\n",
       "    .dataframe thead th {\n",
       "        text-align: right;\n",
       "    }\n",
       "</style>\n",
       "<table border=\"1\" class=\"dataframe\">\n",
       "  <thead>\n",
       "    <tr style=\"text-align: right;\">\n",
       "      <th></th>\n",
       "      <th>Team</th>\n",
       "      <th>% change</th>\n",
       "    </tr>\n",
       "  </thead>\n",
       "  <tbody>\n",
       "    <tr>\n",
       "      <th>24</th>\n",
       "      <td>Pittsburgh Pirates</td>\n",
       "      <td>-0.28705</td>\n",
       "    </tr>\n",
       "    <tr>\n",
       "      <th>4</th>\n",
       "      <td>Baltimore Orioles</td>\n",
       "      <td>-0.37790</td>\n",
       "    </tr>\n",
       "    <tr>\n",
       "      <th>30</th>\n",
       "      <td>Texas Rangers</td>\n",
       "      <td>-0.38357</td>\n",
       "    </tr>\n",
       "    <tr>\n",
       "      <th>11</th>\n",
       "      <td>Detroit Tigers</td>\n",
       "      <td>-0.50416</td>\n",
       "    </tr>\n",
       "    <tr>\n",
       "      <th>17</th>\n",
       "      <td>Miami Marlins</td>\n",
       "      <td>-0.63446</td>\n",
       "    </tr>\n",
       "  </tbody>\n",
       "</table>\n",
       "</div>"
      ],
      "text/plain": [
       "                  Team  % change\n",
       "24  Pittsburgh Pirates  -0.28705\n",
       "4    Baltimore Orioles  -0.37790\n",
       "30       Texas Rangers  -0.38357\n",
       "11      Detroit Tigers  -0.50416\n",
       "17       Miami Marlins  -0.63446"
      ]
     },
     "execution_count": 39,
     "metadata": {},
     "output_type": "execute_result"
    }
   ],
   "source": [
    "top5_attendance = attendance.sort_values(by=['% change'], ascending=False).tail(5)\n",
    "top5_attendance.loc[:, ['Team','% change']]"
   ]
  },
  {
   "cell_type": "markdown",
   "id": "demanding-fortune",
   "metadata": {},
   "source": [
    "We can see that the Texas Rangers show up with the largest increase in TTO rate and the 3rd largest decrease in fan attendance. But outside of the Rangers, none of the other teams with a top 5 TTO increase also had a top 5 decrease in fan attendance (or bottom 5 increase in fan attendance)."
   ]
  },
  {
   "cell_type": "markdown",
   "id": "worldwide-prefix",
   "metadata": {},
   "source": [
    "We can also look at a graph of the Top 5 TTO increases and the fan attendance increases (both as a % change) to further contextualize these numbers."
   ]
  },
  {
   "cell_type": "code",
   "execution_count": 42,
   "id": "elementary-tribute",
   "metadata": {},
   "outputs": [
    {
     "data": {
      "image/png": "[encoded data removed]",
      "text/plain": [
       "<Figure size 432x288 with 1 Axes>"
      ]
     },
     "metadata": {
      "needs_background": "light"
     },
     "output_type": "display_data"
    }
   ],
   "source": [
    "plt.scatter([i for i in range (0,5)], top5_TTOattendance, color='red')\n",
    "plt.scatter([i for i in range (0,5)], top5_TTOchanges, color='blue')\n",
    "teams = [\"TEX\", \"KCR\", \"PHI\", \"MIL\", \"SEA\"]\n",
    "indices = [0, 1, 2, 3, 4]\n",
    "plt.xticks(indices, teams)\n",
    "plt.yticks([-.8, -.6, -.4, -.2, 0, .2, .4, .6, .8])\n",
    "plt.xlabel(\"MLB Team Index\")\n",
    "plt.ylabel(\"Percent Change\")\n",
    "plt.title(\"TTO Increase vs Fan Attendance Decrease - Top 5 TTO Teams\")\n",
    "plt.legend(['Attendance', 'TTO Rate'])\n",
    "plt.axhline(y = 0, color = 'black', linestyle = '--')\n",
    "plt.show()"
   ]
  },
  {
   "cell_type": "markdown",
   "id": "fifty-shaft",
   "metadata": {},
   "source": [
    "We can see that not even all 5 of the largest TTO increase teams have negative fan attendance percent changes. As in, some teams saw increases in their TTO rate, but also saw their fan attendance increase during that same span, including 2 of these 5 teams. The 5 teams here are a small sample size, but if there was more of a correlation between increasing TTO rate and decreasing attendance, we would probably see all 5 red points here be negative."
   ]
  },
  {
   "cell_type": "markdown",
   "id": "signed-liberia",
   "metadata": {},
   "source": [
    "## Interpreting Results:\n",
    "\n",
    "We can see that fan attendance is considerably decreasing and that the TTO % is considerably increasing, but it is difficult to prove the causation between the two. On the surface it makes sense to draw a connection, as most fans do not want to pay money to see more boring Walks and Strikeouts, and that could explain a decrease in fan attendance. But the reality is that there are many other factors that would affect a fan's willingness and desire to come to a baseball game, including weather, free time, financial situation of the fans, and more. \n",
    "\n",
    "\n",
    "We can see the lack of correlation with the Kendall Tau test conducted in this project. With a correlation of -.01149 and a p-value of .94362, there is essentially no relevant correlation, at least on a micro scale for individual teams. In other words, there was not a specific trend from each team that has a higher TTO rate also having decreased fan attendance. The reality of this is that different teams in different cities will draw in different numbers of fans. Often that is based on how good the team is or if they have any super dynamic, interesting players (especially Pitchers) that fans want to come watch. For example, the Los Angeles Dodgers who have steadily been one of the best teams in baseball for the last decade, saw an increase by about 650,000 fans from 2012 to 2019. Or another example is the Los Angeles Angels who saw their attendance increase by about 850,000. This is likely partially due to having the incredibly talented Shohei Ohtani, a Japanese player who is both a Pitcher and a Fielder, which is incredibly rare to see on a Major League level. And these factors likely affect a fan's willingness to see their local team play more than there being a few more strikeouts the past couple years.\n",
    "\n",
    "\n",
    "However, we can also see the generally consistently increasing TTO rate since 1989, including an especially high bolt from 2014 to 2019. As sabermetrics has gotten even more common, players want to swing for home runs even more now, which has increased both home runs and strikeouts. We can see this with the aforementioned TTO rate across the MLB over time graph, as well as on the TTO Increase from 2012 to 2019 by team graph. It is astounding that 29 out of 30 teams have increased their TTO rate across that 7 year span. And with how sharp that recent spike is, it becomes very likely to expect that trend to only continue in the years to come. \n",
    "\n",
    "\n",
    "Then with the fan attendance, we can see some trends of it generally going down. But, as seen on the boxplot of 2012 versus 2019 fan attendance, or on the distribution of % change of attendance, that downward trend is not ubiquitously seen across the league. Some teams, like the aforementioned Angels, Dodgers, and also the Houston Astros have seen their attendance increase the past decade, just to name a few teams. While there are more teams in the negative direction than positive when it comes to fan attendance, it is not quite enough concern for the MLB to believe its league will crash and burn. But, as the numbers indicate, it is something to look out for and these trends continuing over longer periods of time could have more serious negative impacts."
   ]
  },
  {
   "cell_type": "markdown",
   "id": "roman-network",
   "metadata": {},
   "source": [
    "## Ethical Concerns: \n",
    "\n",
    "\n",
    "Major League Baseball has already adjusted some rules to the game to try to make the games more exciting and dynamic to watch. In 2019, the MLB added a rule that a pitcher must pitch to at least 3 batters, barring an injury or the end of the half inning. This was designed to mitigate the slow process of relief pitchers coming in for just 1 batter, which made the games longer, and generally less entertaining. Some additional rule changes like a pitch clock, larger strikezone, or a farther back mound are being considered to help speed up the game and make fans want to watch more. This is relevant to the TTO statistic because some of these changes could decrease walks, decrease home runs, and likely increase the number of balls in play. If this project were to find its way to the MLB, and they realized there could be a connection between an increasing TTO rate and decreasing fan attendance, they would want to do everything they can to decrease the TTO rate. This could mean expediting rule changes, like the aforementioned pitch clock, larger strikezone, and/or farther mound to help the batters. This would hopefully result in more balls batted in play, more runners on base, and more entertaining baseball. \n",
    "\n",
    "\n",
    "On the other side of that, more rule changes could complicate the viewing experience for fans, maybe to a point that fans do not want to watch baseball as much and would come to games even less. When it comes to rule changes, the MLB has a difficult task of trying to keep the game of baseball's core values, while also being willing to adapt and change to make the game better. There's a delicate balance that the MLB has to find and the tremendous increase in TTO rate as of late brings up the topic of any potential rule changes to the surface.\n",
    "\n",
    "\n",
    "One of the stakeholders in the increase of TTO plate appearances is the fans themselves. There is the factor of fans going or not going to games, but beyond the field itself, fans are talking about TTO as a metric. Fans are even looking up to certain players like [Adam Dunn](https://www.youtube.com/watch?v=jiZfc0b2t3Q) or Rob Deer for their oddly specific skill of rarely making the fielders have to ... field. With how popular sabermetrics has become, maybe more and more fans are getting interested in the analytics side of the game rather than paying money to go watch a game live. And [some would argue](https://chroniclet.com/news/239403/true-outcome-analytics-making-for-boring-games-this-postseason/) that the increase in analytics, has lead to more boring baseball. \n",
    "\n",
    "\n",
    "Another group of people involved is the players. If the players become hyper-aware of their increasing TTO rate, maybe some of them aim to hit the ball in play more and keep their TTO rates low. Certainly, these players that strive to put the ball in play still exist. Take [Hanser Alberto](https://www.baseball-reference.com/players/a/alberha01.shtml), a former infielder for the Baltimore Orioles, who finished the 2019 season with a .14182 TTO rate, which is way below the league average. But also, people like to be rebellious and some players might further accentuate the problem of increasing TTO rate even if they are aware. \n",
    "\n",
    "\n",
    "If the decrease of fans gets drastic enough, teams might have to lay off workers, both personnel in the team and people who work at the stadium. During the 2020 season, due to COVID, [39,000 stadium workers](https://www.thenation.com/article/society/baseball-stadium-workers-crisis/) lost their jobs. Now, that was a much more extreme case when there were not allowed to be any fans at all, so there were many more layoffs, but that could be the reality for some ballpark workers if the decrease in fans is consistent enough the next decade. Then if the loss of revenue gets large enough, certain players might be laid off and/or some teams might not quite have the finances needed to give the players the salaries they are demanding. The decrease in fan attendance could become a bigger issue if it persists into the 2020's decade. "
   ]
  },
  {
   "cell_type": "code",
   "execution_count": null,
   "id": "demanding-customs",
   "metadata": {},
   "outputs": [],
   "source": []
  }
 ],
 "metadata": {
  "kernelspec": {
   "display_name": "Python 3",
   "language": "python",
   "name": "python3"
  },
  "language_info": {
   "codemirror_mode": {
    "name": "ipython",
    "version": 3
   },
   "file_extension": ".py",
   "mimetype": "text/x-python",
   "name": "python",
   "nbconvert_exporter": "python",
   "pygments_lexer": "ipython3",
   "version": "3.9.4"
  }
 },
 "nbformat": 4,
 "nbformat_minor": 5
}
