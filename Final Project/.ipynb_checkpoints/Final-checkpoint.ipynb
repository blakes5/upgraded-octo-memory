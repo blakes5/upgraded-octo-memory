{
 "cells": [
  {
   "cell_type": "markdown",
   "id": "ready-arrest",
   "metadata": {},
   "source": [
    "# **The Three True Outcomes of Baseball**"
   ]
  },
  {
   "cell_type": "markdown",
   "id": "selected-parameter",
   "metadata": {},
   "source": [
    "## Blake Silver"
   ]
  },
  {
   "cell_type": "markdown",
   "id": "executive-michael",
   "metadata": {},
   "source": [
    "## Problem:\n",
    "\n",
    "The impact of the increase of the \"Three True Outcomes\" in Major League Baseball on fan attendance of games."
   ]
  },
  {
   "cell_type": "markdown",
   "id": "intermediate-tuning",
   "metadata": {},
   "source": [
    "## Background: \n",
    "\n",
    "Think about a game of baseball. What makes it exciting? Close baseball games that are back-and-forth, where both teams are scoring, and it just feels intense. For example, take [this game between the Orioles and Tigers in the 2014 Playoffs](https://www.youtube.com/watch?v=zvs4TJgAHHg). The Orioles are down by 3 in the bottom of the 8th inning, in front of their fans, trying to comeback and win Game 2 of the series in the Playoffs. After a hit by pitch, a pair of singles (that scored 1 run), and a walk, Delmon Young hits a 3 RBI (3 runs batted in) Double to give the Orioles the lead. Even just watching at home, I can feel the electric energy of the crowd and it still makes me excited watching, even though I know exactly what happens.   \n",
    "\n",
    "\n",
    "Now, baseball is not everyone's favorite sport. But, the people who are fans of baseball, get extremely invested. To the point that there is a word, sabermetrics, specifically for the statistical analysis of baseball. The sport is a multi-billion dollar industry that has a significant influence on American culture. Children decorate their whole bedroom for a baseball team, people make their wardrobe certain colors, have mugs, cups, and blankets, all to show support for their favorite baseball team. People love baseball; it is a big deal. And further on a macro scale, Major League Baseball recorded [10.7 billion dollars](https://www.cnbc.com/2019/12/22/report-mlb-revenue-for-2019-season-a-record-10point7-billion.html) in revenue in the 2019 season, which is quite a significant portion of the overall [money in the United States economy](https://en.wikipedia.org/wiki/Economy_of_the_United_States). \n",
    "\n",
    "\n",
    "With how huge the sport of baseball is, coupled with a general growth in the population, one might expect that the attendance, one of the best measures of the sport's popularity, should be growing. Throughout the past several seasons, Major League Baseball (MLB) [fan attendance has been decreasing](https://www.forbes.com/sites/maurybrown/2019/10/04/from-terrible-teams-to-rising-costs-and-more-why-mlb-attendance-has-been-down-over-7-since-2015/?sh=79f014c031a8). This includes a 1.62% drop in attendance from 2018 to 2019, which was the most recent \"normal\" season of baseball, before the COVID-19 pandemic. And there have been steady declines for the last several seasons, which is more than just a one season fluke. There are a variety of factors for the recent decrease in attendance, but one of the main ones could be the increase in the \"Three True Outcomes\".\n",
    "\n",
    "\n",
    "The \"Three True Outcomes\" (TTO) in baseball refer to Home Runs, Strikeouts, and Walks, which are 3 common outcomes of a plate appearance. A home run is when the batter hits the ball over the fence and automatically scores a run (or multiple runs if there are runners on base). A strikeout is when 3 strikes are thrown in one at bat to the batter, resulting in an out for the fielding team without the ball being put in play (barring foul balls that count as strikes). A walk is when a batter does not swing at 4 pitches not in the strikezone, also known as balls, resulting in the batter being rewarded first base for a \"base on balls\", or a walk. Again barring foul balls (balls that are hit outside of the white lines on the field), a walk does not involve the ball being put in play. These 3 outcomes are grouped together in this statistic because all 3 of these outcomes only involve the batter, the Pitcher and the Catcher since the ball is never hit \"in play\" in these 3 outcomes (except for rare cases). It shrinks baseball down to an oversimplified version of the game where the 7 fielders behind the Pitcher are unnecessary. But, why does TTO matter? To put it simply, it makes baseball more boring. Think about it this way. Imagine you went to a baseball game where only TTO plate appearances happened (only Home Runs, Strikeouts, and Walks) for the entire game. Home runs are exciting, but they don't happen quite as much as walks or strikeouts. So, this hypothetical game consists of mainly strikeouts and walks, which means most batters who bat in this game won't even hit the ball. As in, the purpose of baseball for the batter, to hit the ball, will not even happen a majority of the time in this theoretical scenario. This type of game would just be boring to watch. Parts of baseball can be slow, but that is usually made up for with enough action in key moments through players getting on base and clutch base hits. This type of game takes away all the opportunity for excitement there and renders a baseball game to be much less entertaining to watch if it just had home runs, walks, and strikeouts. "
   ]
  },
  {
   "cell_type": "markdown",
   "id": "alpha-musician",
   "metadata": {},
   "source": [
    "## Research questions: \n",
    "- How has the perentage of Plate Appearances that resulted in one of the Three True Outcomes changed over time?\n",
    "- How has fan attendance of MLB games changed the last decade?\n",
    "- Is there any correlation between these changes in TTO rate and fan attendance?"
   ]
  },
  {
   "cell_type": "markdown",
   "id": "revolutionary-undergraduate",
   "metadata": {},
   "source": [
    "## Importance of the questions: \n",
    "\n",
    "As stated before, fan attendance has generally been decreasing the in recent years. And with baseball being a multi-billion dollar industry that a lot of people are invested in, a decrease in fans has a significant impact. It shows a decline in the success of the sport, which is notable considering baseball is called \"America's past-time\". So, I will be looking at how fan attendance has changed the past decade and analyzing if that drop really is that consequential. But of course, there have to be some factors for why the fan attendance has generally seemed to go down. There has also recently been an [increase in the number of home runs](https://www.mlb.com/news/mlb-releases-independent-study-of-home-run-surge), to the point that the MLB conducted an independent study to analyze the effects of a minor change in the stitching of the baseball on home runs. The relevance of an increase in home runs has become large enough to justify the MLB conducting this study. Also during the recent years, the MLB has been constantly breaking its [record for strikeouts](https://www.si.com/mlb/2019/05/15/strikeout-record-pace-best-pitchers) every season. In 2019, they were up a whopping .9% from the previous year. This might not sound like much, but this near 1% increase represents 1,700 additional strikeouts, which is 5,100 additional strikes in the course of a full 162 game season. So, a .9% difference adds up over the season and really has an impact. With home runs and strikeouts rising, that will naturally increase the TTO rate (which is comprised of home runs, strikeouts, and walks) over the recent years. So with TTO rate on the rise, and fan attendance falling, that poses a question to see if there is any relationship between these two. Specifically, if there is any correlation between these trends becomes a compelling question. If so, this spots out a specific problem that the MLB could try to solve for, through tweaking certain rules of the game. Now of course, correlation does not equal causation, but with 2 potentially related factors here, it is not crazy to postulate that an increase in part of the game that is generally more boring would cause a decrease in fans. "
   ]
  },
  {
   "cell_type": "markdown",
   "id": "statewide-spider",
   "metadata": {},
   "source": [
    "## Datasets used for this project: \n",
    "\n",
    "[2019 Standard Batting (from Baseball Reference)](https://www.baseball-reference.com/leagues/MLB/2019.shtml#teams_standard_batting)\n",
    "\n",
    "[2012 Standard Batting (from Baseball Reference)](https://www.baseball-reference.com/leagues/MLB/2012.shtml#teams_standard_batting)\n",
    "\n",
    "[2014 Standard Batting (from Baseball Reference)](https://www.baseball-reference.com/leagues/MLB/2014.shtml#teams_standard_batting)\n",
    "\n",
    "[2009 Standard Batting (from Baseball Reference)](https://www.baseball-reference.com/leagues/MLB/2009.shtml#teams_standard_batting)\n",
    "\n",
    "[2004 Standard Batting (from Baseball Reference)](https://www.baseball-reference.com/leagues/MLB/2004.shtml#teams_standard_batting)\n",
    "\n",
    "[1999 Standard Batting (from Baseball Reference)](https://www.baseball-reference.com/leagues/MLB/1999.shtml#teams_standard_batting)\n",
    "\n",
    "[1994 Standard Batting (from Baseball Reference)](https://www.baseball-reference.com/leagues/MLB/1994.shtml#teams_standard_batting)\n",
    "\n",
    "[1989 Standard Batting (from Baseball Reference)](https://www.baseball-reference.com/leagues/MLB/1989.shtml#teams_standard_batting)\n",
    "\n",
    "[Attendance Each season in the 2010's](https://www.ballparksofbaseball.com/2010s-ballpark-attendance/)\n",
    "\n",
    "\n",
    "Each of these datasets shows the team batting totals for each MLB team (all 30 of them) in various statistics in that respective season. While this chart includes many columns, the only ones needed here are the columns labeled \"PA\", \"HR\", \"BB\", and \"SO\". These stand for \"Plate Appearances\", \"Home Runs\", \"Base on Balls\" (also known as a \"Walk\"), and \"Strikeouts\" respectively. *Baseball Reference* allows the user to edit the dataset to eliminate certain columns (or rows), which I did on the website before downloading the Excel files and processing them into *JupyterLab*. We only need these 4 columns because the HR, BB, and SO are the 3 outcomes that make up the TTO, while the PA are the total of all TTO plus all non-TTO (anything else besides a home run, walk, or strikeout). The PA are needed because they allow the TTO to be seen as a percentage of all plate appearances, rather than raw totals, which makes it easier to compare between seasons. Side note: Plate Appearances are used rather than \"At Bats\" (AB) because the AB statistic does not include plate appearances that result in a hit by pitch, sacrifice bunt, sacrifice fly, or most importantly, a walk. This makes the plate appearances the more relevant total statistic of all possible hitting outcomes.\n",
    "    \n",
    "    \n",
    "The reason I chose to use all 8 of these \"Standard Batting\" datasets is because this allows me to get TTO rate throughout a decent chunk of MLB history. I decided to get every 5 seasons because that was a close enough gap that it shows trends over time, but also far enough that I was able to cover 30 years in those datasets (1989-2019, every 5 years), which covers the MLB's recent years. Then, I also have the 2012 \"Standard Batting\" dataset because 2012 was [one of the last time attendance increased from the previous year](https://www.kansascity.com/sports/mlb/kansas-city-royals/article230089079.html). This makes it a compelling dataset for this project as that sets a relatively high bar for attendance, compared to the lower attendance in 2019. Also, 2020 MLB season was severely shortened (60 games instead of 162) and also did not allow any fans to attend in the regular season, all due to the COVID-19 pandemic. The 2021 season has limited attendance, also due to COVID-19, which makes it an inaccurate comparison season too. This makes 2019 the most recent normal season in terms of fan attendance so that will be used as the bar for \"current\" fan attendance.\n",
    "\n",
    "    \n",
    "The last dataset shows the fan attendance for each MLB team in the 2010's decade. It includes total numbers for each team throughout the decade, as well as totals for each season, across the whole league. It does include new team names and new fields as separate entries in the dataset. The Atlanta Braves changed home fields in 2017, which is why there are some NULL values in the 2 different rows. In 2012, the \"Florida Marlins\" changed their name to the \"Miami Marlins\" which similarly results in some NULL values, and annoyingly moves those 2 rows away from each other because the rows are sorted alphabetically by city (or state) name. I'll be cleaning up those 2 rows of the data to make using this dataset easier for myself. "
   ]
  },
  {
   "cell_type": "markdown",
   "id": "funded-alliance",
   "metadata": {},
   "source": [
    "## Data Science Proces: "
   ]
  },
  {
   "cell_type": "markdown",
   "id": "quick-withdrawal",
   "metadata": {},
   "source": [
    "### Data Cleaning"
   ]
  },
  {
   "cell_type": "code",
   "execution_count": 64,
   "id": "certain-conclusion",
   "metadata": {},
   "outputs": [],
   "source": [
    "import pandas as pd\n",
    "from scipy import stats\n",
    "import matplotlib.pyplot as plt\n",
    "import seaborn as sns\n",
    "import numpy as np"
   ]
  },
  {
   "cell_type": "markdown",
   "id": "greek-channels",
   "metadata": {},
   "source": [
    "##### Reading in excel files (1989-2019 every 5 years) + 2012 batting + 2010's attendance"
   ]
  },
  {
   "cell_type": "code",
   "execution_count": 65,
   "id": "meaningful-butler",
   "metadata": {},
   "outputs": [],
   "source": [
    "attendance = pd.read_csv(\"Attendance.csv\")\n",
    "batting_2012 = pd.read_excel(\"2012.xlsx\")\n",
    "\n",
    "batting_2019 = pd.read_excel(\"2019.xlsx\")\n",
    "batting_2014 = pd.read_excel(\"2014.xlsx\")\n",
    "batting_2009 = pd.read_excel(\"2009.xlsx\")\n",
    "batting_2004 = pd.read_excel(\"2004.xlsx\")\n",
    "batting_1999 = pd.read_excel(\"1999.xlsx\")\n",
    "batting_1994 = pd.read_excel(\"1994.xlsx\")\n",
    "batting_1989 = pd.read_excel(\"1989.xlsx\")"
   ]
  },
  {
   "cell_type": "markdown",
   "id": "military-currency",
   "metadata": {},
   "source": [
    "##### Dropping the league total numbers at the bottom of each dataset because those will not be needed."
   ]
  },
  {
   "cell_type": "code",
   "execution_count": 66,
   "id": "regional-chance",
   "metadata": {},
   "outputs": [],
   "source": [
    "batting_2019 = batting_2019.drop(index=31)\n",
    "batting_2014 = batting_2014.drop(index=31)\n",
    "batting_2012 = batting_2012.drop(index=31)\n",
    "batting_2009 = batting_2009.drop(index=31)\n",
    "batting_2004 = batting_2004.drop(index=31)\n",
    "batting_1999 = batting_1999.drop(index=31)\n",
    "batting_1994 = batting_1994.drop(index=29)\n",
    "batting_1989 = batting_1989.drop(index=27)"
   ]
  },
  {
   "cell_type": "markdown",
   "id": "technical-alberta",
   "metadata": {
    "tags": []
   },
   "source": [
    "##### Adding a TTO column to each dataset"
   ]
  },
  {
   "cell_type": "code",
   "execution_count": 67,
   "id": "duplicate-record",
   "metadata": {
    "tags": []
   },
   "outputs": [],
   "source": [
    "batting_2019['TTO'] = round((batting_2019['HR'] + batting_2019['BB'] + batting_2019['SO']) / batting_2019['PA'], 5)\n",
    "batting_2014['TTO'] = round((batting_2014['HR'] + batting_2014['BB'] + batting_2014['SO']) / batting_2014['PA'], 5)\n",
    "batting_2012['TTO'] = round((batting_2012['HR'] + batting_2012['BB'] + batting_2012['SO']) / batting_2012['PA'], 5)\n",
    "batting_2009['TTO'] = round((batting_2009['HR'] + batting_2009['BB'] + batting_2009['SO']) / batting_2009['PA'], 5)\n",
    "batting_2004['TTO'] = round((batting_2004['HR'] + batting_2004['BB'] + batting_2004['SO']) / batting_2004['PA'], 5)\n",
    "batting_1999['TTO'] = round((batting_1999['HR'] + batting_1999['BB'] + batting_1999['SO']) / batting_1999['PA'], 5)\n",
    "batting_1994['TTO'] = round((batting_1994['HR'] + batting_1994['BB'] + batting_1994['SO']) / batting_1994['PA'], 5)\n",
    "batting_1989['TTO'] = round((batting_1989['HR'] + batting_1989['BB'] + batting_1989['SO']) / batting_1989['PA'], 5)\n",
    "# Adds a new row called 'TTO' to each dataset, which is the TTO value for each team in that given season"
   ]
  },
  {
   "cell_type": "markdown",
   "id": "curious-western",
   "metadata": {},
   "source": [
    "##### Cleaning out extraneous rows in the attendance dataset"
   ]
  },
  {
   "cell_type": "code",
   "execution_count": 68,
   "id": "selected-fence",
   "metadata": {},
   "outputs": [],
   "source": [
    "attendance['2017'][3] = attendance['2017'][2]\n",
    "attendance['2018'][3] = attendance['2018'][2]\n",
    "attendance['2019'][3] = attendance['2019'][2]\n",
    "attendance = attendance.drop(index = 2)\n",
    "# Due to the Atlanta Braves changing their stadium in 2017, that counts as a new index in the dataset I am using\n",
    "# But it is the same team, so we can just count it as one index, and get rid of the NaN values, with these few lines of code"
   ]
  },
  {
   "cell_type": "markdown",
   "id": "respective-category",
   "metadata": {},
   "source": [
    "I chose to keep the old field for the Atlanta Braves as the field name that will stay in the dataset, just because that field was there for longer in the decade. Simiarly, the Miami Marlins were in Miami, as opposed to Florida (even though the city of Miami is in the state of Florida), for longer so I kept the index that has the location as Miami. This also stays consistent with the \"MIA\" abbreviation the Marlins have in the TTO datasets I am using. "
   ]
  },
  {
   "cell_type": "code",
   "execution_count": 69,
   "id": "grateful-punishment",
   "metadata": {},
   "outputs": [],
   "source": [
    "attendance['2010'][17] = attendance['2010'][12]\n",
    "attendance['2011'][17] = attendance['2011'][12]\n",
    "attendance = attendance.drop(index = 12)\n",
    "# The Florida Marlins moved cities, changing their name to the Miami Marlins in 2012\n",
    "# This also causes a new index in the dataset, which I do not need, so I will combine these two"
   ]
  },
  {
   "cell_type": "markdown",
   "id": "yellow-recipient",
   "metadata": {},
   "source": [
    "##### Converting strings into ints"
   ]
  },
  {
   "cell_type": "code",
   "execution_count": 70,
   "id": "ordered-ceiling",
   "metadata": {},
   "outputs": [],
   "source": [
    "attendance['2010'] = attendance['2010'].replace(\",\", \"\", regex=True)\n",
    "attendance['2011'] = attendance['2011'].replace(\",\", \"\", regex=True)\n",
    "attendance['2012'] = attendance['2012'].replace(\",\", \"\", regex=True)\n",
    "attendance['2013'] = attendance['2013'].replace(\",\", \"\", regex=True)\n",
    "attendance['2014'] = attendance['2014'].replace(\",\", \"\", regex=True)\n",
    "attendance['2015'] = attendance['2015'].replace(\",\", \"\", regex=True)\n",
    "attendance['2016'] = attendance['2016'].replace(\",\", \"\", regex=True)\n",
    "attendance['2017'] = attendance['2017'].replace(\",\", \"\", regex=True)\n",
    "attendance['2018'] = attendance['2018'].replace(\",\", \"\", regex=True)\n",
    "attendance['2019'] = attendance['2019'].replace(\",\", \"\", regex=True)\n",
    "attendance['Total'] = attendance['Total'].replace(\",\", \"\", regex=True)\n",
    "\n",
    "# This removes all the commas from the strings in the dataframe, which will allow me to convert them to ints"
   ]
  },
  {
   "cell_type": "code",
   "execution_count": 71,
   "id": "cardiovascular-organic",
   "metadata": {},
   "outputs": [],
   "source": [
    "attendance['2010'] = pd.to_numeric(attendance['2010'])\n",
    "attendance['2011'] = pd.to_numeric(attendance['2011'])\n",
    "attendance['2012'] = pd.to_numeric(attendance['2012'])\n",
    "attendance['2013'] = pd.to_numeric(attendance['2013'])\n",
    "attendance['2014'] = pd.to_numeric(attendance['2014'])\n",
    "attendance['2015'] = pd.to_numeric(attendance['2015'])\n",
    "attendance['2016'] = pd.to_numeric(attendance['2016'])\n",
    "attendance['2017'] = pd.to_numeric(attendance['2017'])\n",
    "attendance['2018'] = pd.to_numeric(attendance['2018'])\n",
    "attendance['2019'] = pd.to_numeric(attendance['2019'])\n",
    "\n",
    "# This makes all the strings of numbers in the dataset into actual ints, which allows for mathematical calculations"
   ]
  },
  {
   "cell_type": "markdown",
   "id": "passive-intention",
   "metadata": {},
   "source": [
    "##### Adjusting totals column"
   ]
  },
  {
   "cell_type": "code",
   "execution_count": 72,
   "id": "private-prophet",
   "metadata": {},
   "outputs": [],
   "source": [
    "attendance.loc[3, 'Total'] = attendance.loc[3, '2010':'2019'].sum()\n",
    "attendance.loc[17, 'Total'] = attendance.loc[17, '2010':'2019'].sum()\n",
    "\n",
    "# This adjusts the Totals column at the end to have the total from both Atlanta Braves' fields and both Marlins teams in the 2010's decade"
   ]
  },
  {
   "cell_type": "markdown",
   "id": "american-effort",
   "metadata": {},
   "source": [
    "### Data Science "
   ]
  },
  {
   "cell_type": "markdown",
   "id": "permanent-checklist",
   "metadata": {},
   "source": [
    "#### Let's check to see if the distribution of TTO values in a given season is normal"
   ]
  },
  {
   "cell_type": "code",
   "execution_count": 73,
   "id": "capable-ethics",
   "metadata": {},
   "outputs": [
    {
     "data": {
      "image/png": "[encoded data removed]",
      "text/plain": [
       "<Figure size 432x288 with 1 Axes>"
      ]
     },
     "metadata": {
      "needs_background": "light"
     },
     "output_type": "display_data"
    }
   ],
   "source": [
    "batting_2019['TTO'].hist(bins = 10)\n",
    "plt.xlabel(\"TTO Rate\")\n",
    "plt.ylabel(\"Frequency\")\n",
    "plt.title(\"2019 TTO Distribution\")\n",
    "plt.show()"
   ]
  },
  {
   "cell_type": "code",
   "execution_count": 74,
   "id": "plastic-triumph",
   "metadata": {},
   "outputs": [
    {
     "data": {
      "image/png": "[encoded data removed]",
      "text/plain": [
       "<Figure size 432x288 with 1 Axes>"
      ]
     },
     "metadata": {
      "needs_background": "light"
     },
     "output_type": "display_data"
    }
   ],
   "source": [
    "batting_2009['TTO'].hist(bins = 10, color='green')\n",
    "plt.xlabel(\"TTO Rate\")\n",
    "plt.ylabel(\"Frequency\")\n",
    "plt.title(\"2009 TTO Distribution\")\n",
    "plt.show()"
   ]
  },
  {
   "cell_type": "markdown",
   "id": "composed-florida",
   "metadata": {},
   "source": [
    "We can see the graphs are not really normal. Generally more values clump together towards the middle and smaller frequency values are seen towards the ends. But they do not quite trend enough to be considered normal."
   ]
  },
  {
   "cell_type": "markdown",
   "id": "general-abraham",
   "metadata": {},
   "source": [
    "#### Let's also check to see if the distribution of fan attendance in a given season is normal"
   ]
  },
  {
   "cell_type": "code",
   "execution_count": 75,
   "id": "split-premium",
   "metadata": {},
   "outputs": [
    {
     "data": {
      "image/png": "[encoded data removed]",
      "text/plain": [
       "<Figure size 432x288 with 1 Axes>"
      ]
     },
     "metadata": {
      "needs_background": "light"
     },
     "output_type": "display_data"
    }
   ],
   "source": [
    "attendance['2019'].tail(-1).hist(bins = 10, color='orange')\n",
    "plt.xlabel(\"Attendance (in millions of fans)\")\n",
    "plt.ylabel(\"Frequency\")\n",
    "plt.title(\"2019 MLB Fan Attendance Distribution\")\n",
    "plt.show()"
   ]
  },
  {
   "cell_type": "code",
   "execution_count": 76,
   "id": "careful-diploma",
   "metadata": {},
   "outputs": [
    {
     "data": {
      "image/png": "[encoded data removed]",
      "text/plain": [
       "<Figure size 432x288 with 1 Axes>"
      ]
     },
     "metadata": {
      "needs_background": "light"
     },
     "output_type": "display_data"
    }
   ],
   "source": [
    "attendance['2012'].tail(-1).hist(bins = 10, color='red')\n",
    "plt.xlabel(\"Attendance (in millions of fans)\")\n",
    "plt.ylabel(\"Frequency\")\n",
    "plt.title(\"2012 MLB Fan Attendance Distribution\")\n",
    "plt.show()"
   ]
  },
  {
   "cell_type": "markdown",
   "id": "corresponding-boulder",
   "metadata": {},
   "source": [
    "We can see the distribution of attendance is not normal. 1.5-1.75 million seems to be a common range, but that is on the lower end of the spectrum of values here."
   ]
  },
  {
   "cell_type": "markdown",
   "id": "italian-cream",
   "metadata": {},
   "source": [
    "Now let's look at the TTO values over time, looking at every 5 years between 1989 to 2019 (inclusive). "
   ]
  },
  {
   "cell_type": "code",
   "execution_count": 77,
   "id": "proud-suspect",
   "metadata": {},
   "outputs": [
    {
     "data": {
      "image/png": "[encoded data removed]",
      "text/plain": [
       "<Figure size 432x288 with 1 Axes>"
      ]
     },
     "metadata": {
      "needs_background": "light"
     },
     "output_type": "display_data"
    }
   ],
   "source": [
    "TTO_values = [batting_1989.loc[26, 'TTO'], batting_1994.loc[28, 'TTO'], batting_1999.loc[30, 'TTO'], batting_2004.loc[30, 'TTO'], batting_2009.loc[30, 'TTO'], batting_2014.loc[30, 'TTO'], batting_2019.loc[30, 'TTO']]\n",
    "Years = [1989, 1994, 1999, 2004, 2009, 2014, 2019]\n",
    "plt.plot(Years, TTO_values, color='red')\n",
    "plt.xlabel(\"Year\")\n",
    "plt.ylabel(\"TTO Rate\")\n",
    "plt.title(\"TTO Rate across the MLB over time\")\n",
    "plt.show()"
   ]
  },
  {
   "cell_type": "markdown",
   "id": "lesser-seven",
   "metadata": {},
   "source": [
    "We can see the TTO rate has been increasing almost every 5 years from 1989 to 2019. This shows a general increasing trend of home runs, strikeouts, and walks over the last 30 years of the MLB."
   ]
  },
  {
   "cell_type": "markdown",
   "id": "facial-network",
   "metadata": {},
   "source": [
    "To compare more recent values, let's look at a boxplot of the 2012 TTO rates across the league versus those in 2019."
   ]
  },
  {
   "cell_type": "code",
   "execution_count": 78,
   "id": "preliminary-union",
   "metadata": {},
   "outputs": [
    {
     "data": {
      "image/png": "[encoded data removed]",
      "text/plain": [
       "<Figure size 432x288 with 1 Axes>"
      ]
     },
     "metadata": {
      "needs_background": "light"
     },
     "output_type": "display_data"
    }
   ],
   "source": [
    "TTO_arrays = [batting_2012['TTO'].head(-1), batting_2019['TTO'].head(-1)]\n",
    "sns.boxplot(data = TTO_arrays, palette = ['orange', 'purple']).set(xlabel='Seasons', ylabel='TTO Rate')\n",
    "plt.show()"
   ]
  },
  {
   "cell_type": "markdown",
   "id": "intimate-drunk",
   "metadata": {},
   "source": [
    "The 2012 TTO rate is on the left (in the orange) and the 2019 TTO rate is on the right (in the purple). We can see that the 2019 TTO rate is higher for almost all values, showing a significant increase across the league. Now in the 2019 plot, there is an outlier very far down, around .29, which is the Pittsburgh Pirates. Keep the Pirates in mind with this next plot."
   ]
  },
  {
   "cell_type": "code",
   "execution_count": 80,
   "id": "excess-smart",
   "metadata": {},
   "outputs": [],
   "source": [
    "team_TTOchange = batting_2019['TTO'].head(-1) - batting_2012['TTO'].head(-1)\n",
    "#team_TTOchange\n",
    "# Each index 0-29 represents 1 of the 30 MLB teams, the same order they appear in either the 2012, 2014, or 2019 datasets that appear in this project"
   ]
  },
  {
   "cell_type": "code",
   "execution_count": 81,
   "id": "imperial-student",
   "metadata": {},
   "outputs": [
    {
     "data": {
      "image/png": "[encoded data removed]",
      "text/plain": [
       "<Figure size 432x288 with 1 Axes>"
      ]
     },
     "metadata": {
      "needs_background": "light"
     },
     "output_type": "display_data"
    }
   ],
   "source": [
    "plt.bar([i for i in range (0,30)], [team_TTOchange[i] for i in range (0,30)], color = 'blue')\n",
    "plt.xticks([j for j in range (0,31,5)])\n",
    "plt.xlabel(\"MLB Team Index - Alphabetical\")\n",
    "plt.ylabel(\"TTO Increase\")\n",
    "plt.title(\"TTO Increase from 2012 to 2019 by team\")\n",
    "plt.show()"
   ]
  },
  {
   "cell_type": "markdown",
   "id": "unlikely-north",
   "metadata": {},
   "source": [
    "We can see that almost every single team in the league had an increase in TTO rate, with the only exception being the Pittsburgh Pirates. 29 out of 30 teams saw its TTO rate increase in from 2012 to 2019, which shows this as a league-wide trend, much more than just a fluke for a few teams. This graph in addition to the previous boxplot show the consistency of the general increase in TTO rate."
   ]
  },
  {
   "cell_type": "markdown",
   "id": "pleasant-opinion",
   "metadata": {},
   "source": [
    "For a reference with the team indexes, here is a chart below to show which index is associated to which team (note they are alphabetical by 3 letter abbreviation)."
   ]
  },
  {
   "cell_type": "code",
   "execution_count": 84,
   "id": "light-motel",
   "metadata": {},
   "outputs": [
    {
     "data": {
      "text/plain": [
       "0       ARI\n",
       "1       ATL\n",
       "2       BAL\n",
       "3       BOS\n",
       "4       CHC\n",
       "5       CHW\n",
       "6       CIN\n",
       "7       CLE\n",
       "8       COL\n",
       "9       DET\n",
       "10      HOU\n",
       "11      KCR\n",
       "12      LAA\n",
       "13      LAD\n",
       "14      MIA\n",
       "15      MIL\n",
       "16      MIN\n",
       "17      NYM\n",
       "18      NYY\n",
       "19      OAK\n",
       "20      PHI\n",
       "21      PIT\n",
       "22      SDP\n",
       "23      SEA\n",
       "24      SFG\n",
       "25      STL\n",
       "26      TBR\n",
       "27      TEX\n",
       "28      TOR\n",
       "29      WSN\n",
       "30    LgAvg\n",
       "Name: Tm, dtype: object"
      ]
     },
     "execution_count": 84,
     "metadata": {},
     "output_type": "execute_result"
    }
   ],
   "source": [
    "batting_2019['Tm']"
   ]
  },
  {
   "cell_type": "markdown",
   "id": "distinguished-colonial",
   "metadata": {},
   "source": [
    "Now let's do a similar process, looking at the boxplots of 2012 fan attendance versus 2019 fan attendance."
   ]
  },
  {
   "cell_type": "code",
   "execution_count": 89,
   "id": "radio-gateway",
   "metadata": {},
   "outputs": [
    {
     "data": {
      "image/png": "[encoded data removed]",
      "text/plain": [
       "<Figure size 432x288 with 1 Axes>"
      ]
     },
     "metadata": {
      "needs_background": "light"
     },
     "output_type": "display_data"
    }
   ],
   "source": [
    "att_arrays = [attendance.loc[1:32, '2012'], attendance.loc[1:32, '2019']]\n",
    "sns.boxplot(data = att_arrays, palette = ['orange', 'purple']).set(xlabel='Seasons', ylabel='Fan Attendance (in millions)')\n",
    "#plt.xticks([2012, 2019])\n",
    "plt.show()"
   ]
  },
  {
   "cell_type": "markdown",
   "id": "pending-permit",
   "metadata": {},
   "source": [
    "With the 2012 (orange) fan attendance on the left  and the 2019 (purple) fan attendance on the right, we can see the attendance generally went somewhat down, but not by too much. The median is about the same, but the Q1 and minimum are much lower, with the Q3 very slightly lower, so that points to a generally decreasing trend. Although the maximum did increase from 2012 to 2019 actually. "
   ]
  },
  {
   "cell_type": "code",
   "execution_count": 91,
   "id": "olympic-roller",
   "metadata": {},
   "outputs": [],
   "source": [
    "team_TTO_percentchange = round(team_TTOchange / batting_2012['TTO'].head(-1), 5)\n",
    "## Making this a percentage will make it easier to compare to the attendance change percentage and see any correlation between the two\n",
    "\n",
    "attendance['Change'] = attendance['2019'] - attendance['2012']\n",
    "attendance['% change'] = round(attendance['Change']/attendance['2012'], 5)"
   ]
  },
  {
   "cell_type": "code",
   "execution_count": 96,
   "id": "demonstrated-monaco",
   "metadata": {},
   "outputs": [
    {
     "data": {
      "image/png": "[encoded data removed]",
      "text/plain": [
       "<Figure size 432x288 with 1 Axes>"
      ]
     },
     "metadata": {
      "needs_background": "light"
     },
     "output_type": "display_data"
    }
   ],
   "source": [
    "plt.scatter([i for i in range (0,30)], attendance.loc[1:32, '% change'], color='red')\n",
    "plt.scatter([i for i in range (0,30)], [team_TTO_percentchange[i] for i in range (0,30)], color='blue')\n",
    "plt.yticks([-.8, -.6, -.4, -.2, 0, .2, .4, .6, .8])\n",
    "plt.xlabel(\"MLB Team Index\")\n",
    "plt.ylabel(\"Percent Change\")\n",
    "plt.title(\"TTO Increase vs Fan Attendance Decrease\")\n",
    "plt.legend(['Attendance', 'TTO Rate'])\n",
    "plt.show()"
   ]
  },
  {
   "cell_type": "code",
   "execution_count": 95,
   "id": "auburn-husband",
   "metadata": {
    "tags": []
   },
   "outputs": [
    {
     "data": {
      "text/plain": [
       "SpearmanrResult(correlation=0.006006674082313682, pvalue=0.9748690768685238)"
      ]
     },
     "execution_count": 95,
     "metadata": {},
     "output_type": "execute_result"
    }
   ],
   "source": [
    "stats.spearmanr(attendance.loc[1:32, '% change'], [team_TTO_percentchange[i] for i in range (0,30)])"
   ]
  },
  {
   "cell_type": "code",
   "execution_count": null,
   "id": "unsigned-cornwall",
   "metadata": {
    "tags": []
   },
   "outputs": [],
   "source": []
  },
  {
   "cell_type": "markdown",
   "id": "economic-setup",
   "metadata": {},
   "source": [
    "## Interpreting Results:\n",
    "\n",
    "We can see that fan attendance is considerably decreasing and that the TTO % is considerably increasing, but it is difficult to prove the causation between the two. On the surface it makes sense to draw a connection, as most fans do not want to pay money to see more boring Walks and Strikeouts, and that could explain a decrease in fan attendance. But, the reality is that there are many other factors that would affect a fan's willingness and desire to come to a baseball game, including weather, free time, financial situation of fans, and more. \n"
   ]
  },
  {
   "cell_type": "markdown",
   "id": "answering-macro",
   "metadata": {},
   "source": [
    "## Ethical Concerns: \n",
    "\n",
    "\n",
    "Major League Baseball has already adjusted some rules to the game to try to make the games more exciting and dynamic to watch. In 2019, the MLB added a rule that a pitcher must pitch to at least 3 batters, barring an injury or the end of the half inning. This was designed to mitigate the slow process of relief pitchers coming in for just 1 batter, which made the games longer, and generally less entertaining. Some additional rule changes like a pitch clock, larger strikezone, or a farther back mound are being considered to help speed up the game and make fans want to watch more. This is relevant to the TTO statistic because some of these changes could decrease walks, decrease home runs, and likely increase the number of balls in play. If this project were to find its way to the MLB, and they realized there could be a connection between an increasing TTO rate and decreasing fan attendance, they would want to do everything they can to decrease the TTO rate. This could mean expediting rule changes, like the aforementioned pitch clock, larger strikezone, and/or farther mound to help the batters. This would hopefully result in more balls batted in play, more runners on base, and more dynamic, exciting baseball. \n",
    "\n",
    "\n",
    "On the other side of that, more rule changes could complicate the viewing experience for fans, maybe to a point that fans do not want to watch baseball as much and would come to games even less. When it comes to rule changes, the MLB has a difficult task of trying to keep the game of baseball's core values, while also being willing to adapt and change to make the game better. There's a delicate balance that the MLB has to find and the tremendous increase in TTO rate as of late brings up the topic of any potential rule changes to the surface.\n",
    "\n",
    "\n",
    "One of the stakeholders in the increase of TTO plate appearances is the fans themselves. There is the factor of fans going or not going to games, but beyond the field itself, fans are talking about TTO as a metric. Fans are even looking up to certain players like [Adam Dunn](https://www.youtube.com/watch?v=jiZfc0b2t3Q) or Rob Deer for their oddly specific skill of rarely making the fielders have to ... field. With how popular sabermetrics has become, maybe more and more fans are getting interested in the analytics side of the game rather than paying money to go watch a game live. \n",
    "\n",
    "\n",
    "Another group of people involved is the players. If the players become hyper-aware of their increasing TTO rate, maybe some of them aim to hit the ball in play more and keep their TTO rates low. Certainly, these players that strive to put the ball in play still exist. Take [Hanser Alberto](https://www.baseball-reference.com/players/a/alberha01.shtml), a former infielder for the Baltimore Orioles, who finished the 2019 season with a .14182 TTO rate, which is way below the league average. But also, people like to be rebellious and some players might further accentuate the problem of increasing TTO rate even if they are aware. \n",
    "\n",
    "\n",
    "If the decrease of fans gets drastic enough, teams might have to lay off workers, both personnel in the team and people who work at the stadium. During the 2020 season, due to COVID, [39,000 stadium workers](https://www.thenation.com/article/society/baseball-stadium-workers-crisis/) lost their jobs. Now, that was a much more extreme case when there were not allowed to be any fans at all, so there were many more layoffs, but that could be the reality for some ballpark workers if the decrease in fans is consistent enough the next decade. Then if the loss of revenue gets large enough, certain players might be laid off and/or some teams might not quite have the finances needed to give the players the salaries they are demanding. The decrease in fan attendance could become a bigger issue if it continues. "
   ]
  },
  {
   "cell_type": "code",
   "execution_count": null,
   "id": "furnished-table",
   "metadata": {},
   "outputs": [],
   "source": []
  }
 ],
 "metadata": {
  "kernelspec": {
   "display_name": "Python 3",
   "language": "python",
   "name": "python3"
  },
  "language_info": {
   "codemirror_mode": {
    "name": "ipython",
    "version": 3
   },
   "file_extension": ".py",
   "mimetype": "text/x-python",
   "name": "python",
   "nbconvert_exporter": "python",
   "pygments_lexer": "ipython3",
   "version": "3.9.4"
  }
 },
 "nbformat": 4,
 "nbformat_minor": 5
}
