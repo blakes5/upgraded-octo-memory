{
 "cells": [
  {
   "cell_type": "markdown",
   "id": "thick-ireland",
   "metadata": {},
   "source": [
    "# **The Three True Outcomes of Baseball**"
   ]
  },
  {
   "cell_type": "markdown",
   "id": "cubic-brand",
   "metadata": {},
   "source": [
    "## Problem:"
   ]
  },
  {
   "cell_type": "markdown",
   "id": "anticipated-alert",
   "metadata": {},
   "source": [
    "The impact of the increase of the \"Three True Outcomes\" in Major League Baseball on fan attendance of games."
   ]
  },
  {
   "cell_type": "markdown",
   "id": "juvenile-search",
   "metadata": {},
   "source": []
  },
  {
   "cell_type": "markdown",
   "id": "assisted-score",
   "metadata": {},
   "source": []
  },
  {
   "cell_type": "markdown",
   "id": "established-argument",
   "metadata": {},
   "source": []
  },
  {
   "cell_type": "code",
   "execution_count": 1,
   "id": "fabulous-homeless",
   "metadata": {},
   "outputs": [],
   "source": [
    "import pandas as pd\n",
    "from scipy import stats\n",
    "from scipy.stats import norm\n",
    "import matplotlib.pyplot as plt"
   ]
  },
  {
   "cell_type": "code",
   "execution_count": 3,
   "id": "tender-india",
   "metadata": {},
   "outputs": [],
   "source": [
    "attendance = pd.read_csv(\"Attendance.csv\")\n",
    "#attendance"
   ]
  },
  {
   "cell_type": "code",
   "execution_count": 21,
   "id": "exclusive-surveillance",
   "metadata": {},
   "outputs": [
    {
     "data": {
      "text/plain": [
       "0.30443"
      ]
     },
     "execution_count": 21,
     "metadata": {},
     "output_type": "execute_result"
    }
   ],
   "source": [
    "batting_2012 = pd.read_excel(\"2012.xlsx\")\n",
    "batting_2012.loc[31, 'Tm'] = 'Total'\n",
    "##batting_2012\n",
    "TTO_2012 = round((batting_2012.loc[31, 'HR'] + batting_2012.loc[31, 'BB'] + batting_2012.loc[31, 'SO']) \n",
    "                 / batting_2012.loc[31, 'PA'], 5)\n",
    "TTO_2012\n",
    "\n",
    "## MIGHT NOT END UP USING 2012 DATA"
   ]
  },
  {
   "cell_type": "markdown",
   "id": "planned-above",
   "metadata": {},
   "source": [
    "### Reading in excel files (1989-2019 every 5 years)"
   ]
  },
  {
   "cell_type": "code",
   "execution_count": 58,
   "id": "corresponding-feeling",
   "metadata": {},
   "outputs": [],
   "source": [
    "# Add a for loop to do all this"
   ]
  },
  {
   "cell_type": "code",
   "execution_count": 82,
   "id": "shaped-determination",
   "metadata": {},
   "outputs": [
    {
     "data": {
      "text/plain": [
       "0.35114"
      ]
     },
     "execution_count": 82,
     "metadata": {},
     "output_type": "execute_result"
    }
   ],
   "source": [
    "batting_2019 = pd.read_excel(\"2019.xlsx\")\n",
    "batting_2019.loc[31, 'Tm'] = 'Total'\n",
    "##batting_2019\n",
    "TTO_2019a = round((batting_2019.loc[31, 'HR'] + batting_2019.loc[31, 'BB'] + batting_2019.loc[31, 'SO']) \n",
    "                 / batting_2019.loc[31, 'PA'], 5)\n",
    "TTO_2019a"
   ]
  },
  {
   "cell_type": "code",
   "execution_count": 3,
   "id": "wound-madagascar",
   "metadata": {},
   "outputs": [
    {
     "data": {
      "text/plain": [
       "0.30255"
      ]
     },
     "execution_count": 3,
     "metadata": {},
     "output_type": "execute_result"
    }
   ],
   "source": [
    "batting_2014 = pd.read_excel(\"2014.xlsx\")\n",
    "batting_2014.loc[31, 'Tm'] = 'Total'\n",
    "batting_2014\n",
    "TTO_2014a = round((batting_2014.loc[31, 'HR'] + batting_2014.loc[31, 'BB'] + batting_2014.loc[31, 'SO']) \n",
    "                 / batting_2014.loc[31, 'PA'], 5)\n",
    "TTO_2014a"
   ]
  },
  {
   "cell_type": "code",
   "execution_count": 4,
   "id": "tight-compensation",
   "metadata": {},
   "outputs": [
    {
     "data": {
      "text/plain": [
       "0.29535"
      ]
     },
     "execution_count": 4,
     "metadata": {},
     "output_type": "execute_result"
    }
   ],
   "source": [
    "batting_2009 = pd.read_excel(\"2009.xlsx\")\n",
    "##batting_2009\n",
    "TTO_2009a = round((batting_2009.loc[31, 'HR'] + batting_2009.loc[31, 'BB'] + batting_2009.loc[31, 'SO']) \n",
    "                 / batting_2009.loc[31, 'PA'], 5)\n",
    "TTO_2009a"
   ]
  },
  {
   "cell_type": "code",
   "execution_count": 5,
   "id": "rough-finance",
   "metadata": {},
   "outputs": [
    {
     "data": {
      "text/plain": [
       "0.28377"
      ]
     },
     "execution_count": 5,
     "metadata": {},
     "output_type": "execute_result"
    }
   ],
   "source": [
    "batting_2004 = pd.read_excel(\"2004.xlsx\")\n",
    "batting_2004.loc[31, 'Tm'] = 'Total'\n",
    "##batting_2004\n",
    "TTO_2004a = round((batting_2004.loc[31, 'HR'] + batting_2004.loc[31, 'BB'] + batting_2004.loc[31, 'SO']) \n",
    "                / batting_2004.loc[31, 'PA'], 5)\n",
    "TTO_2004a"
   ]
  },
  {
   "cell_type": "code",
   "execution_count": 88,
   "id": "resistant-laugh",
   "metadata": {},
   "outputs": [
    {
     "data": {
      "text/plain": [
       "0.28751"
      ]
     },
     "execution_count": 88,
     "metadata": {},
     "output_type": "execute_result"
    }
   ],
   "source": [
    "batting_1999 = pd.read_excel(\"1999.xlsx\")\n",
    "##batting_1999\n",
    "TTO_1999a = round((batting_1999.loc[31, 'HR'] + batting_1999.loc[31, 'BB'] + batting_1999.loc[31, 'SO']) \n",
    "                 / batting_1999.loc[31, 'PA'], 5)\n",
    "TTO_1999a"
   ]
  },
  {
   "cell_type": "code",
   "execution_count": 7,
   "id": "clinical-twins",
   "metadata": {},
   "outputs": [
    {
     "data": {
      "text/plain": [
       "0.27476"
      ]
     },
     "execution_count": 7,
     "metadata": {},
     "output_type": "execute_result"
    }
   ],
   "source": [
    "batting_1994 = pd.read_excel(\"1994.xlsx\")\n",
    "batting_1994.loc[29, 'Tm'] = 'Total'\n",
    "batting_1994\n",
    "TTO_1994a = round((batting_1994.loc[29, 'HR'] + batting_1994.loc[29, 'BB'] + batting_1994.loc[29, 'SO']) \n",
    "                 / batting_1994.loc[29, 'PA'], 5)\n",
    "TTO_1994a"
   ]
  },
  {
   "cell_type": "code",
   "execution_count": 8,
   "id": "adequate-wells",
   "metadata": {},
   "outputs": [
    {
     "data": {
      "text/plain": [
       "0.25158"
      ]
     },
     "execution_count": 8,
     "metadata": {},
     "output_type": "execute_result"
    }
   ],
   "source": [
    "batting_1989 = pd.read_excel(\"1989.xlsx\")\n",
    "batting_1989.loc[27, 'Tm'] = 'Total'\n",
    "##batting_1989\n",
    "TTO_1989a = round((batting_1989.loc[27, 'HR'] + batting_1989.loc[27, 'BB'] + batting_1989.loc[27, 'SO']) \n",
    "                 / batting_1989.loc[27, 'PA'], 5)\n",
    "TTO_1989a"
   ]
  },
  {
   "cell_type": "code",
   "execution_count": 59,
   "id": "corresponding-cemetery",
   "metadata": {},
   "outputs": [
    {
     "data": {
      "image/png": "[encoded data removed]",
      "text/plain": [
       "<Figure size 432x288 with 1 Axes>"
      ]
     },
     "metadata": {
      "needs_background": "light"
     },
     "output_type": "display_data"
    }
   ],
   "source": [
    "TTO_avalues = [TTO_1989a, TTO_1994a, TTO_1999a, TTO_2004a, TTO_2009a, TTO_2014a, TTO_2019a]\n",
    "Years = [1989, 1994, 1999, 2004, 2009, 2014, 2019]\n",
    "plt.plot(Years, TTO_avalues)\n",
    "plt.show()\n",
    "\n",
    "# ADD LABELS"
   ]
  },
  {
   "cell_type": "markdown",
   "id": "expired-middle",
   "metadata": {},
   "source": [
    "### Adding TTO column to datasets"
   ]
  },
  {
   "cell_type": "markdown",
   "id": "neutral-strip",
   "metadata": {},
   "source": [
    "##### Will not keep the following section, could be much cleaner"
   ]
  },
  {
   "cell_type": "code",
   "execution_count": 31,
   "id": "declared-jones",
   "metadata": {},
   "outputs": [],
   "source": [
    "# Don't need for graph below\n",
    "batting_2012['TTO'] = 7\n",
    "for i in range(31): \n",
    "    batting_2012.loc[i, 'TTO'] = round((batting_2012.loc[i, 'HR'] + batting_2012.loc[i, 'BB'] + batting_2012.loc[i, 'SO']) \n",
    "                                   / batting_2012.loc[i, 'PA'], 5)\n",
    "batting_2012.loc[31, 'TTO'] = '-'\n",
    "# Don't need for graph below "
   ]
  },
  {
   "cell_type": "code",
   "execution_count": 32,
   "id": "resistant-petite",
   "metadata": {},
   "outputs": [
    {
     "data": {
      "text/plain": [
       "(0.35113, 0.35114)"
      ]
     },
     "execution_count": 32,
     "metadata": {},
     "output_type": "execute_result"
    }
   ],
   "source": [
    "batting_2019['TTO'] = 7\n",
    "for i in range(31): \n",
    "    batting_2019.loc[i, 'TTO'] = round((batting_2019.loc[i, 'HR'] + batting_2019.loc[i, 'BB'] + batting_2019.loc[i, 'SO']) \n",
    "                                   / batting_2019.loc[i, 'PA'], 5)\n",
    "batting_2019.loc[31, 'TTO'] = '-'\n",
    "\n",
    "# This might be an easier way to get the TTO stats since it also allows me to see the TTO number for each team\n",
    "TTO_2019b = batting_2019.loc[30, 'TTO']\n",
    "TTO_2019b, TTO_2019a\n",
    "# I wanted to compare the accuracy of calculating the TTO numbers for each year from the average of each team's TTO (2019b) \n",
    "# versus the TTO of the total HRs, SOs, and BBS (2019a)"
   ]
  },
  {
   "cell_type": "code",
   "execution_count": 11,
   "id": "caring-caution",
   "metadata": {},
   "outputs": [
    {
     "data": {
      "text/plain": [
       "(0.30256, 0.30255)"
      ]
     },
     "execution_count": 11,
     "metadata": {},
     "output_type": "execute_result"
    }
   ],
   "source": [
    "batting_2014['TTO'] = 7\n",
    "for i in range(31): \n",
    "    batting_2014.loc[i, 'TTO'] = round((batting_2014.loc[i, 'HR'] + batting_2014.loc[i, 'BB'] + batting_2014.loc[i, 'SO']) \n",
    "                                   / batting_2014.loc[i, 'PA'], 5)\n",
    "batting_2014.loc[31, 'TTO'] = '-'\n",
    "\n",
    "TTO_2014b = batting_2014.loc[30, 'TTO']\n",
    "TTO_2014b, TTO_2014a"
   ]
  },
  {
   "cell_type": "code",
   "execution_count": 12,
   "id": "special-miracle",
   "metadata": {},
   "outputs": [
    {
     "data": {
      "text/plain": [
       "(0.29538, 0.29535)"
      ]
     },
     "execution_count": 12,
     "metadata": {},
     "output_type": "execute_result"
    }
   ],
   "source": [
    "batting_2009['TTO'] = 7\n",
    "for i in range(31): \n",
    "    batting_2009.loc[i, 'TTO'] = round((batting_2009.loc[i, 'HR'] + batting_2009.loc[i, 'BB'] + batting_2009.loc[i, 'SO']) \n",
    "                                   / batting_2009.loc[i, 'PA'], 5)\n",
    "batting_2009.loc[31, 'TTO'] = '-'\n",
    "\n",
    "TTO_2009b = batting_2009.loc[30, 'TTO']\n",
    "TTO_2009b, TTO_2009a"
   ]
  },
  {
   "cell_type": "code",
   "execution_count": 13,
   "id": "rubber-lying",
   "metadata": {},
   "outputs": [
    {
     "data": {
      "text/plain": [
       "(0.28385, 0.28377)"
      ]
     },
     "execution_count": 13,
     "metadata": {},
     "output_type": "execute_result"
    }
   ],
   "source": [
    "batting_2004['TTO'] = 7\n",
    "for i in range(31): \n",
    "    batting_2004.loc[i, 'TTO'] = round((batting_2004.loc[i, 'HR'] + batting_2004.loc[i, 'BB'] + batting_2004.loc[i, 'SO']) \n",
    "                                   / batting_2004.loc[i, 'PA'], 5)\n",
    "batting_2004.loc[31, 'TTO'] = '-'\n",
    "\n",
    "TTO_2004b = batting_2004.loc[30, 'TTO']\n",
    "TTO_2004b, TTO_2004a"
   ]
  },
  {
   "cell_type": "code",
   "execution_count": 14,
   "id": "bearing-hurricane",
   "metadata": {},
   "outputs": [
    {
     "data": {
      "text/plain": [
       "(0.28736, 0.28751)"
      ]
     },
     "execution_count": 14,
     "metadata": {},
     "output_type": "execute_result"
    }
   ],
   "source": [
    "batting_1999['TTO'] = 7\n",
    "for i in range(31): \n",
    "    batting_1999.loc[i, 'TTO'] = round((batting_1999.loc[i, 'HR'] + batting_1999.loc[i, 'BB'] + batting_1999.loc[i, 'SO']) \n",
    "                                   / batting_1999.loc[i, 'PA'], 5)\n",
    "batting_1999.loc[31, 'TTO'] = '-'\n",
    "\n",
    "TTO_1999b = batting_1999.loc[30, 'TTO']\n",
    "TTO_1999b, TTO_1999a"
   ]
  },
  {
   "cell_type": "code",
   "execution_count": 15,
   "id": "happy-worker",
   "metadata": {},
   "outputs": [
    {
     "data": {
      "text/plain": [
       "(0.27485, 0.27476)"
      ]
     },
     "execution_count": 15,
     "metadata": {},
     "output_type": "execute_result"
    }
   ],
   "source": [
    "batting_1994['TTO'] = 7\n",
    "for i in range(29): \n",
    "    batting_1994.loc[i, 'TTO'] = round((batting_1994.loc[i, 'HR'] + batting_1994.loc[i, 'BB'] + batting_1994.loc[i, 'SO']) \n",
    "                                   / batting_1994.loc[i, 'PA'], 5)\n",
    "batting_1994.loc[29, 'TTO'] = '-'\n",
    "\n",
    "TTO_1994b = batting_1994.loc[28, 'TTO']\n",
    "TTO_1994b, TTO_1994a"
   ]
  },
  {
   "cell_type": "code",
   "execution_count": 16,
   "id": "spatial-belarus",
   "metadata": {},
   "outputs": [
    {
     "data": {
      "text/plain": [
       "(0.25167, 0.25158)"
      ]
     },
     "execution_count": 16,
     "metadata": {},
     "output_type": "execute_result"
    }
   ],
   "source": [
    "batting_1989['TTO'] = 7\n",
    "for i in range(27): \n",
    "    batting_1989.loc[i, 'TTO'] = round((batting_1989.loc[i, 'HR'] + batting_1989.loc[i, 'BB'] + batting_1989.loc[i, 'SO']) \n",
    "                                   / batting_1989.loc[i, 'PA'], 5)\n",
    "batting_1989.loc[27, 'TTO'] = '-'\n",
    "\n",
    "TTO_1989b = batting_1989.loc[26, 'TTO']\n",
    "TTO_1989b, TTO_1989a"
   ]
  },
  {
   "cell_type": "code",
   "execution_count": 17,
   "id": "interested-dominican",
   "metadata": {},
   "outputs": [
    {
     "data": {
      "image/png": "[encoded data removed]",
      "text/plain": [
       "<Figure size 432x288 with 1 Axes>"
      ]
     },
     "metadata": {
      "needs_background": "light"
     },
     "output_type": "display_data"
    }
   ],
   "source": [
    "TTO_bvalues = [TTO_1989b, TTO_1994b, TTO_1999b, TTO_2004b, TTO_2009b, TTO_2014b, TTO_2019b]\n",
    "Years = [1989, 1994, 1999, 2004, 2009, 2014, 2019]\n",
    "plt.plot(Years, TTO_avalues, color='orange')\n",
    "plt.plot(Years, TTO_bvalues, color='purple')\n",
    "plt.show()"
   ]
  },
  {
   "cell_type": "markdown",
   "id": "bulgarian-barbados",
   "metadata": {},
   "source": [
    "We can see the difference between both methods of getting the TTO values is negligible enough to where the bottom of the 2 graphs is completely covered by the top graph, meaning they are ostensibly the same graph. This validates the math behind getting the TTO values for each year from the average of each team's TTO value, and adding a 'TTO' column to the dataset."
   ]
  },
  {
   "cell_type": "markdown",
   "id": "constitutional-convert",
   "metadata": {},
   "source": [
    "#### Cleaned up much more concise version"
   ]
  },
  {
   "cell_type": "code",
   "execution_count": 83,
   "id": "internal-command",
   "metadata": {},
   "outputs": [],
   "source": [
    "batting_2019 = batting_2019.drop(index=31)\n",
    "batting_2014 = batting_2014.drop(index=31)\n",
    "batting_2009 = batting_2009.drop(index=31)\n",
    "batting_2004 = batting_2004.drop(index=31)\n",
    "batting_1999 = batting_1999.drop(index=31)\n",
    "batting_1994 = batting_1994.drop(index=29)\n",
    "batting_1989 = batting_1989.drop(index=27)"
   ]
  },
  {
   "cell_type": "code",
   "execution_count": 94,
   "id": "stable-extreme",
   "metadata": {},
   "outputs": [],
   "source": [
    "#batting_1999['TTO']"
   ]
  },
  {
   "cell_type": "code",
   "execution_count": 95,
   "id": "communist-maintenance",
   "metadata": {},
   "outputs": [],
   "source": [
    "batting_2019['TTO'] = round((batting_2019['HR'] + batting_2019['BB'] + batting_2019['SO']) / batting_2019['PA'], 5)\n",
    "batting_2014['TTO'] = round((batting_2014['HR'] + batting_2014['BB'] + batting_2014['SO']) / batting_2014['PA'], 5)\n",
    "batting_2009['TTO'] = round((batting_2009['HR'] + batting_2009['BB'] + batting_2009['SO']) / batting_2009['PA'], 5)\n",
    "batting_2004['TTO'] = round((batting_2004['HR'] + batting_2004['BB'] + batting_2004['SO']) / batting_2004['PA'], 5)\n",
    "batting_1999['TTO'] = round((batting_1999['HR'] + batting_1999['BB'] + batting_1999['SO']) / batting_1999['PA'], 5)\n",
    "batting_1994['TTO'] = round((batting_1994['HR'] + batting_1994['BB'] + batting_1994['SO']) / batting_1994['PA'], 5)\n",
    "batting_1989['TTO'] = round((batting_1989['HR'] + batting_1989['BB'] + batting_1989['SO']) / batting_1989['PA'], 5)"
   ]
  },
  {
   "cell_type": "code",
   "execution_count": 75,
   "id": "consecutive-correlation",
   "metadata": {},
   "outputs": [
    {
     "name": "stdout",
     "output_type": "stream",
     "text": [
      "ARI\n",
      "ATL\n",
      "BAL\n",
      "BOS\n",
      "CHC\n",
      "CHW\n",
      "CIN\n",
      "CLE\n",
      "COL\n",
      "DET\n",
      "HOU\n",
      "KCR\n",
      "LAA\n",
      "LAD\n",
      "MIA\n",
      "MIL\n",
      "MIN\n",
      "NYM\n",
      "NYY\n",
      "OAK\n",
      "PHI\n",
      "PIT\n",
      "SDP\n",
      "SEA\n",
      "SFG\n",
      "STL\n",
      "TBR\n",
      "TEX\n",
      "TOR\n",
      "WSN\n",
      "LgAvg\n",
      "Total\n"
     ]
    }
   ],
   "source": [
    "for i in batting_2019['Tm']: \n",
    "    print(i)"
   ]
  },
  {
   "cell_type": "markdown",
   "id": "nervous-commonwealth",
   "metadata": {},
   "source": [
    "### Getting each team's average TTO value from 1989-2019 (every 5 years in between)"
   ]
  },
  {
   "cell_type": "code",
   "execution_count": 18,
   "id": "female-dodge",
   "metadata": {},
   "outputs": [
    {
     "data": {
      "text/plain": [
       "0.28527"
      ]
     },
     "execution_count": 18,
     "metadata": {},
     "output_type": "execute_result"
    }
   ],
   "source": [
    "Orioles_TTO = round((batting_1989.loc[1, 'TTO']+batting_1994.loc[1, 'TTO']+batting_1999.loc[3, 'TTO']+batting_2004.loc[3, 'TTO']+batting_2009.loc[2, 'TTO']+batting_2014.loc[2, 'TTO']+batting_2019.loc[2, 'TTO']) / 7, 5)\n",
    "Orioles_TTO"
   ]
  },
  {
   "cell_type": "markdown",
   "id": "static-agreement",
   "metadata": {},
   "source": [
    "Upon further thought, this section might not be worth it. Because of league expansions and name changes, one team does not have the same index every year from 1989-2019 in the different datasets, so I would have to manually check where each team is in the dataset, since they are sorted alphabetically. So when the California Angels (CAL) changed their name to the Anaheim Angels (ANA) in 1997, that moves around the order of some teams, and changes their index between the different datasets. And again when the Anaheim Angels (ANA) changed their name to the Los Angeles Angels (LAA) in 2004, that moved the indices around again. If names changes and league expansions were not a thing, this section would be significantly easier as I could know the Baltimore Orioles (BAL) are always index 2 for example. Which would make it easy to calculate their average TTO throughout this time span, by just getting the 'TTO' at index 2 in each of the datasets and getting the average of those. "
   ]
  },
  {
   "cell_type": "markdown",
   "id": "published-forestry",
   "metadata": {},
   "source": [
    "### Getting each team's change in TTO from 2012 to 2019"
   ]
  },
  {
   "cell_type": "code",
   "execution_count": 48,
   "id": "extensive-lighter",
   "metadata": {},
   "outputs": [
    {
     "data": {
      "text/plain": [
       "0.01479"
      ]
     },
     "execution_count": 48,
     "metadata": {},
     "output_type": "execute_result"
    }
   ],
   "source": [
    "BAL_change = round(batting_2019['TTO'][2]-batting_2012['TTO'][2], 5)\n",
    "BAL_change\n",
    "# I will use this process for all 30 teams to find every teams increase in TTO during that time span"
   ]
  },
  {
   "cell_type": "code",
   "execution_count": 61,
   "id": "linear-viewer",
   "metadata": {},
   "outputs": [],
   "source": [
    "k = 0\n",
    "team_changes = []\n",
    "while (k < 30): \n",
    "    team_changes = team_changes + [round(batting_2019['TTO'][k] - batting_2012['TTO'][k], 5)]\n",
    "    k += 1\n",
    "    \n",
    "#team_changes"
   ]
  },
  {
   "cell_type": "code",
   "execution_count": 73,
   "id": "integrated-visit",
   "metadata": {},
   "outputs": [
    {
     "data": {
      "text/plain": [
       "0     0.01538\n",
       "1     0.04323\n",
       "2     0.01479\n",
       "3     0.05209\n",
       "4     0.06594\n",
       "5     0.04224\n",
       "6     0.03946\n",
       "7     0.05884\n",
       "8     0.05661\n",
       "9     0.06313\n",
       "10    0.00005\n",
       "11    0.07789\n",
       "12    0.04733\n",
       "13    0.06909\n",
       "14    0.02724\n",
       "15    0.08056\n",
       "16    0.06426\n",
       "17    0.02992\n",
       "18    0.05149\n",
       "19    0.00181\n",
       "20    0.07976\n",
       "21   -0.03806\n",
       "22    0.07225\n",
       "23    0.07906\n",
       "24    0.06518\n",
       "25    0.05746\n",
       "26    0.01941\n",
       "27    0.08985\n",
       "28    0.05729\n",
       "29    0.01759\n",
       "Name: TTO, dtype: object"
      ]
     },
     "execution_count": 73,
     "metadata": {},
     "output_type": "execute_result"
    }
   ],
   "source": [
    "batting_2019['TTO'].head(-2) - batting_2012['TTO'].head(-2)"
   ]
  },
  {
   "cell_type": "code",
   "execution_count": 40,
   "id": "false-sally",
   "metadata": {},
   "outputs": [
    {
     "name": "stdout",
     "output_type": "stream",
     "text": [
      "0.34093\n",
      "0.32614\n"
     ]
    }
   ],
   "source": [
    "print(batting_2019['TTO'][2])\n",
    "print(batting_2012['TTO'][2])"
   ]
  },
  {
   "cell_type": "code",
   "execution_count": null,
   "id": "governmental-acting",
   "metadata": {},
   "outputs": [],
   "source": []
  },
  {
   "cell_type": "code",
   "execution_count": 71,
   "id": "heated-enforcement",
   "metadata": {},
   "outputs": [],
   "source": [
    "#batting_2019"
   ]
  },
  {
   "cell_type": "code",
   "execution_count": null,
   "id": "authorized-mentor",
   "metadata": {},
   "outputs": [],
   "source": []
  },
  {
   "cell_type": "markdown",
   "id": "covered-softball",
   "metadata": {},
   "source": []
  }
 ],
 "metadata": {
  "kernelspec": {
   "display_name": "Python 3",
   "language": "python",
   "name": "python3"
  },
  "language_info": {
   "codemirror_mode": {
    "name": "ipython",
    "version": 3
   },
   "file_extension": ".py",
   "mimetype": "text/x-python",
   "name": "python",
   "nbconvert_exporter": "python",
   "pygments_lexer": "ipython3",
   "version": "3.9.4"
  }
 },
 "nbformat": 4,
 "nbformat_minor": 5
}
