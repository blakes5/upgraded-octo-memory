{
 "cells": [
  {
   "cell_type": "markdown",
   "id": "scheduled-attention",
   "metadata": {},
   "source": [
    "# **The Three True Outcomes of Baseball**"
   ]
  },
  {
   "cell_type": "markdown",
   "id": "focused-girlfriend",
   "metadata": {},
   "source": [
    "    - What percentage of Plate Appearances have resulted in one of the TTO in 2012?\n",
    "    - What percentage of Plate Appearances have resulted in one of the TTO in 2019?\n",
    "    - How many fans have attended MLB games in 2012?\n",
    "    - How many fans have attended MLB games in 2019?"
   ]
  },
  {
   "cell_type": "markdown",
   "id": "apparent-frank",
   "metadata": {},
   "source": []
  },
  {
   "cell_type": "markdown",
   "id": "norwegian-witch",
   "metadata": {},
   "source": []
  },
  {
   "cell_type": "markdown",
   "id": "prescription-federation",
   "metadata": {},
   "source": []
  },
  {
   "cell_type": "markdown",
   "id": "employed-ceremony",
   "metadata": {},
   "source": []
  },
  {
   "cell_type": "markdown",
   "id": "republican-adult",
   "metadata": {},
   "source": []
  },
  {
   "cell_type": "markdown",
   "id": "spoken-gregory",
   "metadata": {},
   "source": []
  },
  {
   "cell_type": "markdown",
   "id": "final-professional",
   "metadata": {},
   "source": []
  }
 ],
 "metadata": {
  "kernelspec": {
   "display_name": "Python 3",
   "language": "python",
   "name": "python3"
  },
  "language_info": {
   "codemirror_mode": {
    "name": "ipython",
    "version": 3
   },
   "file_extension": ".py",
   "mimetype": "text/x-python",
   "name": "python",
   "nbconvert_exporter": "python",
   "pygments_lexer": "ipython3",
   "version": "3.9.4"
  }
 },
 "nbformat": 4,
 "nbformat_minor": 5
}
